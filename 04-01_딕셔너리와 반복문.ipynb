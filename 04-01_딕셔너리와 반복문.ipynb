{
 "cells": [
  {
   "cell_type": "code",
   "execution_count": 2,
   "id": "4022bbbb",
   "metadata": {},
   "outputs": [
    {
     "name": "stdout",
     "output_type": "stream",
     "text": [
      "1\n",
      "2\n"
     ]
    }
   ],
   "source": [
    "# 리스트의 구성 element and index \n",
    "x= [1,2,3,4] # elements\n",
    "print(x[0]) # indexs\n",
    "print(x[1])"
   ]
  },
  {
   "cell_type": "code",
   "execution_count": null,
   "id": "f72d76c1",
   "metadata": {},
   "outputs": [],
   "source": []
  },
  {
   "cell_type": "code",
   "execution_count": 4,
   "id": "407cdfa5",
   "metadata": {},
   "outputs": [
    {
     "data": {
      "text/plain": [
       "['modificaiton', 32, 103, 'strings', True, False]"
      ]
     },
     "execution_count": 4,
     "metadata": {},
     "output_type": "execute_result"
    }
   ],
   "source": [
    "# 리스트의 변경\n",
    "# 리스트의 인덱스를 호출  바꾸고싶은 값을 넣는다\n",
    "list_a = [273, 32, 103, 'strings',True,False]\n",
    "\n",
    "list_a[0]= \"modificaiton\"\n",
    "list_a"
   ]
  },
  {
   "cell_type": "code",
   "execution_count": 6,
   "id": "359ca784",
   "metadata": {},
   "outputs": [
    {
     "data": {
      "text/plain": [
       "'strings'"
      ]
     },
     "execution_count": 6,
     "metadata": {},
     "output_type": "execute_result"
    }
   ],
   "source": [
    "# 리스트의 변경 뒤에서부터\n",
    "\n",
    "list_a[-1] # 제일 뒤\n",
    "list_a[-2] # 뒤에서 두번째 \n",
    "list_a[-3] #뒤에서  세번째 "
   ]
  },
  {
   "cell_type": "code",
   "execution_count": 7,
   "id": "9f6ed4a6",
   "metadata": {},
   "outputs": [
    {
     "data": {
      "text/plain": [
       "'m'"
      ]
     },
     "execution_count": 7,
     "metadata": {},
     "output_type": "execute_result"
    }
   ],
   "source": [
    "# 리스트의 요소가 문자일경우 문자열의 시퀀스를 선택하는 방법\n",
    "list_a[0][0]"
   ]
  },
  {
   "cell_type": "code",
   "execution_count": 9,
   "id": "ab8275d5",
   "metadata": {},
   "outputs": [
    {
     "data": {
      "text/plain": [
       "[4, 5, 6]"
      ]
     },
     "execution_count": 9,
     "metadata": {},
     "output_type": "execute_result"
    }
   ],
   "source": [
    "# 리스트 안에 리스트를 사용 하는 것\n",
    "list_a = [[1,2,3],[4,5,6],[7,8,9]]\n",
    "list_a[1]"
   ]
  },
  {
   "cell_type": "code",
   "execution_count": 11,
   "id": "822751db",
   "metadata": {},
   "outputs": [
    {
     "name": "stdout",
     "output_type": "stream",
     "text": [
      "list_a= [1, 2, 3]\n",
      "list_b= [4, 5, 6]\n",
      "list_a + list_b [1, 2, 3, 4, 5, 6]\n",
      "list_a * list_b [1, 2, 3, 1, 2, 3, 1, 2, 3]\n",
      "\n"
     ]
    },
    {
     "data": {
      "text/plain": [
       "3"
      ]
     },
     "execution_count": 11,
     "metadata": {},
     "output_type": "execute_result"
    }
   ],
   "source": [
    "# 리스트의 연결\n",
    "\n",
    "list_a= [1,2,3]\n",
    "list_b= [4,5,6]\n",
    "\n",
    "print(\"list_a=\", list_a)\n",
    "print(\"list_b=\", list_b)\n",
    "\n",
    "print(\"list_a + list_b\", list_a+list_b)\n",
    "print(\"list_a * list_b\", list_a*3)\n",
    "print()\n",
    "\n",
    "#list의 갯수구하기\n",
    "len(list_a)"
   ]
  },
  {
   "cell_type": "code",
   "execution_count": 15,
   "id": "5cbd8e91",
   "metadata": {},
   "outputs": [],
   "source": [
    "list_a=[]\n",
    "for i in range(40):\n",
    "    list_a.append(i)\n",
    "#뒤에 붙이기 \n"
   ]
  },
  {
   "cell_type": "code",
   "execution_count": 16,
   "id": "f58644b8",
   "metadata": {},
   "outputs": [
    {
     "name": "stdout",
     "output_type": "stream",
     "text": [
      "[11, 0, 1, 2, 3, 4, 5, 6, 7, 8, 9, 10, 11, 12, 13, 14, 15, 16, 17, 18, 19, 20, 21, 22, 23, 24, 25, 26, 27, 28, 29, 30, 31, 32, 33, 34, 35, 36, 37, 38, 39]\n"
     ]
    }
   ],
   "source": [
    "#리스트 원하는 부분에 넣기\n",
    "list_a.insert(0,11)\n",
    "print(list_a)"
   ]
  },
  {
   "cell_type": "code",
   "execution_count": 17,
   "id": "1d581ba2",
   "metadata": {},
   "outputs": [
    {
     "name": "stdout",
     "output_type": "stream",
     "text": [
      "[1, 2, 3, 4, 5, 6]\n"
     ]
    }
   ],
   "source": [
    "# 한번에 여러 오쇼 추가하기--extend()\n",
    "list_a = [1,2,3]\n",
    "list_a.extend([4,5,6])\n",
    "print(list_a)"
   ]
  },
  {
   "cell_type": "code",
   "execution_count": 19,
   "id": "d94940c2",
   "metadata": {},
   "outputs": [
    {
     "name": "stdout",
     "output_type": "stream",
     "text": [
      "[1, 2, 3, 4, 5, 6]\n",
      "[1, 2, 3]\n",
      "[4, 5, 6]\n"
     ]
    }
   ],
   "source": [
    "# 리스트 연결 연산자(+) 와 extend()함수의 차이\n",
    "\n",
    "list_a = [1,2,3]\n",
    "list_b = [4,5,6]\n",
    "\n",
    "print(list_a + list_b)\n",
    "print(list_a)\n",
    "print(list_b)\n",
    "# list_a, b 원본에 아무런 변화가 없다."
   ]
  },
  {
   "cell_type": "code",
   "execution_count": 22,
   "id": "93da642a",
   "metadata": {},
   "outputs": [
    {
     "name": "stdout",
     "output_type": "stream",
     "text": [
      "[1, 2, 3, 4, 5, 6]\n",
      "[4, 5, 6]\n"
     ]
    }
   ],
   "source": [
    "list_a = [1,2,3]\n",
    "list_b = [4,5,6]\n",
    "\n",
    "list_a.extend(list_b)\n",
    "print(list_a)\n",
    "print(list_b)\n",
    "\n",
    "# list_a 가 근본적으로 바뀜"
   ]
  },
  {
   "cell_type": "code",
   "execution_count": null,
   "id": "9bd0f673",
   "metadata": {},
   "outputs": [],
   "source": [
    "# 리스트의 요소 제거하기 \n",
    "# 인덱스를 찾아서 지우기\n",
    "# 값으로 제거하기(요소)"
   ]
  },
  {
   "cell_type": "code",
   "execution_count": 27,
   "id": "16708097",
   "metadata": {},
   "outputs": [
    {
     "name": "stdout",
     "output_type": "stream",
     "text": [
      "[0, 1, 2, 3, 4, 5]\n",
      "del list_a[1] [0, 2, 3, 4, 5]\n"
     ]
    }
   ],
   "source": [
    "# del 리스트의 특정 인덱스에 있는 요소를 제거\n",
    "list_a=[]\n",
    "for i in range(6):\n",
    "    list_a.append(i)\n",
    "print(list_a)\n",
    "del list_a[1]\n",
    "print(\"del list_a[1]\", list_a)  # 두번째 요소 삭제 "
   ]
  },
  {
   "cell_type": "code",
   "execution_count": 28,
   "id": "1b84431c",
   "metadata": {},
   "outputs": [
    {
     "name": "stdout",
     "output_type": "stream",
     "text": [
      "[0, 1, 2, 3, 4, 5]\n",
      "pop(2) [0, 1, 3, 4, 5]\n"
     ]
    }
   ],
   "source": [
    "# pop() 리스트의 특정 인덱스에 있는 요소를 제거, arguments를 넣지 않으면 마지막 요소를 제거\n",
    "list_a=[]\n",
    "for i in range(6):\n",
    "    list_a.append(i)\n",
    "print(list_a)\n",
    "list_a.pop(2)\n",
    "print(\"pop(2)\", list_a)  # 세번째 요소 삭제 "
   ]
  },
  {
   "cell_type": "code",
   "execution_count": 30,
   "id": "e6aa8251",
   "metadata": {},
   "outputs": [
    {
     "name": "stdout",
     "output_type": "stream",
     "text": [
      "[0, 1, 2, 3, 4, 5, 6]\n"
     ]
    },
    {
     "data": {
      "text/plain": [
       "[0, 1, 2, 6]"
      ]
     },
     "execution_count": 30,
     "metadata": {},
     "output_type": "execute_result"
    }
   ],
   "source": [
    "# del은 범위를 지정해서 삭제할수 있다.\n",
    "list_b = []\n",
    "for i in range(7):\n",
    "    list_b.append(i)\n",
    "print(list_b)\n",
    "del list_b[3:6]\n",
    "list_b"
   ]
  },
  {
   "cell_type": "code",
   "execution_count": 33,
   "id": "1f238154",
   "metadata": {},
   "outputs": [
    {
     "name": "stdout",
     "output_type": "stream",
     "text": [
      "[0, 1, 2, 3, 4, 5, 6]\n"
     ]
    },
    {
     "data": {
      "text/plain": [
       "[3, 4, 5, 6]"
      ]
     },
     "execution_count": 33,
     "metadata": {},
     "output_type": "execute_result"
    }
   ],
   "source": [
    "# 범위 기준 한쪽 전부 제거하기 [:3]\n",
    "list_b = []\n",
    "for i in range(7):\n",
    "    list_b.append(i)\n",
    "print(list_b)\n",
    "del list_b[:3] # 0, 1, 2 다 날림  # 3 미포함\n",
    "list_b"
   ]
  },
  {
   "cell_type": "code",
   "execution_count": 34,
   "id": "417182d5",
   "metadata": {},
   "outputs": [
    {
     "name": "stdout",
     "output_type": "stream",
     "text": [
      "[0, 1, 2, 3, 4, 5, 6]\n"
     ]
    },
    {
     "data": {
      "text/plain": [
       "[0, 1, 2]"
      ]
     },
     "execution_count": 34,
     "metadata": {},
     "output_type": "execute_result"
    }
   ],
   "source": [
    "# 범위 기준 한쪽 전부 제거하기 [3:]\n",
    "list_b = []\n",
    "for i in range(7):\n",
    "    list_b.append(i)\n",
    "print(list_b)\n",
    "del list_b[3:] # 3, 4, 5,6 다 날림   # 포함\n",
    "list_b"
   ]
  },
  {
   "cell_type": "code",
   "execution_count": 36,
   "id": "68018ac8",
   "metadata": {},
   "outputs": [
    {
     "data": {
      "text/plain": [
       "[1, 1, 2]"
      ]
     },
     "execution_count": 36,
     "metadata": {},
     "output_type": "execute_result"
    }
   ],
   "source": [
    "# 요소 직접 제거하기 , remove()\n",
    "\n",
    "list_c = [1,2,1,2]\n",
    "list_c.remove(2)\n",
    "list_c\n",
    "# 주의 동일 값이 여러개 있어도 처음 발견되는것만 제거됨"
   ]
  },
  {
   "cell_type": "code",
   "execution_count": 38,
   "id": "5ddad151",
   "metadata": {},
   "outputs": [
    {
     "data": {
      "text/plain": [
       "[1, 1]"
      ]
     },
     "execution_count": 38,
     "metadata": {},
     "output_type": "execute_result"
    }
   ],
   "source": [
    "#  whlie문을 사용하여 중복된 여러개의 값 모두 제거하기  내가 짠 코드\n",
    "\n",
    "list_c = [1, 2, 1, 2]\n",
    "while 2 in list_c:\n",
    "    list_c.remove(2)\n",
    "list_c"
   ]
  },
  {
   "cell_type": "code",
   "execution_count": 39,
   "id": "038690f6",
   "metadata": {},
   "outputs": [
    {
     "name": "stdout",
     "output_type": "stream",
     "text": [
      "[0, 1, 2, 3, 4, 5]\n"
     ]
    },
    {
     "data": {
      "text/plain": [
       "[]"
      ]
     },
     "execution_count": 39,
     "metadata": {},
     "output_type": "execute_result"
    }
   ],
   "source": [
    "list_d = []\n",
    "for i in range(6):\n",
    "    list_d.append(i)\n",
    "print(list_d)\n",
    "list_d.clear()\n",
    "list_d"
   ]
  },
  {
   "cell_type": "code",
   "execution_count": 40,
   "id": "b8ba012e",
   "metadata": {},
   "outputs": [
    {
     "data": {
      "text/plain": [
       "True"
      ]
     },
     "execution_count": 40,
     "metadata": {},
     "output_type": "execute_result"
    }
   ],
   "source": [
    "# 특정 값이 리스트 내부에 있는지 확인하기\n",
    "\n",
    "list_a = [273, 32, 10., 57, 52]\n",
    "\n",
    "273 in list_a \n"
   ]
  },
  {
   "cell_type": "code",
   "execution_count": 41,
   "id": "9fd68b27",
   "metadata": {},
   "outputs": [
    {
     "data": {
      "text/plain": [
       "False"
      ]
     },
     "execution_count": 41,
     "metadata": {},
     "output_type": "execute_result"
    }
   ],
   "source": [
    "# 특정 값이 리스트 내부에 없는지 확인하기\n",
    "\n",
    "list_a = [273, 32, 10., 57, 52]\n",
    "\n",
    "273 not in list_a "
   ]
  },
  {
   "cell_type": "markdown",
   "id": "ac6ddab5",
   "metadata": {},
   "source": [
    "## For  qkㄴ복문: 리스트와 함께 사용하기\n",
    "\n",
    "for 반복자 in 반복할수 있는것 :\n",
    "코드 \n",
    "\n",
    "* 반복할수 있는것에는 문자열, 리스트, 딕셔너리, 범위가 있다. "
   ]
  },
  {
   "cell_type": "code",
   "execution_count": 42,
   "id": "abffcd62",
   "metadata": {},
   "outputs": [
    {
     "name": "stdout",
     "output_type": "stream",
     "text": [
      "273\n",
      "32\n",
      "10.0\n",
      "57\n",
      "52\n"
     ]
    }
   ],
   "source": [
    "for element in list_a:\n",
    "    print(element)"
   ]
  },
  {
   "cell_type": "markdown",
   "id": "0ed3b9d5",
   "metadata": {},
   "source": [
    "# 마무리 문제  for 0401 "
   ]
  },
  {
   "cell_type": "code",
   "execution_count": 49,
   "id": "7a798f79",
   "metadata": {},
   "outputs": [
    {
     "name": "stdout",
     "output_type": "stream",
     "text": [
      "273 odd numbers\n",
      "103 odd numbers\n",
      "5 odd numbers\n",
      "32 even numbers\n",
      "65 odd numbers\n",
      "9 odd numbers\n",
      "72 even numbers\n",
      "800 even numbers\n",
      "99 odd numbers\n"
     ]
    }
   ],
   "source": [
    "num= [273,103,5,32,65,9,72,800,99]\n",
    "\n",
    "for i in num:\n",
    "    if i % 2 ==0:\n",
    "        print(i, \"even numbers\")\n",
    "    else: \n",
    "        print(i, \"odd numbers\")"
   ]
  },
  {
   "cell_type": "code",
   "execution_count": 51,
   "id": "5acf7992",
   "metadata": {},
   "outputs": [
    {
     "name": "stdout",
     "output_type": "stream",
     "text": [
      "273 three digit numbers\n",
      "103 three digit numbers\n",
      "5 single digit numbers\n",
      "32 two digit numbers\n",
      "65 two digit numbers\n",
      "9 single digit numbers\n",
      "72 two digit numbers\n",
      "800 three digit numbers\n",
      "99 two digit numbers\n"
     ]
    }
   ],
   "source": [
    "num= [273,103,5,32,65,9,72,800,99]\n",
    "\n",
    "for i in num:\n",
    "    if i>=100:\n",
    "        print(i, \"three digit numbers\")\n",
    "    elif i>=10: \n",
    "        print(i, \"two digit numbers\")\n",
    "    else:\n",
    "        print(i, \"single digit numbers\")"
   ]
  },
  {
   "cell_type": "code",
   "execution_count": 53,
   "id": "82d6ee5b",
   "metadata": {},
   "outputs": [
    {
     "name": "stdout",
     "output_type": "stream",
     "text": [
      "1\n",
      "2\n",
      "3\n",
      "4\n",
      "5\n",
      "6\n",
      "7\n",
      "8\n",
      "9\n"
     ]
    }
   ],
   "source": [
    "nested_list=[[1,2,3],[4,5,6,7],[8,9]]\n",
    "\n",
    "for i in nested_list:\n",
    "    for j in i:\n",
    "        print(j)\n",
    "# 내가 했지만 얻어 걸렸다는느낌;; ㅋㅋ"
   ]
  },
  {
   "cell_type": "code",
   "execution_count": 61,
   "id": "9657192a",
   "metadata": {},
   "outputs": [
    {
     "name": "stdout",
     "output_type": "stream",
     "text": [
      "[0, 1, 2, 3, 4, 5, 6, 7, 8, 9]\n",
      "[[1, 4, 7], [2, 5, 8], [0, 3, 6, 9]]\n"
     ]
    }
   ],
   "source": [
    "numbers = []\n",
    "for i in range(10):\n",
    "    numbers.append(i)\n",
    "print(numbers)\n",
    "output= [[],[],[]]\n",
    "\n",
    "for number in numbers:\n",
    "    output[(number +2 )%3].append(number)\n",
    "print(output)\n",
    "\n",
    "# "
   ]
  },
  {
   "cell_type": "code",
   "execution_count": null,
   "id": "19ab9c0e",
   "metadata": {},
   "outputs": [],
   "source": [
    "#output[] output sub "
   ]
  },
  {
   "cell_type": "code",
   "execution_count": 57,
   "id": "da54c11a",
   "metadata": {},
   "outputs": [
    {
     "data": {
      "text/plain": [
       "2"
      ]
     },
     "execution_count": 57,
     "metadata": {},
     "output_type": "execute_result"
    }
   ],
   "source": [
    "2 % 3"
   ]
  },
  {
   "cell_type": "code",
   "execution_count": 59,
   "id": "b9fb0692",
   "metadata": {},
   "outputs": [
    {
     "data": {
      "text/plain": [
       "0"
      ]
     },
     "execution_count": 59,
     "metadata": {},
     "output_type": "execute_result"
    }
   ],
   "source": [
    "3 % 3"
   ]
  },
  {
   "cell_type": "code",
   "execution_count": 62,
   "id": "89a7ef93",
   "metadata": {},
   "outputs": [
    {
     "data": {
      "text/plain": [
       "1"
      ]
     },
     "execution_count": 62,
     "metadata": {},
     "output_type": "execute_result"
    }
   ],
   "source": [
    "4 % 3"
   ]
  },
  {
   "cell_type": "code",
   "execution_count": 63,
   "id": "797c6b13",
   "metadata": {},
   "outputs": [
    {
     "data": {
      "text/plain": [
       "2"
      ]
     },
     "execution_count": 63,
     "metadata": {},
     "output_type": "execute_result"
    }
   ],
   "source": [
    "5%3"
   ]
  },
  {
   "cell_type": "code",
   "execution_count": 64,
   "id": "1e7b219f",
   "metadata": {},
   "outputs": [
    {
     "data": {
      "text/plain": [
       "0"
      ]
     },
     "execution_count": 64,
     "metadata": {},
     "output_type": "execute_result"
    }
   ],
   "source": [
    "6%3"
   ]
  },
  {
   "cell_type": "code",
   "execution_count": 65,
   "id": "0eb12881",
   "metadata": {},
   "outputs": [],
   "source": [
    "# 알겠지만 이렇게 어떻게 계싼을 하지? 생각도 못했다 \n"
   ]
  }
 ],
 "metadata": {
  "kernelspec": {
   "display_name": "Python 3",
   "language": "python",
   "name": "python3"
  },
  "language_info": {
   "codemirror_mode": {
    "name": "ipython",
    "version": 3
   },
   "file_extension": ".py",
   "mimetype": "text/x-python",
   "name": "python",
   "nbconvert_exporter": "python",
   "pygments_lexer": "ipython3",
   "version": "3.8.8"
  }
 },
 "nbformat": 4,
 "nbformat_minor": 5
}
