{
  "nbformat": 4,
  "nbformat_minor": 0,
  "metadata": {
    "colab": {
      "provenance": [],
      "authorship_tag": "ABX9TyP/SheL2DkzA0sfac/HV4Sd",
      "include_colab_link": true
    },
    "kernelspec": {
      "name": "python3",
      "display_name": "Python 3"
    },
    "language_info": {
      "name": "python"
    }
  },
  "cells": [
    {
      "cell_type": "markdown",
      "metadata": {
        "id": "view-in-github",
        "colab_type": "text"
      },
      "source": [
        "<a href=\"https://colab.research.google.com/github/Big-Shu-Nim/PYTHON_Basic_Syntax/blob/main/06_02_%7C_%EC%98%88%EC%99%B8%EA%B3%A0%EA%B8%89.ipynb\" target=\"_parent\"><img src=\"https://colab.research.google.com/assets/colab-badge.svg\" alt=\"Open In Colab\"/></a>"
      ]
    },
    {
      "cell_type": "code",
      "execution_count": null,
      "metadata": {
        "colab": {
          "base_uri": "https://localhost:8080/"
        },
        "id": "TF6hzl76sdvu",
        "outputId": "e23f4f74-53dc-4f59-e3ec-d48b2d26ffc5"
      },
      "outputs": [
        {
          "output_type": "stream",
          "name": "stdout",
          "text": [
            "Selecting previously unselected package fonts-nanum.\n",
            "(Reading database ... 124015 files and directories currently installed.)\n",
            "Preparing to unpack .../fonts-nanum_20170925-1_all.deb ...\n",
            "Unpacking fonts-nanum (20170925-1) ...\n",
            "Selecting previously unselected package fonts-nanum-eco.\n",
            "Preparing to unpack .../fonts-nanum-eco_1.000-6_all.deb ...\n",
            "Unpacking fonts-nanum-eco (1.000-6) ...\n",
            "Selecting previously unselected package fonts-nanum-extra.\n",
            "Preparing to unpack .../fonts-nanum-extra_20170925-1_all.deb ...\n",
            "Unpacking fonts-nanum-extra (20170925-1) ...\n",
            "Selecting previously unselected package fonts-nanum-coding.\n",
            "Preparing to unpack .../fonts-nanum-coding_2.5-1_all.deb ...\n",
            "Unpacking fonts-nanum-coding (2.5-1) ...\n",
            "Setting up fonts-nanum-extra (20170925-1) ...\n",
            "Setting up fonts-nanum (20170925-1) ...\n",
            "Setting up fonts-nanum-coding (2.5-1) ...\n",
            "Setting up fonts-nanum-eco (1.000-6) ...\n",
            "Processing triggers for fontconfig (2.12.6-0ubuntu2) ...\n",
            "Mounted at /content/drive\n"
          ]
        }
      ],
      "source": [
        "# 나눔체 설치\n",
        "!apt-get update -qq\n",
        "!apt-get install fonts-nanum* -qq\n",
        "# 폰트 리빌드\n",
        "import matplotlib.pyplot as plt\n",
        "import matplotlib.font_manager as fm\n",
        "fm._rebuild()\n",
        "plt.rc('font', family='NanumGothic')\n",
        "\n",
        "# # 다음을 실행하면 authorization code 입력을 요청받습니다.\n",
        "# # 출력된 링크를 클릭하고 Google 계정으로 로그인한 뒤,\n",
        "# # authorization code를 복사해서 붙여 넣습니다.\n",
        "import os\n",
        "from google.colab import drive\n",
        "drive.mount('/content/drive')\n",
        "\n",
        "#working_dir = 'MLSys_100Knocks' #　※※ 여러분이 만든 폴더 경로가 다를 때는 다음을 변경합니다. ※※\n",
        "path = f'/content/drive/MyDrive/혼자공부하는 파이썬'\n",
        "os.chdir(path)\n"
      ]
    },
    {
      "cell_type": "markdown",
      "source": [
        "## 예외 고급 \n",
        "어떤 사건이 발생하면 누가 언제 어디서 라는 정보가 생깁니다.\n",
        "언어에도 예외가 발생하면 예외와 관련된 정보가 생깁니다. 그리고 이러한\n",
        "예외정보는 exception object에 저장됩니다. "
      ],
      "metadata": {
        "id": "kkE_RMH3th3Y"
      }
    },
    {
      "cell_type": "code",
      "source": [
        "# 예외객체\n",
        "# try except 구문으로 예외를 처리합니다.\n",
        "\n",
        "try:\n",
        "  number_input_a = int(input(\"정수 입력> \"))\n",
        "\n",
        " #print it\n",
        "  print(\"the radius of a circle:\", number_input_a)\n",
        "  print(\"circumference:\", 2*3.14*number_input_a)\n",
        "  print(\"area of circle:\", 3.14 *number_input_a*number_input_a)\n",
        "  \n",
        "except Exception as exception:\n",
        "    #예외 객체를 출력해봅니다.\n",
        "    print('type(exception):', type(exception))\n",
        "    print('exception:', exception)"
      ],
      "metadata": {
        "colab": {
          "base_uri": "https://localhost:8080/"
        },
        "id": "Ihisrt2RvHoZ",
        "outputId": "6bbc73eb-3b31-4913-942f-b4d93a79a64c"
      },
      "execution_count": null,
      "outputs": [
        {
          "output_type": "stream",
          "name": "stdout",
          "text": [
            "정수 입력> type1\n",
            "type(exception): <class 'ValueError'>\n",
            "exception: invalid literal for int() with base 10: 'type1'\n"
          ]
        }
      ]
    },
    {
      "cell_type": "code",
      "source": [
        "# 여러가지 예외가 발생할 수 있는 코드\n",
        "\n",
        "list_number = [52, 273, 32, 72, 100]\n",
        "\n",
        "# try except 구문으로 예외를 처리합니다.\n",
        "try:\n",
        "  number_input = int(input(\"정수 입력> \"))\n",
        "  #리스트의 요소를 출력합니다.\n",
        "  print(\"{}번째 요소: {}\".format(number_input, list_number[number_input]))\n",
        "except Exception as exception:\n",
        "  print(\"type(exception):\", type(exception))\n",
        "  print('exception', exception)"
      ],
      "metadata": {
        "colab": {
          "base_uri": "https://localhost:8080/"
        },
        "id": "nUs4CO6IxRtS",
        "outputId": "c7f22e73-ac6f-4e1a-849a-e92471f978d9"
      },
      "execution_count": null,
      "outputs": [
        {
          "output_type": "stream",
          "name": "stdout",
          "text": [
            "정수 입력> yes11\n",
            "type(exception): <class 'ValueError'>\n",
            "exception invalid literal for int() with base 10: 'yes11'\n"
          ]
        }
      ]
    },
    {
      "cell_type": "code",
      "source": [
        "# 예외 구분하기\n",
        "\n",
        "list_number = [52, 273, 32, 72, 100]\n",
        "\n",
        "try:\n",
        "  number_input = int(input(\"정수 입력> \"))\n",
        "  print(\"{}번째 요소: {}\".format(number_input, list_number[number_input]))\n",
        "except ValueError:\n",
        "  print('plesae type integer here')\n",
        "except IndexError:\n",
        "  print(\"리스트의 인덱스를 벗어났어요.\")"
      ],
      "metadata": {
        "colab": {
          "base_uri": "https://localhost:8080/"
        },
        "id": "ib6LiorYx9ll",
        "outputId": "d68b65a1-daa3-45ec-a038-601ece050b6b"
      },
      "execution_count": null,
      "outputs": [
        {
          "output_type": "stream",
          "name": "stdout",
          "text": [
            "정수 입력> 100\n",
            "리스트의 인덱스를 벗어났어요.\n"
          ]
        }
      ]
    },
    {
      "cell_type": "code",
      "source": [
        "#예외처리를 했지만 예외를 못잡 는경우\n",
        "\n",
        "list_number = [52, 273, 32, 72, 100]\n",
        "\n",
        "# try except 구문으로 예외를 처리합니다.\n",
        "try:\n",
        "  number_input = int(input(\"정수 입력 > \"))\n",
        "  #list의 요소를 받습니다.\n",
        "  print(\"{}번쨰 요소: {}\".format(number_input, list_number[number_input]))\n",
        "  예외.발생해주세요() # 이부분에서 잡지 않은 예외가 발생합니다.\n",
        "\n",
        "except ValueError as exception:\n",
        "  print(\"Please type integer\")\n",
        "  print(type(exception), exception)\n",
        "except IndexError as exception:\n",
        "  print(\"its out of index's range\")\n",
        "  print(type(exception), exception)\n"
      ],
      "metadata": {
        "colab": {
          "base_uri": "https://localhost:8080/",
          "height": 274
        },
        "id": "O4VN489fzIHR",
        "outputId": "43dfd331-0322-4835-9ec1-660cc1f4854e"
      },
      "execution_count": null,
      "outputs": [
        {
          "output_type": "stream",
          "name": "stdout",
          "text": [
            "정수 입력 > 1\n",
            "1번쨰 요소: 273\n"
          ]
        },
        {
          "output_type": "error",
          "ename": "NameError",
          "evalue": "ignored",
          "traceback": [
            "\u001b[0;31m---------------------------------------------------------------------------\u001b[0m",
            "\u001b[0;31mNameError\u001b[0m                                 Traceback (most recent call last)",
            "\u001b[0;32m<ipython-input-13-a6427de11c62>\u001b[0m in \u001b[0;36m<module>\u001b[0;34m\u001b[0m\n\u001b[1;32m      8\u001b[0m   \u001b[0;31m#list의 요소를 받습니다.\u001b[0m\u001b[0;34m\u001b[0m\u001b[0;34m\u001b[0m\u001b[0;34m\u001b[0m\u001b[0m\n\u001b[1;32m      9\u001b[0m   \u001b[0mprint\u001b[0m\u001b[0;34m(\u001b[0m\u001b[0;34m\"{}번쨰 요소: {}\"\u001b[0m\u001b[0;34m.\u001b[0m\u001b[0mformat\u001b[0m\u001b[0;34m(\u001b[0m\u001b[0mnumber_input\u001b[0m\u001b[0;34m,\u001b[0m \u001b[0mlist_number\u001b[0m\u001b[0;34m[\u001b[0m\u001b[0mnumber_input\u001b[0m\u001b[0;34m]\u001b[0m\u001b[0;34m)\u001b[0m\u001b[0;34m)\u001b[0m\u001b[0;34m\u001b[0m\u001b[0;34m\u001b[0m\u001b[0m\n\u001b[0;32m---> 10\u001b[0;31m   \u001b[0m예외\u001b[0m\u001b[0;34m.\u001b[0m\u001b[0m발생해주세요\u001b[0m\u001b[0;34m(\u001b[0m\u001b[0;34m)\u001b[0m \u001b[0;31m# 이부분에서 잡지 않은 예외가 발생합니다.\u001b[0m\u001b[0;34m\u001b[0m\u001b[0;34m\u001b[0m\u001b[0m\n\u001b[0m\u001b[1;32m     11\u001b[0m \u001b[0;34m\u001b[0m\u001b[0m\n\u001b[1;32m     12\u001b[0m \u001b[0;32mexcept\u001b[0m \u001b[0mValueError\u001b[0m \u001b[0;32mas\u001b[0m \u001b[0mexception\u001b[0m\u001b[0;34m:\u001b[0m\u001b[0;34m\u001b[0m\u001b[0;34m\u001b[0m\u001b[0m\n",
            "\u001b[0;31mNameError\u001b[0m: name '예외' is not defined"
          ]
        }
      ]
    },
    {
      "cell_type": "code",
      "source": [
        "# 이렇게 되면 예외가 발생해 프로그램이 강제로 종료됩니다.\n",
        "# 그래서 else구문처럼 마지막에는 모든 예외의 부모라고 할 수 있는\n",
        "# exception을 넣어서 프로그래이 죽지 않게 하는 것이 좋습니다. "
      ],
      "metadata": {
        "id": "J0-VTZ1H0OaZ"
      },
      "execution_count": null,
      "outputs": []
    },
    {
      "cell_type": "code",
      "source": [
        "# 모든 예외 잡기\n",
        "\n",
        "list_number = [52, 273, 32, 72, 100]\n",
        "\n",
        "# try except 구문으로 예외처리\n",
        "try:\n",
        "  number_input = int(input(\"정수 입력> \"))\n",
        "\n",
        "  #print out the element of a list. \n",
        "  print(\"{}번쨰 요소 : {}\".format(number_input, list_number[number_input]))\n",
        "  예외.발생해주세요\n",
        "\n",
        "except ValueError as exception:\n",
        "  print(\"please type integer\")\n",
        "\n",
        "except IndexError as exception:\n",
        "  print(\"it's out of index range\")\n",
        "  print(tpe(exception), exception)\n",
        "except Exception as exception:\n",
        "  print(\"미리 파악하지 못한 예외가 발생 되었습니다.\")\n",
        "  print(type(exception), exception)"
      ],
      "metadata": {
        "colab": {
          "base_uri": "https://localhost:8080/"
        },
        "id": "AkH6XTS-05_M",
        "outputId": "cda0cd64-64a3-496c-feef-5623dcc76813"
      },
      "execution_count": null,
      "outputs": [
        {
          "output_type": "stream",
          "name": "stdout",
          "text": [
            "정수 입력> 1\n",
            "1번쨰 요소 : 273\n",
            "미리 파악하지 못한 예외가 발생 되었습니다.\n",
            "<class 'NameError'> name '예외' is not defined\n"
          ]
        }
      ]
    },
    {
      "cell_type": "code",
      "source": [
        "# 아직 구현되지 않은 부분에서 강제로 예외발생키기\n",
        "\n",
        "number = input('정수입력')\n",
        "number = int(number)\n",
        "\n",
        "if number > 0 :\n",
        "  raise NotImplementedError\n",
        "else:\n",
        "  raise NotImplementedError"
      ],
      "metadata": {
        "colab": {
          "base_uri": "https://localhost:8080/",
          "height": 257
        },
        "id": "2CkRaNd13JbK",
        "outputId": "43026aff-ec1b-4cd9-ac13-430583a8263f"
      },
      "execution_count": null,
      "outputs": [
        {
          "name": "stdout",
          "output_type": "stream",
          "text": [
            "정수입력24\n"
          ]
        },
        {
          "output_type": "error",
          "ename": "NotImplementedError",
          "evalue": "ignored",
          "traceback": [
            "\u001b[0;31m---------------------------------------------------------------------------\u001b[0m",
            "\u001b[0;31mNotImplementedError\u001b[0m                       Traceback (most recent call last)",
            "\u001b[0;32m<ipython-input-17-a4f76ea4f29d>\u001b[0m in \u001b[0;36m<module>\u001b[0;34m\u001b[0m\n\u001b[1;32m      5\u001b[0m \u001b[0;34m\u001b[0m\u001b[0m\n\u001b[1;32m      6\u001b[0m \u001b[0;32mif\u001b[0m \u001b[0mnumber\u001b[0m \u001b[0;34m>\u001b[0m \u001b[0;36m0\u001b[0m \u001b[0;34m:\u001b[0m\u001b[0;34m\u001b[0m\u001b[0;34m\u001b[0m\u001b[0m\n\u001b[0;32m----> 7\u001b[0;31m   \u001b[0;32mraise\u001b[0m \u001b[0mNotImplementedError\u001b[0m\u001b[0;34m\u001b[0m\u001b[0;34m\u001b[0m\u001b[0m\n\u001b[0m\u001b[1;32m      8\u001b[0m \u001b[0;32melse\u001b[0m\u001b[0;34m:\u001b[0m\u001b[0;34m\u001b[0m\u001b[0;34m\u001b[0m\u001b[0m\n\u001b[1;32m      9\u001b[0m   \u001b[0;32mraise\u001b[0m \u001b[0mNotImplementedError\u001b[0m\u001b[0;34m\u001b[0m\u001b[0;34m\u001b[0m\u001b[0m\n",
            "\u001b[0;31mNotImplementedError\u001b[0m: "
          ]
        }
      ]
    },
    {
      "cell_type": "code",
      "source": [],
      "metadata": {
        "id": "ndVx0XIx3olJ"
      },
      "execution_count": null,
      "outputs": []
    }
  ]
}