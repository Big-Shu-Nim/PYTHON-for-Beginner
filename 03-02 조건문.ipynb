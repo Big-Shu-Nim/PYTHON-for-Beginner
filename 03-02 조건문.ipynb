{
 "cells": [
  {
   "cell_type": "code",
   "execution_count": 3,
   "id": "3d1b0035",
   "metadata": {},
   "outputs": [
    {
     "name": "stdout",
     "output_type": "stream",
     "text": [
      "정수입력3\n",
      "odd number\n"
     ]
    }
   ],
   "source": [
    "# if 조건문에 else 구문을 추가해서 짝수와 홀수 구분하기\n",
    "\n",
    "\n",
    "number = input(\"정수입력\")\n",
    "number = int(number)\n",
    "\n",
    "if number % 2 == 0:\n",
    "    print(\"even number\")\n",
    "else:\n",
    "    print(\"odd number\")\n"
   ]
  },
  {
   "cell_type": "markdown",
   "id": "13e5c0ec",
   "metadata": {},
   "source": [
    "## Elif statement \n",
    "\n",
    "세개이상 조건 연결할때\n",
    "\n"
   ]
  },
  {
   "cell_type": "code",
   "execution_count": 4,
   "id": "286b2945",
   "metadata": {},
   "outputs": [
    {
     "name": "stdout",
     "output_type": "stream",
     "text": [
      "Autumn\n"
     ]
    }
   ],
   "source": [
    "import datetime\n",
    "\n",
    "now = datetime.datetime.now()\n",
    "month = now.month\n",
    "\n",
    "if 3 <= month <= 5:\n",
    "    print (\"spring\")\n",
    "\n",
    "elif 6 <= month <= 8:\n",
    "    print(\"summer\")\n",
    "elif 9 <= month <= 11:\n",
    "    print('Autumn')\n",
    "\n",
    "else:\n",
    "    print(\"winter\")"
   ]
  },
  {
   "cell_type": "code",
   "execution_count": 5,
   "id": "9380678d",
   "metadata": {},
   "outputs": [
    {
     "name": "stdout",
     "output_type": "stream",
     "text": [
      "학점입력4.3\n",
      "교수님의 사랑\n"
     ]
    }
   ],
   "source": [
    "\n",
    "#비효율적인 코딩\n",
    "\n",
    "score = float(input(\"학점입력\"))\n",
    "\n",
    "if score == 4.5:\n",
    "    print(\"신\")\n",
    "elif 4.2 <= score < 4.5:\n",
    "    print(\"교수님의 사랑\")\n",
    "elif 3.5 <= score < 4.2:\n",
    "    print(\"현 체제의 수호자\")\n"
   ]
  },
  {
   "cell_type": "code",
   "execution_count": 6,
   "id": "695b9101",
   "metadata": {},
   "outputs": [
    {
     "name": "stdout",
     "output_type": "stream",
     "text": [
      "학점입력2\n",
      "the pioneer of enetertaiment\n"
     ]
    }
   ],
   "source": [
    "# 효율적 코딩\n",
    "\n",
    "score = float(input(\"학점입력\"))\n",
    "\n",
    "if score == 4.5:\n",
    "    print(\"god\")\n",
    "\n",
    "elif 4.2 <= score:\n",
    "    print(\"the one professors like\")\n",
    "\n",
    "elif 3.5 <= score:\n",
    "    print(\"the one hold the current system of society\")\n",
    "\n",
    "elif 2.8 <= score:\n",
    "    print(\"ordinary people\")\n",
    "elif 2.3 <= score:\n",
    "    print(\"the one to do some deviant behavior\")\n",
    "elif 1.75 <= score:\n",
    "    print(\"the pioneer of enetertaiment\")\n",
    "elif 1.0 <= score:\n",
    "    print((\"불가촉천민\"))\n",
    "elif 0 <= score:\n",
    "    print(\"플랑크톤\")\n"
   ]
  },
  {
   "cell_type": "code",
   "execution_count": 7,
   "id": "3c4c3293",
   "metadata": {},
   "outputs": [],
   "source": [
    "# 4.2 확인하는 행에서 이미 이전 4.5를 돌린것을 알고 있다는 개념\n"
   ]
  },
  {
   "cell_type": "markdown",
   "id": "b159a0a6",
   "metadata": {},
   "source": [
    "False로 변환되는 값은 none, 숫자 0, 0.0, 빈 컨테이너 ( 빈 문자열, 빈 바이트열, 빈 리스트, 빈 튜플, 빈 딕셔너리)"
   ]
  },
  {
   "cell_type": "code",
   "execution_count": 8,
   "id": "e189976d",
   "metadata": {},
   "outputs": [
    {
     "name": "stdout",
     "output_type": "stream",
     "text": [
      "0 return False\n",
      "\n",
      "the empyty string returns False\n"
     ]
    }
   ],
   "source": [
    "# False로 변환되는 값\n",
    "\n",
    "\n",
    "if 0 :\n",
    "    print(\"0 return True\")\n",
    "else:\n",
    "    print(\"0 return False\")\n",
    "print()\n",
    "\n",
    "if \"\":\n",
    "    print(\"the empty string returns True\")\n",
    "else:\n",
    "    print('the empyty string returns False')"
   ]
  },
  {
   "cell_type": "markdown",
   "id": "07054b08",
   "metadata": {},
   "source": [
    "## Pass 키워드 "
   ]
  },
  {
   "cell_type": "code",
   "execution_count": 13,
   "id": "ce1f4c0a",
   "metadata": {},
   "outputs": [
    {
     "name": "stdout",
     "output_type": "stream",
     "text": [
      "type integer0\n"
     ]
    }
   ],
   "source": [
    "# 나중에 구현하려고 비워 둔 구문\n",
    "\n",
    "number = input(\"type integer\")\n",
    "number = int(number)\n",
    "\n",
    "\n",
    "if number > 0:\n",
    "    pass\n",
    "else:\n",
    "    pass\n",
    "    "
   ]
  },
  {
   "cell_type": "code",
   "execution_count": 14,
   "id": "aaa7604d",
   "metadata": {},
   "outputs": [
    {
     "name": "stdout",
     "output_type": "stream",
     "text": [
      "정수 입력0\n"
     ]
    },
    {
     "ename": "NotImplementedError",
     "evalue": "",
     "output_type": "error",
     "traceback": [
      "\u001b[0;31m---------------------------------------------------------------------------\u001b[0m",
      "\u001b[0;31mNotImplementedError\u001b[0m                       Traceback (most recent call last)",
      "\u001b[0;32m<ipython-input-14-1694e8af672f>\u001b[0m in \u001b[0;36m<module>\u001b[0;34m\u001b[0m\n\u001b[1;32m      8\u001b[0m \u001b[0;34m\u001b[0m\u001b[0m\n\u001b[1;32m      9\u001b[0m \u001b[0;32melse\u001b[0m\u001b[0;34m:\u001b[0m\u001b[0;34m\u001b[0m\u001b[0;34m\u001b[0m\u001b[0m\n\u001b[0;32m---> 10\u001b[0;31m     \u001b[0;32mraise\u001b[0m \u001b[0mNotImplementedError\u001b[0m\u001b[0;34m\u001b[0m\u001b[0;34m\u001b[0m\u001b[0m\n\u001b[0m",
      "\u001b[0;31mNotImplementedError\u001b[0m: "
     ]
    }
   ],
   "source": [
    "# raise notimplementerror\n",
    "# 아직 구현 안되엇어요.\n",
    "number = input(\"정수 입력\")\n",
    "number = int(number)\n",
    "\n",
    "if number > 0:\n",
    "    raise NotImplementedError \n",
    "    \n",
    "else:\n",
    "    raise NotImplementedError"
   ]
  }
 ],
 "metadata": {
  "kernelspec": {
   "display_name": "Python 3",
   "language": "python",
   "name": "python3"
  },
  "language_info": {
   "codemirror_mode": {
    "name": "ipython",
    "version": 3
   },
   "file_extension": ".py",
   "mimetype": "text/x-python",
   "name": "python",
   "nbconvert_exporter": "python",
   "pygments_lexer": "ipython3",
   "version": "3.8.8"
  }
 },
 "nbformat": 4,
 "nbformat_minor": 5
}
