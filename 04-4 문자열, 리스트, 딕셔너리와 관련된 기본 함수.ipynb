{
 "cells": [
  {
   "cell_type": "markdown",
   "id": "cdca7f66",
   "metadata": {},
   "source": [
    "* 리스트에 적용할수 있는 기본함수 min, max, sum\n",
    "* 리스트 뒤집기, reversed\n",
    "* 현재 인덱스가 몇번쨰인지 확인하기, enumerate\n",
    "* 딕셔너리로 쉽게 반복문 작성하기, items\n",
    "* 리스트 안에서 for statement사용하기, 리스트 내포\n"
   ]
  },
  {
   "cell_type": "code",
   "execution_count": 2,
   "id": "339d2b33",
   "metadata": {},
   "outputs": [
    {
     "name": "stdout",
     "output_type": "stream",
     "text": [
      "32\n",
      "273\n",
      "537\n"
     ]
    }
   ],
   "source": [
    "# 리스트 내에서 최소, 최대, 합 구하기\n",
    "\n",
    "lists= [103, 52, 273, 32, 77]\n",
    "\n",
    "print(min(lists))\n",
    "print(max(lists))\n",
    "print(sum(lists))"
   ]
  },
  {
   "cell_type": "code",
   "execution_count": 4,
   "id": "b7d08ce8",
   "metadata": {},
   "outputs": [
    {
     "name": "stdout",
     "output_type": "stream",
     "text": [
      "<list_reverseiterator object at 0x7fa2592a8160>\n",
      "[6, 5, 3, 2, 1]\n"
     ]
    }
   ],
   "source": [
    "# list의 요소 뒤집기 reversed()\n",
    "\n",
    "list_a = [1,2,3,5,6]\n",
    "list_reversed= reversed(list_a)\n",
    "print(list_reversed)\n",
    "print(list(list_reversed))"
   ]
  },
  {
   "cell_type": "code",
   "execution_count": 5,
   "id": "e821fef9",
   "metadata": {},
   "outputs": [
    {
     "name": "stdout",
     "output_type": "stream",
     "text": [
      "- 5\n",
      "- 4\n",
      "- 3\n",
      "- 2\n",
      "- 1\n"
     ]
    }
   ],
   "source": [
    "for i in reversed([1,2,3,4,5]):\n",
    "    print(\"-\", i)"
   ]
  },
  {
   "cell_type": "code",
   "execution_count": 7,
   "id": "a249458e",
   "metadata": {},
   "outputs": [
    {
     "data": {
      "text/plain": [
       "[5, 4, 3, 2, 1]"
      ]
     },
     "execution_count": 7,
     "metadata": {},
     "output_type": "execute_result"
    }
   ],
   "source": [
    "#리스트를 뒤집을수 있는 또하나의 방법: 확장 슬라이싱\n",
    "\n",
    "numbers = [1,2,3,4,5]\n",
    "numbers[::-1]"
   ]
  },
  {
   "cell_type": "code",
   "execution_count": 8,
   "id": "7d2284ed",
   "metadata": {},
   "outputs": [
    {
     "data": {
      "text/plain": [
       "'요세하녕안'"
      ]
     },
     "execution_count": 8,
     "metadata": {},
     "output_type": "execute_result"
    }
   ],
   "source": [
    "# 비파괴적코드로 원본에 영향끼치지 않고 문자에도 적용가능\n",
    "\"안녕하세요\"[::-1]"
   ]
  },
  {
   "cell_type": "code",
   "execution_count": 9,
   "id": "e9ba8ad7",
   "metadata": {},
   "outputs": [
    {
     "name": "stdout",
     "output_type": "stream",
     "text": [
      "0번째 요소는a입니다.\n",
      "1번째 요소는b입니다.\n",
      "2번째 요소는c입니다.\n"
     ]
    }
   ],
   "source": [
    "# example_list ['a','b','c']\n",
    "# 0번째요소는 a입니다 출력하기\n",
    "\n",
    "example_list =['a','b','c']\n",
    "i = 0\n",
    "\n",
    "for item in example_list:\n",
    "    print(\"{}번째 요소는{}입니다.\".format(i,item))\n",
    "    i +=1"
   ]
  },
  {
   "cell_type": "code",
   "execution_count": 13,
   "id": "b3137d50",
   "metadata": {},
   "outputs": [
    {
     "name": "stdout",
     "output_type": "stream",
     "text": [
      "0 a\n",
      "1 b\n",
      "2 c\n"
     ]
    }
   ],
   "source": [
    "for item in range(len(example_list)):\n",
    "    print(item, example_list[item])"
   ]
  },
  {
   "cell_type": "code",
   "execution_count": 17,
   "id": "4a7280ff",
   "metadata": {},
   "outputs": [
    {
     "name": "stdout",
     "output_type": "stream",
     "text": [
      "#단순출력\n",
      "['A', 'B', 'c']\n",
      "\n",
      "#enumerate()함수 적용 출력\n",
      "<enumerate object at 0x7fa2594bd280>\n",
      "\n",
      "# list로 강제 변환 적용 출력\n",
      "[(0, 'A'), (1, 'B'), (2, 'c')]\n",
      "\n",
      "# 반복문과 조합하기\n",
      "0번쨰 요소는 A입니다\n",
      "1번쨰 요소는 B입니다\n",
      "2번쨰 요소는 c입니다\n"
     ]
    }
   ],
   "source": [
    "# 이럴떄 enumerate() 를 사용할수 있다.\n",
    "\n",
    "example_list = [\"A\",'B','c']\n",
    "\n",
    "print(\"#단순출력\")\n",
    "print(example_list)\n",
    "print()\n",
    "#enumerate() 함수를 적용해 출력\n",
    "\n",
    "print(\"#enumerate()함수 적용 출력\")\n",
    "print(enumerate(example_list))\n",
    "print()\n",
    "\n",
    "# list() 함수로 강제 변환해 출력\n",
    "print(\"# list로 강제 변환 적용 출력\")\n",
    "print(list(enumerate(example_list)))\n",
    "print()\n",
    "\n",
    "\n",
    "# for 반복문과 enumerate()함수 조합해서 사용하기\n",
    "print(\"# 반복문과 조합하기\")\n",
    "for i, value in enumerate(example_list):\n",
    "    print(\"{}번쨰 요소는 {}입니다\".format(i, value))"
   ]
  },
  {
   "cell_type": "markdown",
   "id": "b8f14489",
   "metadata": {},
   "source": [
    "## dictionary items fuction | for statements"
   ]
  },
  {
   "cell_type": "code",
   "execution_count": 21,
   "id": "4291b9cd",
   "metadata": {},
   "outputs": [
    {
     "name": "stdout",
     "output_type": "stream",
     "text": [
      "#applied items() on dict_a\n",
      "items(): dict_items([('key1', 'value1'), ('key2', 'value2'), ('key3', 'value3')])\n",
      "\n",
      "dictionary[key1]=value1\n",
      "dictionary[key2]=value2\n",
      "dictionary[key3]=value3\n"
     ]
    }
   ],
   "source": [
    "dict_a= {\n",
    "    \"key1\" : \"value1\",\n",
    "    \"key2\" : \"value2\",\n",
    "    \"key3\" : \"value3\",\n",
    "}\n",
    "\n",
    "# applied items() on dict_a\n",
    "\n",
    "print(\"#applied items() on dict_a\")\n",
    "print(\"items():\", dict_a.items())\n",
    "print()\n",
    "\n",
    "# mix usage of items() and for statements\n",
    "for key, element in dict_a.items():\n",
    "        print(\"dictionary[{}]={}\".format(key, element))"
   ]
  },
  {
   "cell_type": "markdown",
   "id": "a0dc10cf",
   "metadata": {},
   "source": [
    "## list comprehension\n",
    "\n",
    "프로그램을 만들때 반복문을 사용해 리스트를 재조합 하는 경우가 많습니다. 예를 들어\n",
    "다음 코드를 살펴보겠습니다. 다음 코드는 range(0, 20, 2)로 0부터 20사이의 짝수를 구한 뒤, 제곱해서 새로운 리스트를 만드는것입니다.\n",
    "이러현 형태의 코드는 많이 볼 수 잇는데, 파이선 프로그래밍 언어는 이를 한줄로 작성할 수 이슨 방법을 제공합니다.\n",
    "\n"
   ]
  },
  {
   "cell_type": "code",
   "execution_count": 22,
   "id": "fc18c470",
   "metadata": {},
   "outputs": [
    {
     "name": "stdout",
     "output_type": "stream",
     "text": [
      "[0, 4, 16, 36, 64, 100, 144, 196, 256, 324]\n"
     ]
    }
   ],
   "source": [
    "array=[]\n",
    "for i in range(0, 20,2):\n",
    "    array.append(i*i)\n",
    "print(array)"
   ]
  },
  {
   "cell_type": "code",
   "execution_count": 23,
   "id": "96689988",
   "metadata": {},
   "outputs": [
    {
     "name": "stdout",
     "output_type": "stream",
     "text": [
      "[0, 4, 16, 36, 64, 100, 144, 196, 256, 324]\n"
     ]
    }
   ],
   "source": [
    "array = [i *i for i in range(0, 20, 2)]\n",
    "print(array)"
   ]
  },
  {
   "cell_type": "code",
   "execution_count": 26,
   "id": "709311d9",
   "metadata": {},
   "outputs": [
    {
     "name": "stdout",
     "output_type": "stream",
     "text": [
      "['apple', 'cherry', 'banana', 'plum']\n"
     ]
    }
   ],
   "source": [
    "# range (0, 20, 2)의 요소를 i라고 할대 i*i로 리스트를 재조합해주세요 라는 코드.\n",
    "# 리스트 이름 = [표현식] for 반복자 in 반복할수 잇는것 \n",
    "\n",
    "array = ['apple', 'cherry', 'chocolate','banana','plum']\n",
    "output = [fruit for fruit in array if fruit != \"chocolate\"]\n",
    "print(output)"
   ]
  }
 ],
 "metadata": {
  "kernelspec": {
   "display_name": "Python 3",
   "language": "python",
   "name": "python3"
  },
  "language_info": {
   "codemirror_mode": {
    "name": "ipython",
    "version": 3
   },
   "file_extension": ".py",
   "mimetype": "text/x-python",
   "name": "python",
   "nbconvert_exporter": "python",
   "pygments_lexer": "ipython3",
   "version": "3.8.8"
  }
 },
 "nbformat": 4,
 "nbformat_minor": 5
}
