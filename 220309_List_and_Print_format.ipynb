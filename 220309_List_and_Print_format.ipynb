{
  "nbformat": 4,
  "nbformat_minor": 0,
  "metadata": {
    "colab": {
      "name": "220309_List and Print_format.ipynb",
      "provenance": [],
      "authorship_tag": "ABX9TyO2CiEXwz9bUjKuptqahatM",
      "include_colab_link": true
    },
    "kernelspec": {
      "name": "python3",
      "display_name": "Python 3"
    },
    "language_info": {
      "name": "python"
    }
  },
  "cells": [
    {
      "cell_type": "markdown",
      "metadata": {
        "id": "view-in-github",
        "colab_type": "text"
      },
      "source": [
        "<a href=\"https://colab.research.google.com/github/Big-Shu-Nim/PYTHON_Basic_Syntax/blob/main/220309_List_and_Print_format.ipynb\" target=\"_parent\"><img src=\"https://colab.research.google.com/assets/colab-badge.svg\" alt=\"Open In Colab\"/></a>"
      ]
    },
    {
      "cell_type": "markdown",
      "source": [
        "List \n"
      ],
      "metadata": {
        "id": "Vhtsqr6pJm0b"
      }
    },
    {
      "cell_type": "code",
      "source": [
        "a=[10,20,30,40]\n"
      ],
      "metadata": {
        "id": "UI2Vx2crJqTb"
      },
      "execution_count": 10,
      "outputs": []
    },
    {
      "cell_type": "code",
      "source": [
        "# I want to see third variable in the list, How?\n",
        "print(a[3])"
      ],
      "metadata": {
        "colab": {
          "base_uri": "https://localhost:8080/"
        },
        "id": "zc84uhA3JuEn",
        "outputId": "f46f2602-fda7-4ab0-ef0a-f51789f43c15"
      },
      "execution_count": 11,
      "outputs": [
        {
          "output_type": "stream",
          "name": "stdout",
          "text": [
            "40\n"
          ]
        }
      ]
    },
    {
      "cell_type": "code",
      "source": [
        "# you got wrong. In python, the number begins in 0 So you should say\n",
        "print(a[2])"
      ],
      "metadata": {
        "colab": {
          "base_uri": "https://localhost:8080/"
        },
        "id": "86pzlpzuKEg6",
        "outputId": "2caeec0b-d904-4b55-9dbf-16358304cddb"
      },
      "execution_count": 12,
      "outputs": [
        {
          "output_type": "stream",
          "name": "stdout",
          "text": [
            "30\n"
          ]
        }
      ]
    },
    {
      "cell_type": "code",
      "source": [
        "aa = []\n",
        "aa.append(0)\n",
        "aa.append(0)\n",
        "aa.append(0)\n",
        "aa.append(0)\n",
        "print(aa)"
      ],
      "metadata": {
        "colab": {
          "base_uri": "https://localhost:8080/"
        },
        "id": "Ivfxba2RKL2c",
        "outputId": "9c2a3ea6-b493-4bb3-9304-6f030385c7bb"
      },
      "execution_count": 15,
      "outputs": [
        {
          "output_type": "stream",
          "name": "stdout",
          "text": [
            "[0, 0, 0, 0]\n"
          ]
        }
      ]
    },
    {
      "cell_type": "code",
      "source": [
        "# I want to make a list that has 100s '0' as a variable\n",
        "aaa=[]\n",
        "for i in range(1,100): # 항상 변수를 넣고 그 변수의 반복만을 했는데 그냥 전체 조건문을 몇번 반복한다도 된다.ㅎ\n",
        "  aaa.append(0)\n",
        "len(aaa)"
      ],
      "metadata": {
        "colab": {
          "base_uri": "https://localhost:8080/"
        },
        "id": "BHgm7LJfKCED",
        "outputId": "8b17f851-1746-4eba-ccab-0ac6a2180b50"
      },
      "execution_count": 17,
      "outputs": [
        {
          "output_type": "execute_result",
          "data": {
            "text/plain": [
              "99"
            ]
          },
          "metadata": {},
          "execution_count": 17
        }
      ]
    },
    {
      "cell_type": "code",
      "source": [
        "aa =[]\n",
        "for i in range(0,4):\n",
        "  aa.append(0)\n",
        "\n",
        "for i in range(0,4) :\n",
        "  aa[i] = int(input(str(i+1)+'번째 숫자 :'))"
      ],
      "metadata": {
        "id": "LdYA5jJCMMT8"
      },
      "execution_count": null,
      "outputs": []
    },
    {
      "cell_type": "code",
      "source": [
        "for i in range(0,4) :\n",
        "  input(str(i+1)+'th number :')"
      ],
      "metadata": {
        "colab": {
          "base_uri": "https://localhost:8080/"
        },
        "id": "uPFem7pLMp-H",
        "outputId": "befcc398-b35e-4f77-8ad9-e8713ebe034d"
      },
      "execution_count": 21,
      "outputs": [
        {
          "name": "stdout",
          "output_type": "stream",
          "text": [
            "1th number :1\n",
            "2th number :2\n",
            "3th number :3\n",
            "4th number :4\n"
          ]
        }
      ]
    },
    {
      "cell_type": "code",
      "source": [
        "type(input(str(i+1)+'th number :'))"
      ],
      "metadata": {
        "colab": {
          "base_uri": "https://localhost:8080/"
        },
        "id": "EnhpmM80NM7v",
        "outputId": "5888060f-a86d-4619-a651-95eed83b9551"
      },
      "execution_count": 22,
      "outputs": [
        {
          "name": "stdout",
          "output_type": "stream",
          "text": [
            "4th number :1\n"
          ]
        },
        {
          "output_type": "execute_result",
          "data": {
            "text/plain": [
              "str"
            ]
          },
          "metadata": {},
          "execution_count": 22
        }
      ]
    },
    {
      "cell_type": "code",
      "source": [
        "for i in range(0,4) :\n",
        "  aa[i] = int(input( str(i+1) + 'th number :'))"
      ],
      "metadata": {
        "colab": {
          "base_uri": "https://localhost:8080/"
        },
        "id": "C4xEHfBXNSW9",
        "outputId": "1fd25731-c717-4677-bed3-5747510e3722"
      },
      "execution_count": 25,
      "outputs": [
        {
          "name": "stdout",
          "output_type": "stream",
          "text": [
            "1th number :1\n",
            "2th number :2\n",
            "3th number :3\n",
            "4th number :4\n"
          ]
        }
      ]
    },
    {
      "cell_type": "code",
      "source": [
        "sum = 0\n",
        "for i in range(0,4):\n",
        "  sum=sum+aa[i]\n",
        "print('sum ==>%d' %sum)"
      ],
      "metadata": {
        "colab": {
          "base_uri": "https://localhost:8080/"
        },
        "id": "QAvhc6nUNl12",
        "outputId": "dab87115-38f9-4f14-d542-fe074a230c93"
      },
      "execution_count": 28,
      "outputs": [
        {
          "output_type": "stream",
          "name": "stdout",
          "text": [
            "sum ==>10\n"
          ]
        }
      ]
    },
    {
      "cell_type": "code",
      "source": [
        "aa=[]\n",
        "for i in range(0,4):\n",
        "  aa.append(0)\n",
        "\n",
        "for i in range(0,4):\n",
        "  aa[i]=int(input( str(i+1) + 'th number:'))\n",
        "\n",
        "sum = 0\n",
        "for i in range(0,4):\n",
        "  sum=sum+aa[i]\n",
        "\n",
        "print('sum==>%d' %sum)"
      ],
      "metadata": {
        "colab": {
          "base_uri": "https://localhost:8080/"
        },
        "id": "YyQ_KkM_OTYF",
        "outputId": "e8a9f9c3-474d-4d6c-cb15-040bef06a6e1"
      },
      "execution_count": 30,
      "outputs": [
        {
          "output_type": "stream",
          "name": "stdout",
          "text": [
            "1th number:30\n",
            "2th number:40\n",
            "3th number:88\n",
            "4th number:124\n",
            "sum==>282\n"
          ]
        }
      ]
    },
    {
      "cell_type": "markdown",
      "source": [
        "%s - Take the next argument and print it as a string\n",
        "%d - Take the next argument and print it as an int\n",
        "\n",
        "https://en.wikipedia.org/wiki/Printf_format_string"
      ],
      "metadata": {
        "id": "cs9tM3gRPKkE"
      }
    },
    {
      "cell_type": "code",
      "source": [
        ""
      ],
      "metadata": {
        "id": "JWHbvkwYQJMU"
      },
      "execution_count": null,
      "outputs": []
    }
  ]
}
