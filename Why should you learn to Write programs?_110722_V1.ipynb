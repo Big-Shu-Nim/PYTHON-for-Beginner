{
 "cells": [
  {
   "cell_type": "markdown",
   "id": "7fa4021b",
   "metadata": {},
   "source": [
    "## chapter 1 . Why should you learn to Write programs?\n"
   ]
  },
  {
   "cell_type": "markdown",
   "id": "905e565b",
   "metadata": {},
   "source": [
    "Exercise 1 : what is the function of the secondary memory in a computer?"
   ]
  },
  {
   "cell_type": "markdown",
   "id": "26045771",
   "metadata": {},
   "source": [
    "-> Store information for the long term, even begond a power cycle."
   ]
  },
  {
   "cell_type": "markdown",
   "id": "598bc314",
   "metadata": {},
   "source": [
    "Exercise 2: what is a program?\n",
    "\n",
    "-> in my opinion, a program is a tool to solve a problem. \n",
    "Here the probelm usually has to do with mandane jobs. "
   ]
  },
  {
   "cell_type": "markdown",
   "id": "b0e79d2b",
   "metadata": {},
   "source": [
    "## Exercise 3: what is the diffrerence between a complier and an interpreter?\n",
    "\n",
    "->The key difference is that an interpreter can immedialy interact with the user so that user can see what's going on/ "
   ]
  },
  {
   "cell_type": "markdown",
   "id": "3650a461",
   "metadata": {},
   "source": [
    "## exercise 4: which of the following contains \"machine code\"?\n",
    "\n",
    "->I would say:\n",
    "    1.Python source file\n",
    "    2.A word processing document\n",
    " "
   ]
  },
  {
   "cell_type": "markdown",
   "id": "c5cf9782",
   "metadata": {},
   "source": [
    "## Exercise 5: what is wrong with the following code?\n",
    "\n",
    "      A: it has a syntax error, to be spicificlly, it uses an invalid function."
   ]
  },
  {
   "cell_type": "markdown",
   "id": "e30a4adf",
   "metadata": {},
   "source": [
    "## Exercise 6: where in the computer is a variable such as \"x\" stored after \n",
    "## the following python line finishes?\n",
    "\n",
    "I think it wolud be Main Memory"
   ]
  },
  {
   "cell_type": "markdown",
   "id": "34b08e5c",
   "metadata": {},
   "source": [
    "## Exercise 7: What will the following program print out:\n",
    "44"
   ]
  },
  {
   "cell_type": "markdown",
   "id": "50d13fc0",
   "metadata": {},
   "source": [
    "# Exercise 8: Explain each of the following using an example of a human capbility: 1) Central processing unit, 2) Main Memory, 3) Secondary Memory 4) Input Device, and 5)output Device. For exmaple, what is the human equivalent to a Centoral Processing Unit?'"
   ]
  },
  {
   "cell_type": "markdown",
   "id": "10f42d51",
   "metadata": {},
   "source": [
    "* I am not sure about anthropotomy, but I think 1) represents the one ablity to calculate, 2) represent the ablity to remember(short term memory?) 3) would be longterm memory , and input and output would be our sense."
   ]
  },
  {
   "cell_type": "code",
   "execution_count": null,
   "id": "8ca3083b",
   "metadata": {},
   "outputs": [],
   "source": []
  },
  {
   "cell_type": "code",
   "execution_count": null,
   "id": "b8c6a441",
   "metadata": {},
   "outputs": [],
   "source": []
  }
 ],
 "metadata": {
  "kernelspec": {
   "display_name": "Python 3",
   "language": "python",
   "name": "python3"
  },
  "language_info": {
   "codemirror_mode": {
    "name": "ipython",
    "version": 3
   },
   "file_extension": ".py",
   "mimetype": "text/x-python",
   "name": "python",
   "nbconvert_exporter": "python",
   "pygments_lexer": "ipython3",
   "version": "3.8.8"
  }
 },
 "nbformat": 4,
 "nbformat_minor": 5
}
