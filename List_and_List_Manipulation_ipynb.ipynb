{
  "nbformat": 4,
  "nbformat_minor": 0,
  "metadata": {
    "colab": {
      "name": "List and List Manipulation ipynb",
      "provenance": [],
      "authorship_tag": "ABX9TyM/KHEquYkpo9tHeHUpTTHc",
      "include_colab_link": true
    },
    "kernelspec": {
      "name": "python3",
      "display_name": "Python 3"
    },
    "language_info": {
      "name": "python"
    }
  },
  "cells": [
    {
      "cell_type": "markdown",
      "metadata": {
        "id": "view-in-github",
        "colab_type": "text"
      },
      "source": [
        "<a href=\"https://colab.research.google.com/github/Big-Shu-Nim/PYTHON-for-Beginner/blob/main/List_and_List_Manipulation_ipynb.ipynb\" target=\"_parent\"><img src=\"https://colab.research.google.com/assets/colab-badge.svg\" alt=\"Open In Colab\"/></a>"
      ]
    },
    {
      "cell_type": "markdown",
      "source": [
        "# List"
      ],
      "metadata": {
        "id": "Dy48-7imxnqx"
      }
    },
    {
      "cell_type": "code",
      "source": [
        "aa=[10,20,30,40]\n",
        "print(aa)"
      ],
      "metadata": {
        "colab": {
          "base_uri": "https://localhost:8080/"
        },
        "id": "3Nit_4zyxk-H",
        "outputId": "9a55f3bc-33ad-47ea-d95c-9a0c35fd99ed"
      },
      "execution_count": 17,
      "outputs": [
        {
          "output_type": "stream",
          "name": "stdout",
          "text": [
            "[10, 20, 30, 40]\n"
          ]
        }
      ]
    },
    {
      "cell_type": "code",
      "source": [
        "print(aa[2])"
      ],
      "metadata": {
        "colab": {
          "base_uri": "https://localhost:8080/"
        },
        "id": "VMHuASPyuDE8",
        "outputId": "f308a0aa-b229-4855-b626-a43dc0333289"
      },
      "execution_count": 2,
      "outputs": [
        {
          "output_type": "stream",
          "name": "stdout",
          "text": [
            "30\n"
          ]
        }
      ]
    },
    {
      "cell_type": "code",
      "source": [
        "aa = []\n",
        "aa.append(0)\n",
        "aa.append(0)\n",
        "aa.append(0)\n",
        "aa.append(0)\n",
        "print(aa)"
      ],
      "metadata": {
        "colab": {
          "base_uri": "https://localhost:8080/"
        },
        "id": "RhxqginXuJDd",
        "outputId": "f2f91aa5-bb02-44b1-90a9-5b3c1dedc965"
      },
      "execution_count": 3,
      "outputs": [
        {
          "output_type": "stream",
          "name": "stdout",
          "text": [
            "[0, 0, 0, 0]\n"
          ]
        }
      ]
    },
    {
      "cell_type": "code",
      "source": [
        "aa =[]\n",
        "for i in range(0,100):\n",
        "  aa.append(0)\n",
        "len(aa)"
      ],
      "metadata": {
        "colab": {
          "base_uri": "https://localhost:8080/"
        },
        "id": "VgmB4eJEuOoo",
        "outputId": "f635cd12-d52f-490c-a42d-7326ad9e1ad1"
      },
      "execution_count": 4,
      "outputs": [
        {
          "output_type": "execute_result",
          "data": {
            "text/plain": [
              "100"
            ]
          },
          "metadata": {},
          "execution_count": 4
        }
      ]
    },
    {
      "cell_type": "code",
      "source": [
        "aa= []\n",
        "for i in range(0,4) :\n",
        "  aa.append(0)\n",
        "for i in range(0,4):\n",
        "  aa[i] = int(input( str(i+1) +'th : '))\n",
        "\n",
        "Sum = 0\n",
        "for i in range(0,4) :\n",
        "  Sum = Sum +aa[i]\n",
        "print('sum ==> %d ' % Sum)"
      ],
      "metadata": {
        "colab": {
          "base_uri": "https://localhost:8080/"
        },
        "id": "moXPNjtEuV-q",
        "outputId": "a5223788-00bd-485c-e787-618f37f3d980"
      },
      "execution_count": 9,
      "outputs": [
        {
          "output_type": "stream",
          "name": "stdout",
          "text": [
            "1th : 40\n",
            "2th : 50\n",
            "3th : 60\n",
            "4th : 70\n",
            "sum ==> 220 \n"
          ]
        }
      ]
    },
    {
      "cell_type": "code",
      "source": [
        "aa = [10, 20, 30, 40]\n",
        "print('aa[-1] equals %d, aa[02] equals %d' %(aa[-1], aa[-2]))"
      ],
      "metadata": {
        "colab": {
          "base_uri": "https://localhost:8080/"
        },
        "id": "WI_UxuzGv_EA",
        "outputId": "17999be4-8e33-4664-9e39-a77459e2e89a"
      },
      "execution_count": 10,
      "outputs": [
        {
          "output_type": "stream",
          "name": "stdout",
          "text": [
            "aa[-1] equals 40, aa[02] equals 30\n"
          ]
        }
      ]
    },
    {
      "cell_type": "code",
      "source": [
        "print(aa[0:3])\n",
        "print(aa[2:3])\n",
        "#note aa[3] would never be included. "
      ],
      "metadata": {
        "colab": {
          "base_uri": "https://localhost:8080/"
        },
        "id": "c3yzYIV0wtqy",
        "outputId": "07277bc1-5318-4879-ef05-b886a6f6b65b"
      },
      "execution_count": 13,
      "outputs": [
        {
          "output_type": "stream",
          "name": "stdout",
          "text": [
            "[10, 20, 30]\n",
            "[30]\n"
          ]
        }
      ]
    },
    {
      "cell_type": "code",
      "source": [
        "aa[2:]"
      ],
      "metadata": {
        "colab": {
          "base_uri": "https://localhost:8080/"
        },
        "id": "960AWFJPxHkw",
        "outputId": "dc0b824c-9bb8-4aeb-8193-28d3cc2d3f8b"
      },
      "execution_count": 14,
      "outputs": [
        {
          "output_type": "execute_result",
          "data": {
            "text/plain": [
              "[30, 40]"
            ]
          },
          "metadata": {},
          "execution_count": 14
        }
      ]
    },
    {
      "cell_type": "code",
      "source": [
        "aa[:2]"
      ],
      "metadata": {
        "colab": {
          "base_uri": "https://localhost:8080/"
        },
        "id": "WN-Y61qexMco",
        "outputId": "6b6157b5-0c2d-4ad3-c9f2-6b49f3a3a4dd"
      },
      "execution_count": 15,
      "outputs": [
        {
          "output_type": "execute_result",
          "data": {
            "text/plain": [
              "[10, 20]"
            ]
          },
          "metadata": {},
          "execution_count": 15
        }
      ]
    },
    {
      "cell_type": "markdown",
      "source": [
        "# List Manipulation"
      ],
      "metadata": {
        "id": "AVpn339sxasl"
      }
    },
    {
      "cell_type": "code",
      "source": [
        "list1=[30,10,20]\n",
        "print('what we have : %s' % list1)"
      ],
      "metadata": {
        "colab": {
          "base_uri": "https://localhost:8080/"
        },
        "id": "xCqfxxOjxjKJ",
        "outputId": "05d05fe7-7dfe-4252-e436-cc1c4977cdb8"
      },
      "execution_count": 20,
      "outputs": [
        {
          "output_type": "stream",
          "name": "stdout",
          "text": [
            "what we have : [30, 10, 20]\n"
          ]
        }
      ]
    },
    {
      "cell_type": "code",
      "source": [
        "list1.append(40)\n",
        "print('outcomes : %s' % list1)"
      ],
      "metadata": {
        "colab": {
          "base_uri": "https://localhost:8080/"
        },
        "id": "LzFjt50JyMM4",
        "outputId": "a3964ed7-47fd-4994-a6d1-3a3c8a852c95"
      },
      "execution_count": 21,
      "outputs": [
        {
          "output_type": "stream",
          "name": "stdout",
          "text": [
            "outcomes : [30, 10, 20, 40]\n"
          ]
        }
      ]
    },
    {
      "cell_type": "code",
      "source": [
        "print('The value that would be extracted by pop() : %s' % list1.pop())"
      ],
      "metadata": {
        "colab": {
          "base_uri": "https://localhost:8080/"
        },
        "id": "3rU1g-Kjyb6C",
        "outputId": "ff959fff-fca6-4343-9af2-74ba2b5ad366"
      },
      "execution_count": 23,
      "outputs": [
        {
          "output_type": "stream",
          "name": "stdout",
          "text": [
            "The value that would be extracted by pop() : 40\n"
          ]
        }
      ]
    },
    {
      "cell_type": "code",
      "source": [
        "print('The outcome of \"pop\" : %s' %list1)"
      ],
      "metadata": {
        "colab": {
          "base_uri": "https://localhost:8080/"
        },
        "id": "_Hr3f5Jey23u",
        "outputId": "f3b966d2-31f4-4a84-a23e-563d1de0f8f3"
      },
      "execution_count": 24,
      "outputs": [
        {
          "output_type": "stream",
          "name": "stdout",
          "text": [
            "The outcome of \"pop\" : [30, 10, 20]\n"
          ]
        }
      ]
    },
    {
      "cell_type": "code",
      "source": [
        "list1.sort()\n",
        "print('The outcome of \"sort\" : %s' % list1)"
      ],
      "metadata": {
        "colab": {
          "base_uri": "https://localhost:8080/"
        },
        "id": "n1EhSrtbzMHB",
        "outputId": "9e6b3ded-13ec-48b1-9809-446fd74560d1"
      },
      "execution_count": 25,
      "outputs": [
        {
          "output_type": "stream",
          "name": "stdout",
          "text": [
            "The outcome of \"sort\" : [10, 20, 30]\n"
          ]
        }
      ]
    },
    {
      "cell_type": "code",
      "source": [
        "list1.reverse()\n",
        "print('The outcome of \"reverse\" : %s' % list1)"
      ],
      "metadata": {
        "colab": {
          "base_uri": "https://localhost:8080/"
        },
        "id": "hdNT6vl5zdoR",
        "outputId": "d024b611-cf27-4e3f-edc2-7da14ca5f3ee"
      },
      "execution_count": 26,
      "outputs": [
        {
          "output_type": "stream",
          "name": "stdout",
          "text": [
            "The outcome of \"reverse\" : [30, 20, 10]\n"
          ]
        }
      ]
    },
    {
      "cell_type": "code",
      "source": [
        "print(' The location of \"20\" : %d' % list1.index(20))"
      ],
      "metadata": {
        "colab": {
          "base_uri": "https://localhost:8080/"
        },
        "id": "-hTBFviPzlV6",
        "outputId": "a1cfd453-2589-4f71-ae1b-1f934bb02d76"
      },
      "execution_count": 27,
      "outputs": [
        {
          "output_type": "stream",
          "name": "stdout",
          "text": [
            " The location of \"20\" : 1\n"
          ]
        }
      ]
    }
  ]
}