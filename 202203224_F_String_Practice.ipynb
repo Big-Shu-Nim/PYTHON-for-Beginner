{
  "nbformat": 4,
  "nbformat_minor": 0,
  "metadata": {
    "colab": {
      "name": "202203224_F-String Practice.ipynb",
      "provenance": []
    },
    "kernelspec": {
      "name": "python3",
      "display_name": "Python 3"
    },
    "language_info": {
      "name": "python"
    }
  },
  "cells": [
    {
      "cell_type": "markdown",
      "source": [
        "##F-String Practice \n",
        "Reference: BlockDMask\n",
        "https://blockdmask.tistory.com/429\n",
        "\n",
        "##Day 01\n",
        "F-string\n",
        "일정: 2022. 3. 24. 오전 2:45부터 오전 3:25까지, GMT+9\n"
      ],
      "metadata": {
        "id": "5U9FcYud5FZw"
      }
    },
    {
      "cell_type": "code",
      "source": [
        "month= 1\n",
        "while month <=12:\n",
        "  print(f'2020년 {month}월')\n",
        "  month=month+1"
      ],
      "metadata": {
        "colab": {
          "base_uri": "https://localhost:8080/"
        },
        "id": "yarfBWUJ5oxA",
        "outputId": "0ceaa211-8021-455e-a90e-180cfc4d4df2"
      },
      "execution_count": 6,
      "outputs": [
        {
          "output_type": "stream",
          "name": "stdout",
          "text": [
            "2020년 1월\n",
            "2020년 2월\n",
            "2020년 3월\n",
            "2020년 4월\n",
            "2020년 5월\n",
            "2020년 6월\n",
            "2020년 7월\n",
            "2020년 8월\n",
            "2020년 9월\n",
            "2020년 10월\n",
            "2020년 11월\n",
            "2020년 12월\n"
          ]
        }
      ]
    },
    {
      "cell_type": "code",
      "source": [
        "s= 'coffee'\n",
        "n= 5\n",
        "result1 = f'I like {s}. I drink {n}times a day.'\n",
        "print(result1)"
      ],
      "metadata": {
        "colab": {
          "base_uri": "https://localhost:8080/"
        },
        "id": "xflW9Jsj6vuN",
        "outputId": "51c6da76-5972-4329-9c94-75c82c44e44f"
      },
      "execution_count": 9,
      "outputs": [
        {
          "output_type": "stream",
          "name": "stdout",
          "text": [
            "I like coffee. I drink 5times a day.\n"
          ]
        }
      ]
    },
    {
      "cell_type": "code",
      "source": [
        "s1 = 'left'\n",
        "result1 = f' |{s1:<10}|'  # :<left\n",
        "print(result1)\n",
        "s2 = 'mid'\n",
        "result2 = f'|{s2:^10}|'  # :^mid\n",
        "print(result2)\n",
        "s3 = 'right'\n",
        "result3 = f'|{s2:>10}|'  # :>right\n",
        "print(result3)"
      ],
      "metadata": {
        "colab": {
          "base_uri": "https://localhost:8080/"
        },
        "id": "vrLAXs_t8X_3",
        "outputId": "55285e37-c260-45b0-d0b7-a0ff971d200e"
      },
      "execution_count": 12,
      "outputs": [
        {
          "output_type": "stream",
          "name": "stdout",
          "text": [
            " |left      |\n",
            "|   mid    |\n",
            "|       mid|\n"
          ]
        }
      ]
    },
    {
      "cell_type": "code",
      "source": [
        "num = 10 \n",
        "result = f'my age {num}'\n",
        "print(result)\n",
        "result = f'my age {{num}}'\n",
        "print(result)\n",
        "result = f'my age {{{num}}}'\n",
        "print(result)\n"
      ],
      "metadata": {
        "colab": {
          "base_uri": "https://localhost:8080/"
        },
        "id": "GT69rI7-96cZ",
        "outputId": "8164235c-0354-4072-8edd-c36cf00d6887"
      },
      "execution_count": 21,
      "outputs": [
        {
          "output_type": "stream",
          "name": "stdout",
          "text": [
            "my age 10\n",
            "my age {num}\n",
            "my age {10}\n"
          ]
        }
      ]
    },
    {
      "cell_type": "code",
      "source": [
        "\n",
        "# f-string과 딕셔너리\n",
        "d = {'name': 'BlockDMask', 'gender': 'man', 'age': 100}\n",
        "result = f'my name {d[\"name\"]}, gender {d[\"gender\"]}, age {d[\"age\"]}'\n",
        "print(result)"
      ],
      "metadata": {
        "colab": {
          "base_uri": "https://localhost:8080/"
        },
        "id": "d8NGaIQF-vb7",
        "outputId": "468ec272-e342-489e-c44e-144d67a531f0"
      },
      "execution_count": 22,
      "outputs": [
        {
          "output_type": "stream",
          "name": "stdout",
          "text": [
            "my name BlockDMask, gender man, age 100\n"
          ]
        }
      ]
    },
    {
      "cell_type": "code",
      "source": [
        "d = {'name':'Eddie', 'gender':'man', 'age':100}\n",
        "print(d)\n",
        "result = f'my name {d[\"name\"]}, gender {d[\"gender\"]}, age {d[\"age\"]}'\n",
        "print(result) "
      ],
      "metadata": {
        "colab": {
          "base_uri": "https://localhost:8080/"
        },
        "id": "EbIT4rac-6Ni",
        "outputId": "84606ef5-32a5-4366-ac03-61ad28c09896"
      },
      "execution_count": 32,
      "outputs": [
        {
          "output_type": "stream",
          "name": "stdout",
          "text": [
            "{'name': 'Eddie', 'gender': 'man', 'age': 100}\n",
            "my name Eddie, gender man, age 100\n"
          ]
        }
      ]
    },
    {
      "cell_type": "code",
      "source": [
        "# f-string과 리스트\n",
        "n = [100, 200, 300]\n",
        " \n",
        "print(f'list : {n[0]}, {n[1]}, {n[2]}')\n",
        " \n",
        " \n",
        "for v in n:\n",
        "    print(f'list with for : {v}')\n"
      ],
      "metadata": {
        "colab": {
          "base_uri": "https://localhost:8080/"
        },
        "id": "S7qGJenqAb6o",
        "outputId": "1c74ddf4-5589-47d3-c812-40e1aebd2b9f"
      },
      "execution_count": 33,
      "outputs": [
        {
          "output_type": "stream",
          "name": "stdout",
          "text": [
            "list : 100, 200, 300\n",
            "list with for : 100\n",
            "list with for : 200\n",
            "list with for : 300\n"
          ]
        }
      ]
    },
    {
      "cell_type": "code",
      "source": [
        "n= [100, 200, 300]\n",
        "\n",
        "print(f'list : {n[0]}, {n[1]}, {n[2]}')\n",
        "print(n)\n",
        "\n",
        "for i in n:\n",
        "  print(f'list with for : {i}')\n",
        "\n"
      ],
      "metadata": {
        "colab": {
          "base_uri": "https://localhost:8080/"
        },
        "id": "ybGtOujHAfxM",
        "outputId": "005d3e22-ca80-4a81-afdc-d9d176395e12"
      },
      "execution_count": 38,
      "outputs": [
        {
          "output_type": "stream",
          "name": "stdout",
          "text": [
            "list : 100, 200, 300\n",
            "[100, 200, 300]\n",
            "list with for : 100\n",
            "list with for : 200\n",
            "list with for : 300\n"
          ]
        }
      ]
    }
  ]
}