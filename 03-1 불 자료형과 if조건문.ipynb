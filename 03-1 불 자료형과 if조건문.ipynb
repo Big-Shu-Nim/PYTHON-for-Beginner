{
 "cells": [
  {
   "cell_type": "code",
   "execution_count": 1,
   "id": "380b545b",
   "metadata": {},
   "outputs": [
    {
     "name": "stdout",
     "output_type": "stream",
     "text": [
      "정수입력12\n",
      "postive\n"
     ]
    }
   ],
   "source": [
    "# 조건문의 기본사용\n",
    "\n",
    "\n",
    "number = input(\"정수입력\")\n",
    "number = int(number)\n",
    "\n",
    "\n",
    "if number > 0 :\n",
    "    print(\"postive\")\n",
    "\n",
    "if number < 0 :\n",
    "    print(\"negative\")\n",
    "\n",
    "    \n",
    "if number == 0:\n",
    "    print('zero')\n"
   ]
  },
  {
   "cell_type": "code",
   "execution_count": 2,
   "id": "a3af47b2",
   "metadata": {},
   "outputs": [],
   "source": [
    "# tab을 제거하고싶을때?\n",
    "\n",
    "# shift + tab 을 사용하면 됩니다."
   ]
  },
  {
   "cell_type": "code",
   "execution_count": 3,
   "id": "0cf2077b",
   "metadata": {},
   "outputs": [
    {
     "name": "stdout",
     "output_type": "stream",
     "text": [
      "2022 년\n",
      "11 월\n",
      "3 일\n",
      "23 시\n",
      "18 분\n",
      "23 초\n"
     ]
    }
   ],
   "source": [
    "# 현재시간 구하기\n",
    "\n",
    "import datetime\n",
    "\n",
    "\n",
    "now = datetime.datetime.now()\n",
    "\n",
    "print(now.year, '년')\n",
    "print(now.month, '월')\n",
    "print(now.day, '일')\n",
    "print(now.hour, '시')\n",
    "print(now.minute, '분')\n",
    "print(now.second, '초')\n",
    "\n"
   ]
  },
  {
   "cell_type": "code",
   "execution_count": 4,
   "id": "bb9459ab",
   "metadata": {},
   "outputs": [
    {
     "name": "stdout",
     "output_type": "stream",
     "text": [
      "2022년 11월 3일 23시 20분 31초\n"
     ]
    }
   ],
   "source": [
    "# format 함수를 활용하여 날짜를 한눈에 볼 수 있게 출력\n",
    "\n",
    "import datetime\n",
    "\n",
    "now = datetime.datetime.now()\n",
    "\n",
    "print(\"{}년 {}월 {}일 {}시 {}분 {}초\".format(\n",
    "now.year,\n",
    "now.month,\n",
    "now.day,\n",
    "now.hour,\n",
    "now.minute,\n",
    "now.second\n",
    "))"
   ]
  },
  {
   "cell_type": "code",
   "execution_count": 5,
   "id": "4dada940",
   "metadata": {},
   "outputs": [
    {
     "name": "stdout",
     "output_type": "stream",
     "text": [
      "it's 23 in the afternoon\n"
     ]
    }
   ],
   "source": [
    " #시간을 조건으로 구분하여 오전 오후 출력 프로그램 만들기\n",
    "    \n",
    "import datetime\n",
    "\n",
    "now = datetime.datetime.now()\n",
    "\n",
    "if now.hour < 12:\n",
    "    print(\"it's {} in the morning\".format(now.hour))\n",
    "\n",
    "if now.hour >= 12:\n",
    "    print(\"it's {} in the afternoon\".format(now.hour))\n"
   ]
  },
  {
   "cell_type": "code",
   "execution_count": 6,
   "id": "ab617477",
   "metadata": {},
   "outputs": [
    {
     "name": "stdout",
     "output_type": "stream",
     "text": [
      "it's 11, so you can say it's autumn\n"
     ]
    }
   ],
   "source": [
    "# 계절을 구분하는 프로그램\n",
    "\n",
    "import datetime\n",
    "\n",
    "now = datetime.datetime.now()\n",
    "\n",
    "if 3 <= now.month <= 5:\n",
    "    print(\"it's {}, so you can say it's spring\".format(now.month))\n",
    "\n",
    "if 6 <= now.month <= 8:\n",
    "    print(\"it's {}, so you can say it's summer\".format(now.month))\n",
    "\n",
    "    \n",
    "if 9 <= now.month <= 11:\n",
    "    print(\"it's {}, so you can say it's autumn\".format(now.month))\n",
    "\n",
    "else:\n",
    "    print(\"it's {}, so you can say it's winter\",format(now.month))\n"
   ]
  },
  {
   "cell_type": "code",
   "execution_count": 7,
   "id": "b3c7023a",
   "metadata": {},
   "outputs": [
    {
     "name": "stdout",
     "output_type": "stream",
     "text": [
      "정수 입력3\n",
      "odd number\n"
     ]
    }
   ],
   "source": [
    "# in operator 복습\n",
    "# 어떤 문자열 내부에 찾고자 하는 문자열이 있는지 확인 할때 사용\n",
    "\n",
    "number = input(\"정수 입력\")\n",
    "last_character = number[-1]\n",
    "\n",
    "if last_character in \"02468\":\n",
    "    print(\"even number\")\n",
    "\n",
    "if last_character in \"13579\":\n",
    "    print(\"odd number\")\n",
    "    \n"
   ]
  },
  {
   "cell_type": "code",
   "execution_count": 8,
   "id": "57ced0fd",
   "metadata": {},
   "outputs": [
    {
     "name": "stdout",
     "output_type": "stream",
     "text": [
      "정수 입력2\n",
      "even number\n"
     ]
    }
   ],
   "source": [
    "\n",
    "\n",
    "# 나머지를 활용하여 홀/짝수 구분하기\n",
    "\n",
    "\n",
    "number = input(\"정수 입력\")\n",
    "number = int(number)\n",
    "\n",
    "if number % 2 == 0:\n",
    "    print(\"even number\")\n",
    "if number % 2 == 1:\n",
    "    print(\"odd number\")\n",
    "    "
   ]
  }
 ],
 "metadata": {
  "kernelspec": {
   "display_name": "Python 3",
   "language": "python",
   "name": "python3"
  },
  "language_info": {
   "codemirror_mode": {
    "name": "ipython",
    "version": 3
   },
   "file_extension": ".py",
   "mimetype": "text/x-python",
   "name": "python",
   "nbconvert_exporter": "python",
   "pygments_lexer": "ipython3",
   "version": "3.8.8"
  }
 },
 "nbformat": 4,
 "nbformat_minor": 5
}
