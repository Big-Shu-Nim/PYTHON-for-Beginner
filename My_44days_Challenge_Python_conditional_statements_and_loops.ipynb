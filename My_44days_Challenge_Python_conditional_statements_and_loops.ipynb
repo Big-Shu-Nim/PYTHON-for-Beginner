{
  "nbformat": 4,
  "nbformat_minor": 0,
  "metadata": {
    "colab": {
      "name": "My 44days Challenge_Python conditional statements and loops.ipynb",
      "provenance": [],
      "authorship_tag": "ABX9TyMoOqOhxUKcREgf8m0OXX3z",
      "include_colab_link": true
    },
    "kernelspec": {
      "name": "python3",
      "display_name": "Python 3"
    },
    "language_info": {
      "name": "python"
    }
  },
  "cells": [
    {
      "cell_type": "markdown",
      "metadata": {
        "id": "view-in-github",
        "colab_type": "text"
      },
      "source": [
        "<a href=\"https://colab.research.google.com/github/Big-Shu-Nim/PYTHON-for-Beginner/blob/main/My_44days_Challenge_Python_conditional_statements_and_loops.ipynb\" target=\"_parent\"><img src=\"https://colab.research.google.com/assets/colab-badge.svg\" alt=\"Open In Colab\"/></a>"
      ]
    },
    {
      "cell_type": "markdown",
      "source": [
        "This is a my 44 day's challenge to get used to for statements. \n",
        "My reference source are 🇰\n",
        "https://www.w3resource.com/python-exercises/python-conditional-statements-and-loop-exercises.php#EDITOR\n",
        "\n",
        "I basically try new one a day. However it should be accumulated. For example Today I'm going to finish module 1 section. I'll try it tomorrow. Also the day after tomorrow. Wish me luck. :)"
      ],
      "metadata": {
        "id": "nHYDUUbanE9A"
      }
    },
    {
      "cell_type": "markdown",
      "source": [
        "1.Write a Python program to find those numbers which are divisible by 7 and multiple of 5, between 1500 and 2700 (both included).\n",
        "* multiple of  배수\n",
        "\n",
        "Start Date 03 06 22"
      ],
      "metadata": {
        "id": "F8y0GFCtrFle"
      }
    },
    {
      "cell_type": "markdown",
      "source": [
        "for i in range(condit"
      ],
      "metadata": {
        "id": "P_U7M-SRnITT"
      }
    },
    {
      "cell_type": "code",
      "source": [
        "nl=[]\n",
        "for x in range(1500, 2701):\n",
        "    if (x%7==0) and (x%5==0):\n",
        "        nl.append(str(x))\n",
        "print (','.join(nl))"
      ],
      "metadata": {
        "colab": {
          "base_uri": "https://localhost:8080/"
        },
        "id": "Tcxcxe1snWbY",
        "outputId": "70604384-58f3-4016-8724-7fe7ea748f70"
      },
      "execution_count": 1,
      "outputs": [
        {
          "output_type": "stream",
          "name": "stdout",
          "text": [
            "1505,1540,1575,1610,1645,1680,1715,1750,1785,1820,1855,1890,1925,1960,1995,2030,2065,2100,2135,2170,2205,2240,2275,2310,2345,2380,2415,2450,2485,2520,2555,2590,2625,2660,2695\n"
          ]
        }
      ]
    },
    {
      "cell_type": "code",
      "source": [
        "nl=[]\n",
        "for x in range(1500, 2701):\n",
        "               if (x%7==0):\n",
        "                 nl.append(str(x))\n",
        "print (','.join(nl))\n"
      ],
      "metadata": {
        "colab": {
          "base_uri": "https://localhost:8080/"
        },
        "id": "R8KM62QrohFU",
        "outputId": "0b87fc7d-7857-4d51-ff78-4f565a9c3d8f"
      },
      "execution_count": 6,
      "outputs": [
        {
          "output_type": "stream",
          "name": "stdout",
          "text": [
            "1505,1512,1519,1526,1533,1540,1547,1554,1561,1568,1575,1582,1589,1596,1603,1610,1617,1624,1631,1638,1645,1652,1659,1666,1673,1680,1687,1694,1701,1708,1715,1722,1729,1736,1743,1750,1757,1764,1771,1778,1785,1792,1799,1806,1813,1820,1827,1834,1841,1848,1855,1862,1869,1876,1883,1890,1897,1904,1911,1918,1925,1932,1939,1946,1953,1960,1967,1974,1981,1988,1995,2002,2009,2016,2023,2030,2037,2044,2051,2058,2065,2072,2079,2086,2093,2100,2107,2114,2121,2128,2135,2142,2149,2156,2163,2170,2177,2184,2191,2198,2205,2212,2219,2226,2233,2240,2247,2254,2261,2268,2275,2282,2289,2296,2303,2310,2317,2324,2331,2338,2345,2352,2359,2366,2373,2380,2387,2394,2401,2408,2415,2422,2429,2436,2443,2450,2457,2464,2471,2478,2485,2492,2499,2506,2513,2520,2527,2534,2541,2548,2555,2562,2569,2576,2583,2590,2597,2604,2611,2618,2625,2632,2639,2646,2653,2660,2667,2674,2681,2688,2695\n"
          ]
        }
      ]
    },
    {
      "cell_type": "code",
      "source": [
        "nl=[]\n",
        "for x in range(1500, 2701):\n",
        "  if(x%7==0) and (x%5==0):\n",
        "    nl.append(str(x))\n",
        "print(','.join(nl))\n"
      ],
      "metadata": {
        "colab": {
          "base_uri": "https://localhost:8080/"
        },
        "id": "8uRjn54upcc5",
        "outputId": "43634d9e-b997-4b6b-cd08-d5c7475a6cf1"
      },
      "execution_count": 10,
      "outputs": [
        {
          "output_type": "stream",
          "name": "stdout",
          "text": [
            "1505,1540,1575,1610,1645,1680,1715,1750,1785,1820,1855,1890,1925,1960,1995,2030,2065,2100,2135,2170,2205,2240,2275,2310,2345,2380,2415,2450,2485,2520,2555,2590,2625,2660,2695\n"
          ]
        }
      ]
    },
    {
      "cell_type": "code",
      "source": [
        "# reference for .join --https://blockdmask.tistory.com/468"
      ],
      "metadata": {
        "id": "6_dmoFAaqRhW"
      },
      "execution_count": 15,
      "outputs": []
    },
    {
      "cell_type": "markdown",
      "source": [
        ""
      ],
      "metadata": {
        "id": "LLzVWl7xrD_k"
      }
    }
  ]
}