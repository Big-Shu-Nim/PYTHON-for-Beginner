{
 "cells": [
  {
   "cell_type": "markdown",
   "id": "111745ec",
   "metadata": {},
   "source": [
    "Python if statement Practice  [2022.02.20]"
   ]
  },
  {
   "cell_type": "code",
   "execution_count": 2,
   "id": "9b38ce22",
   "metadata": {},
   "outputs": [
    {
     "name": "stdout",
     "output_type": "stream",
     "text": [
      "매출액을 입력하세요.2000\n",
      "2000\n"
     ]
    }
   ],
   "source": [
    "sale = int(input('매출액을 입력하세요.'))\n",
    "print(sale)"
   ]
  },
  {
   "cell_type": "code",
   "execution_count": 5,
   "id": "0cfb2955",
   "metadata": {},
   "outputs": [
    {
     "name": "stdout",
     "output_type": "stream",
     "text": [
      "매출액을 입력하세요.2000\n",
      "매출은 순조롭습니다.\n",
      "처리를 종료합니다.\n"
     ]
    }
   ],
   "source": [
    "sale = int(input('매출액을 입력하세요.'))\n",
    "if sale >=100:\n",
    "    print('매출은 순조롭습니다.')\n",
    "\n",
    "print('처리를 종료합니다.')"
   ]
  },
  {
   "cell_type": "code",
   "execution_count": 6,
   "id": "cb6d85c6",
   "metadata": {},
   "outputs": [
    {
     "name": "stdout",
     "output_type": "stream",
     "text": [
      "매출액을 입력하세요.50\n",
      "처리를 종료합니다.\n"
     ]
    }
   ],
   "source": [
    "sale = int(input('매출액을 입력하세요.'))\n",
    "if sale >=100:\n",
    "    print('매출은 순조롭습니다.')\n",
    "\n",
    "print('처리를 종료합니다.')"
   ]
  },
  {
   "cell_type": "code",
   "execution_count": 7,
   "id": "b5506657",
   "metadata": {},
   "outputs": [
    {
     "name": "stdout",
     "output_type": "stream",
     "text": [
      "매출액을 입력하세요.60\n",
      "normal\n",
      "처리를 종료합니다.\n"
     ]
    }
   ],
   "source": [
    "sale = int(input('매출액을 입력하세요.'))\n",
    "if sale >=100:\n",
    "    print('good')\n",
    "elif sale >=50:\n",
    "    print('normal')\n",
    "else:\n",
    "    print('bad')\n",
    "    \n",
    "\n",
    "print('처리를 종료합니다.')"
   ]
  },
  {
   "cell_type": "code",
   "execution_count": 8,
   "id": "ae4b377e",
   "metadata": {},
   "outputs": [
    {
     "name": "stdout",
     "output_type": "stream",
     "text": [
      "매출액을 입력하세요.500\n",
      "인원 수를 입력하세요.2\n",
      "Good\n",
      "The process wil be closed\n"
     ]
    }
   ],
   "source": [
    "sale = int( input(\"매출액을 입력하세요.\"))\n",
    "num = int(input('인원 수를 입력하세요.'))\n",
    "\n",
    "if sale >= 100 and num >= 30:\n",
    "    print('Very Good')\n",
    "elif sale >= 100:\n",
    "    print('Good')\n",
    "elif sale >= 50:\n",
    "    print('Noraml')\n",
    "else:\n",
    "    print('Bad')\n",
    "\n",
    "print('The process wil be closed')"
   ]
  },
  {
   "cell_type": "raw",
   "id": "878510d7",
   "metadata": {},
   "source": [
    "res = input(\"is good (o|x)\")\n",
    "ans=\"good\"if(res ==\"0\") else 'normal'"
   ]
  },
  {
   "cell_type": "code",
   "execution_count": null,
   "id": "86f59f1e",
   "metadata": {},
   "outputs": [],
   "source": []
  }
 ],
 "metadata": {
  "kernelspec": {
   "display_name": "Python 3",
   "language": "python",
   "name": "python3"
  },
  "language_info": {
   "codemirror_mode": {
    "name": "ipython",
    "version": 3
   },
   "file_extension": ".py",
   "mimetype": "text/x-python",
   "name": "python",
   "nbconvert_exporter": "python",
   "pygments_lexer": "ipython3",
   "version": "3.8.8"
  }
 },
 "nbformat": 4,
 "nbformat_minor": 5
}
