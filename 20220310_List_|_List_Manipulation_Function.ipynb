{
  "nbformat": 4,
  "nbformat_minor": 0,
  "metadata": {
    "colab": {
      "name": "20220310_List  | List Manipulation Function.ipynb",
      "provenance": [],
      "authorship_tag": "ABX9TyP57SJkz59jsJuVv+zgTpmR",
      "include_colab_link": true
    },
    "kernelspec": {
      "name": "python3",
      "display_name": "Python 3"
    },
    "language_info": {
      "name": "python"
    }
  },
  "cells": [
    {
      "cell_type": "markdown",
      "metadata": {
        "id": "view-in-github",
        "colab_type": "text"
      },
      "source": [
        "<a href=\"https://colab.research.google.com/github/Big-Shu-Nim/PYTHON_Basic_Syntax/blob/main/20220310_List_%7C_List_Manipulation_Function.ipynb\" target=\"_parent\"><img src=\"https://colab.research.google.com/assets/colab-badge.svg\" alt=\"Open In Colab\"/></a>"
      ]
    },
    {
      "cell_type": "markdown",
      "source": [
        "# List"
      ],
      "metadata": {
        "id": "SvEgxmbsEmWH"
      }
    },
    {
      "cell_type": "code",
      "source": [
        "a=[10,20,30,40]\n",
        "\n",
        "print(a[0:5])\n",
        "# when you want to call a varible of lists. you can use semi colon. \n",
        "# Note you should remember [beigin number : end number +1]"
      ],
      "metadata": {
        "colab": {
          "base_uri": "https://localhost:8080/"
        },
        "id": "3EcLocQVEr8g",
        "outputId": "a573f872-ea98-4604-d94f-8b1ed34e8791"
      },
      "execution_count": 17,
      "outputs": [
        {
          "output_type": "stream",
          "name": "stdout",
          "text": [
            "[10, 20, 30, 40]\n"
          ]
        }
      ]
    },
    {
      "cell_type": "code",
      "source": [
        "print(a[1:3])\n",
        "print(a[2:4])\n"
      ],
      "metadata": {
        "colab": {
          "base_uri": "https://localhost:8080/"
        },
        "id": "tNMTes_CFeHr",
        "outputId": "bdd68e4e-4a3f-49d9-a538-664f713e6cfd"
      },
      "execution_count": 18,
      "outputs": [
        {
          "output_type": "stream",
          "name": "stdout",
          "text": [
            "[20, 30]\n",
            "[30, 40]\n"
          ]
        }
      ]
    },
    {
      "cell_type": "code",
      "source": [
        "aa=[30,10,20]\n",
        "print('current list : %s' %aa)"
      ],
      "metadata": {
        "colab": {
          "base_uri": "https://localhost:8080/"
        },
        "id": "bxDFRbSXGBuG",
        "outputId": "004db391-c22e-4852-84ae-f814bb80e202"
      },
      "execution_count": 19,
      "outputs": [
        {
          "output_type": "stream",
          "name": "stdout",
          "text": [
            "current list : [30, 10, 20]\n"
          ]
        }
      ]
    },
    {
      "cell_type": "code",
      "source": [
        "aa.append(40)\n",
        "print(aa)"
      ],
      "metadata": {
        "colab": {
          "base_uri": "https://localhost:8080/"
        },
        "id": "4_rdDOBGGURO",
        "outputId": "ffcffef0-b95a-43a9-e4ab-58b26e7754d0"
      },
      "execution_count": 20,
      "outputs": [
        {
          "output_type": "stream",
          "name": "stdout",
          "text": [
            "[30, 10, 20, 40]\n"
          ]
        }
      ]
    },
    {
      "cell_type": "code",
      "source": [
        "aa.pop()\n",
        "print(aa) # pop 을 두번수행해서 두개 날라갔다."
      ],
      "metadata": {
        "colab": {
          "base_uri": "https://localhost:8080/"
        },
        "id": "2bZCo43eGh-V",
        "outputId": "d324ce39-d5c3-4919-f013-9616b547ff19"
      },
      "execution_count": 21,
      "outputs": [
        {
          "output_type": "stream",
          "name": "stdout",
          "text": [
            "[30, 10, 20]\n"
          ]
        }
      ]
    },
    {
      "cell_type": "code",
      "source": [
        "aa.sort()\n",
        "print(aa)"
      ],
      "metadata": {
        "colab": {
          "base_uri": "https://localhost:8080/"
        },
        "id": "3gCnP8HHGw1x",
        "outputId": "98562e4e-e61c-417d-c6c7-564e1e20b467"
      },
      "execution_count": 22,
      "outputs": [
        {
          "output_type": "stream",
          "name": "stdout",
          "text": [
            "[10, 20, 30]\n"
          ]
        }
      ]
    },
    {
      "cell_type": "code",
      "source": [
        "aa.reverse()\n",
        "print(aa)"
      ],
      "metadata": {
        "colab": {
          "base_uri": "https://localhost:8080/"
        },
        "id": "Lcpk7372G-Uf",
        "outputId": "bbcaf4cc-6310-4822-e73e-f20b8486f77c"
      },
      "execution_count": 23,
      "outputs": [
        {
          "output_type": "stream",
          "name": "stdout",
          "text": [
            "[30, 20, 10]\n"
          ]
        }
      ]
    },
    {
      "cell_type": "code",
      "source": [
        "print(aa.index(20))"
      ],
      "metadata": {
        "colab": {
          "base_uri": "https://localhost:8080/"
        },
        "id": "NbomVjGqHBbH",
        "outputId": "deec6b6f-d3bd-4056-8843-c225b9dddd8d"
      },
      "execution_count": 24,
      "outputs": [
        {
          "output_type": "stream",
          "name": "stdout",
          "text": [
            "1\n"
          ]
        }
      ]
    },
    {
      "cell_type": "code",
      "source": [
        "aa.insert(2,222)\n",
        "print(aa)"
      ],
      "metadata": {
        "colab": {
          "base_uri": "https://localhost:8080/"
        },
        "id": "tot2jofNHHbG",
        "outputId": "45f90ad3-f7de-49b9-db1e-157baa363d64"
      },
      "execution_count": 25,
      "outputs": [
        {
          "output_type": "stream",
          "name": "stdout",
          "text": [
            "[30, 20, 222, 10]\n"
          ]
        }
      ]
    },
    {
      "cell_type": "code",
      "source": [
        "aa.remove(222)"
      ],
      "metadata": {
        "id": "6pPCAgXtHLHa"
      },
      "execution_count": 26,
      "outputs": []
    },
    {
      "cell_type": "code",
      "source": [
        "print(aa)"
      ],
      "metadata": {
        "colab": {
          "base_uri": "https://localhost:8080/"
        },
        "id": "fxbeprvuHOhO",
        "outputId": "1e11a6d4-1fc6-48a9-f063-f993671d48d5"
      },
      "execution_count": 27,
      "outputs": [
        {
          "output_type": "stream",
          "name": "stdout",
          "text": [
            "[30, 20, 10]\n"
          ]
        }
      ]
    },
    {
      "cell_type": "code",
      "source": [
        "aa.extend([77,88,77])\n",
        "print(aa)"
      ],
      "metadata": {
        "colab": {
          "base_uri": "https://localhost:8080/"
        },
        "id": "UsTthcsCHPjx",
        "outputId": "bf1fcba0-49a9-4624-ee50-fc0e1de58863"
      },
      "execution_count": 29,
      "outputs": [
        {
          "output_type": "stream",
          "name": "stdout",
          "text": [
            "[30, 20, 10, 77, 88, 77]\n"
          ]
        }
      ]
    },
    {
      "cell_type": "code",
      "source": [
        "print(aa.count(77))"
      ],
      "metadata": {
        "colab": {
          "base_uri": "https://localhost:8080/"
        },
        "id": "QCmn8DbmHWFS",
        "outputId": "ada95298-bc55-429a-db0d-59c37877d9a0"
      },
      "execution_count": 30,
      "outputs": [
        {
          "output_type": "stream",
          "name": "stdout",
          "text": [
            "2\n"
          ]
        }
      ]
    },
    {
      "cell_type": "code",
      "source": [
        "aa=[10,20,30]"
      ],
      "metadata": {
        "id": "p_SV29BAHg_a"
      },
      "execution_count": 31,
      "outputs": []
    },
    {
      "cell_type": "code",
      "source": [
        "aa=[[1,2,3,4,],\n",
        "    [5,6,7,8],\n",
        "    [9,10,11,12]]\n",
        "  "
      ],
      "metadata": {
        "id": "h3ALxBJoHoN2"
      },
      "execution_count": 32,
      "outputs": []
    },
    {
      "cell_type": "code",
      "source": [
        "print(aa[0][3])\n",
        "print(aa[1][2])\n",
        "print(aa[2][0])"
      ],
      "metadata": {
        "colab": {
          "base_uri": "https://localhost:8080/"
        },
        "id": "x_MX-yM5IGe2",
        "outputId": "6add23e8-573a-4193-b1eb-fc45c2dd3285"
      },
      "execution_count": 38,
      "outputs": [
        {
          "output_type": "stream",
          "name": "stdout",
          "text": [
            "4\n",
            "7\n",
            "9\n"
          ]
        }
      ]
    },
    {
      "cell_type": "code",
      "source": [
        "list1=[]\n",
        "list2=[]\n",
        "value=1\n",
        "for i in range(0,3) :\n",
        "  for k in range(0,4) :\n",
        "    list1.append(value)\n",
        "    value +=1\n",
        "  list2.append(list1)\n",
        "  list1 =[]\n",
        "print(list1)\n",
        "print(list2)"
      ],
      "metadata": {
        "colab": {
          "base_uri": "https://localhost:8080/"
        },
        "id": "v3sdv-i2I7Vv",
        "outputId": "1fd24bfe-3bbf-4293-b2c3-a7f521e50b37"
      },
      "execution_count": 49,
      "outputs": [
        {
          "output_type": "stream",
          "name": "stdout",
          "text": [
            "[]\n",
            "[[1, 2, 3, 4], [5, 6, 7, 8], [9, 10, 11, 12]]\n"
          ]
        }
      ]
    },
    {
      "cell_type": "code",
      "source": [
        "list1=[]\n",
        "list2=[]\n",
        "value=1\n",
        "for i in range(0,3) :\n",
        "  for k in range(0,4) :\n",
        "    list1.append(value)\n",
        "    value +=1\n",
        "  list2.append(list1)\n",
        "  list1 =[]\n",
        "\n",
        "\n",
        "for i in range(0,3) :\n",
        "  for k in range(0,4) :\n",
        "    print(\"%3d\" % list2[i][k], end=\" \")\n",
        "  print(\"\")"
      ],
      "metadata": {
        "colab": {
          "base_uri": "https://localhost:8080/"
        },
        "id": "vHezSJfrLCm1",
        "outputId": "b7ebf858-85e8-4940-9fc9-4359be06cbbc"
      },
      "execution_count": 51,
      "outputs": [
        {
          "output_type": "stream",
          "name": "stdout",
          "text": [
            "  1   2   3   4 \n",
            "  5   6   7   8 \n",
            "  9  10  11  12 \n"
          ]
        }
      ]
    }
  ]
}