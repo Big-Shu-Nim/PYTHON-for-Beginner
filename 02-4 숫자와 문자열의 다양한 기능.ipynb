{
 "cells": [
  {
   "cell_type": "markdown",
   "id": "4d32b714",
   "metadata": {},
   "source": [
    "## 문자열의 format()함수 "
   ]
  },
  {
   "cell_type": "markdown",
   "id": "ea79d274",
   "metadata": {},
   "source": [
    "format()는 문자열이 가지고 있는 함수 입니다. 중괄호를 포함한 문자열 뒤에 마침표를 찍고 이 함수를 사용하는데 \n",
    "* 중괄호의 개수와 format함수 괄호 안 매개변수의 개수는 반드시 같아야 합니다."
   ]
  },
  {
   "cell_type": "code",
   "execution_count": 1,
   "id": "3e3a322c",
   "metadata": {},
   "outputs": [
    {
     "data": {
      "text/plain": [
       "'101 202 303 404 505'"
      ]
     },
     "execution_count": 1,
     "metadata": {},
     "output_type": "execute_result"
    }
   ],
   "source": [
    "\"{}\".format(10)\n",
    "\"{} {}\".format(10, 20)\n",
    "\"{} {} {} {} {}\".format(101, 202, 303, 404, 505)"
   ]
  },
  {
   "cell_type": "code",
   "execution_count": 2,
   "id": "512dd09c",
   "metadata": {},
   "outputs": [
    {
     "name": "stdout",
     "output_type": "stream",
     "text": [
      "10\n",
      "<class 'str'>\n"
     ]
    }
   ],
   "source": [
    "# format함수로 숫자를 문자열로 변환하기\n",
    "\n",
    "string_a = \"{}\".format(10)\n",
    "\n",
    "print(string_a)\n",
    "print(type(string_a))"
   ]
  },
  {
   "cell_type": "code",
   "execution_count": 7,
   "id": "b17ea860",
   "metadata": {},
   "outputs": [
    {
     "name": "stdout",
     "output_type": "stream",
     "text": [
      "5000만 원\n",
      "파이썬 열공해서 연봉 9000 만원 만들고 회수 수익 100 퍼센트 증가시켜야지\n",
      "3000 4000 5000\n",
      "1 문자열 True\n"
     ]
    }
   ],
   "source": [
    "# format 함수의 다양한 형태\n",
    "\n",
    "format_a = \"{}만 원\".format(5000)\n",
    "format_b =\"파이썬 열공해서 연봉 {} 만원 만들고 회수 수익 {} 퍼센트 증가시켜야지\".format(9000,100)\n",
    "format_c = \"{} {} {}\".format(3000, 4000, 5000)\n",
    "format_d= \"{} {} {}\" .format(1, \"문자열\", True)\n",
    "\n",
    "print(format_a)\n",
    "print(format_b)\n",
    "print(format_c)\n",
    "print(format_d)"
   ]
  },
  {
   "cell_type": "code",
   "execution_count": 10,
   "id": "bc4f811b",
   "metadata": {},
   "outputs": [
    {
     "name": "stdout",
     "output_type": "stream",
     "text": [
      "52\n",
      "   52\n",
      "        52\n",
      "00052\n",
      "-0052\n"
     ]
    }
   ],
   "source": [
    "\n",
    "# 정수\n",
    "output_a = \"{:d}\".format(52)\n",
    "\n",
    "# 정수를 특정칸에 출력하기\n",
    "\n",
    "output_b = \"{:5d}\".format(52) # space after 5 \n",
    "output_c= \"{:10d}\".format(52) # space after 10\n",
    "\n",
    "# fill with 0 \n",
    "\n",
    "output_d = \"{:05d}\".format(52) # positive number\n",
    "output_e = \"{:05d}\".format(-52) # negative number\n",
    "\n",
    "\n",
    "\n",
    "print(output_a)\n",
    "print(output_b)\n",
    "print(output_c)\n",
    "print(output_d)\n",
    "print(output_e)\n"
   ]
  },
  {
   "cell_type": "code",
   "execution_count": 11,
   "id": "ebe687db",
   "metadata": {},
   "outputs": [
    {
     "name": "stdout",
     "output_type": "stream",
     "text": [
      "+52\n",
      "-52\n",
      " 52\n",
      "-52\n"
     ]
    }
   ],
   "source": [
    "#기호 붙여서 출력하게\n",
    "\n",
    "output_f = \"{:+d}\".format(52) # positive number\n",
    "output_g = \"{:+d}\".format(-52) # negative number\n",
    "output_h = \"{: d}\".format(52) # positive number, the sign would be eliminated\n",
    "output_i = \"{: d}\".format(-52) # negative number, the sign would be eliminated\n",
    "\n",
    "print(output_f)\n",
    "print(output_g)\n",
    "print(output_h)\n",
    "print(output_i)"
   ]
  },
  {
   "cell_type": "code",
   "execution_count": 19,
   "id": "84d9ba4c",
   "metadata": {},
   "outputs": [
    {
     "name": "stdout",
     "output_type": "stream",
     "text": [
      "  +52\n",
      "  -52\n",
      "+  52\n",
      "-  52\n",
      "+0052\n",
      "-0052\n"
     ]
    }
   ],
   "source": [
    "\n",
    "output_h = \"{:+5d}\".format(52)  \n",
    "print(output_h)\n",
    "#when you want to print with format , you have to use :d,\n",
    "# if you add number before d, it would space as much you write it down. \n",
    "\n",
    "output_g = \"{:+5d}\".format(-52)\n",
    "print(output_g)\n",
    "\n",
    "output_j = \"{:=+5d}\".format(52) # 기호를 앞으로 밀기, 기호와 공백 조합시 = 기호 사용 이 의미는 5칸의 공간을 잡았을때 기호를 앞에 붙일지\n",
    "#뒤에 붙일지 결정\n",
    "print(output_j)\n",
    "output_k = \"{:=+5d}\".format(-52) # negative number \n",
    "print(output_k)\n",
    "\n",
    "# 0으로 채우기\n",
    "output_l = \"{:+05d}\".format(52)\n",
    "output_m = \"{:+05d}\".format(-52)\n",
    "print(output_l)\n",
    "print(output_m)"
   ]
  },
  {
   "cell_type": "markdown",
   "id": "90df85db",
   "metadata": {},
   "source": [
    "## Formatting with float number "
   ]
  },
  {
   "cell_type": "code",
   "execution_count": 22,
   "id": "1fc3088f",
   "metadata": {},
   "outputs": [
    {
     "name": "stdout",
     "output_type": "stream",
     "text": [
      "52.273000\n",
      "      52.273000\n",
      "     +52.273000\n",
      "+0000052.273000\n"
     ]
    }
   ],
   "source": [
    "output_a = \"{:f}\".format(52.273)\n",
    "output_b = \"{:15f}\".format(52.273) # 15칸 만들기\n",
    "output_c = \"{:+15f}\".format(52.273) # 15칸에 부호 추가하기\n",
    "output_d = \"{:+015f}\".format(52.273) # 15칸에 부호 추가하고 0으로 채우기\n",
    "\n",
    "print(output_a)\n",
    "print(output_b)\n",
    "print(output_c)\n",
    "print(output_d)\n"
   ]
  },
  {
   "cell_type": "code",
   "execution_count": 31,
   "id": "295bad18",
   "metadata": {},
   "outputs": [
    {
     "name": "stdout",
     "output_type": "stream",
     "text": [
      "         52.273\n",
      "          52.27\n",
      "           52.3\n"
     ]
    }
   ],
   "source": [
    "a = \"{:15.3f}\".format(52.273)# 다음 코드처럼 .을 입력하고 뒤에 몇 번째 자리수까지 표시할지 지정하면 소수점 아래 자릿수를 지정 할수 있습니다.\n",
    "b = \"{:15.2f}\".format(52.273)\n",
    "c = \"{:15.1f}\".format(52.273)\n",
    "\n",
    "print(a)\n",
    "print(b)\n",
    "print(c)\n",
    "# 자동으로 반올림이 일어남"
   ]
  },
  {
   "cell_type": "code",
   "execution_count": 29,
   "id": "2df0631b",
   "metadata": {},
   "outputs": [
    {
     "name": "stdout",
     "output_type": "stream",
     "text": [
      "52.273\n"
     ]
    }
   ],
   "source": [
    "d = \"{:.3f}\".format(52.273)\n",
    "print(d)"
   ]
  },
  {
   "cell_type": "code",
   "execution_count": 32,
   "id": "22b6dade",
   "metadata": {},
   "outputs": [
    {
     "name": "stdout",
     "output_type": "stream",
     "text": [
      "52.0\n",
      "52\n"
     ]
    }
   ],
   "source": [
    "#의미 없는 소수점 제거하기\n",
    "\n",
    "output_a = 52.0\n",
    "output_b = \"{:g}\".format(output_a)\n",
    "print(output_a)\n",
    "print(output_b)"
   ]
  },
  {
   "cell_type": "markdown",
   "id": "e83cf03a",
   "metadata": {},
   "source": [
    "## uppper() and lower()"
   ]
  },
  {
   "cell_type": "code",
   "execution_count": 33,
   "id": "c23cceba",
   "metadata": {},
   "outputs": [
    {
     "data": {
      "text/plain": [
       "'HELLO WORLD'"
      ]
     },
     "execution_count": 33,
     "metadata": {},
     "output_type": "execute_result"
    }
   ],
   "source": [
    "a = \"hello world\"\n",
    "a.upper()"
   ]
  },
  {
   "cell_type": "code",
   "execution_count": 34,
   "id": "b0628f57",
   "metadata": {},
   "outputs": [
    {
     "data": {
      "text/plain": [
       "'hello world'"
      ]
     },
     "execution_count": 34,
     "metadata": {},
     "output_type": "execute_result"
    }
   ],
   "source": [
    "a.lower()"
   ]
  },
  {
   "cell_type": "markdown",
   "id": "532c5477",
   "metadata": {},
   "source": [
    "## 문자열 양옆의 공백 제거하기 : strip()"
   ]
  },
  {
   "cell_type": "markdown",
   "id": "36be85b8",
   "metadata": {},
   "source": [
    "* strip() 문자열 양옆의 공백을 제거합니다\n",
    "* lstrip()  문자열 왼쪽의 공백을 제거합니다.\n",
    "* rstrip() 문자열 오른쪽의 공백을 제거합니다.\n"
   ]
  },
  {
   "cell_type": "code",
   "execution_count": 35,
   "id": "f19a9089",
   "metadata": {},
   "outputs": [
    {
     "name": "stdout",
     "output_type": "stream",
     "text": [
      "\n",
      "안녕하세요\n",
      "문자열의 함수를 알아보빕시다.\n",
      "\n"
     ]
    }
   ],
   "source": [
    "# \"\"\" \"\"\" 는 의도하지 않은 줄바꿈이 생길수있다.\n",
    "a = \"\"\"\n",
    "안녕하세요\n",
    "문자열의 함수를 알아보빕시다.\n",
    "\"\"\"\n",
    "print(a)"
   ]
  },
  {
   "cell_type": "code",
   "execution_count": 36,
   "id": "7abfa2c2",
   "metadata": {},
   "outputs": [
    {
     "name": "stdout",
     "output_type": "stream",
     "text": [
      "안녕하세요\n",
      "문자열의 함수를 알아보빕시다.\n"
     ]
    }
   ],
   "source": [
    "print(a.strip())"
   ]
  },
  {
   "cell_type": "markdown",
   "id": "6ce539b2",
   "metadata": {},
   "source": [
    "isalnum()\n",
    "isalpha\n",
    "isidentifier  -- 문자열이 식별자로 사용 할수 있는것인지?\n",
    "isdecimal  --문자열이 정수 형태인지 확인\n",
    "isdigit  -- 문자열이 숫자로 인식될수 있는지 \n",
    "isspace\n",
    "islower\n",
    "isupper"
   ]
  },
  {
   "cell_type": "markdown",
   "id": "664d0492",
   "metadata": {},
   "source": [
    "## 문자열 찾기 \n",
    "find() : 왼쪽부터 찾아서 처음 등장하는 위치를 찾습니다\n",
    "rfind(): 오른쪽부터 찾아서 처음 등장하는 위치를 찾습니다. \n",
    "\n",
    "\n",
    "\n"
   ]
  },
  {
   "cell_type": "code",
   "execution_count": 37,
   "id": "0d7d4e58",
   "metadata": {},
   "outputs": [
    {
     "name": "stdout",
     "output_type": "stream",
     "text": [
      "0\n"
     ]
    }
   ],
   "source": [
    "a = 'hihihi im suji'.find('hi')\n",
    "print(a)"
   ]
  },
  {
   "cell_type": "code",
   "execution_count": 39,
   "id": "ed52c60f",
   "metadata": {},
   "outputs": [
    {
     "name": "stdout",
     "output_type": "stream",
     "text": [
      "4\n"
     ]
    }
   ],
   "source": [
    "b = 'hihihi im suji'.rfind('hi')\n",
    "print(b)"
   ]
  },
  {
   "cell_type": "code",
   "execution_count": 40,
   "id": "87502c16",
   "metadata": {},
   "outputs": [
    {
     "name": "stdout",
     "output_type": "stream",
     "text": [
      "True\n"
     ]
    }
   ],
   "source": [
    "# 문자열 확인하기\n",
    "print(\"안녕\" in \"안녕하세요\")"
   ]
  },
  {
   "cell_type": "code",
   "execution_count": 41,
   "id": "a39bb912",
   "metadata": {},
   "outputs": [
    {
     "name": "stdout",
     "output_type": "stream",
     "text": [
      "False\n"
     ]
    }
   ],
   "source": [
    "print(\"pop\" in \"안녕하세요\")"
   ]
  },
  {
   "cell_type": "code",
   "execution_count": 42,
   "id": "76a752e1",
   "metadata": {},
   "outputs": [
    {
     "name": "stdout",
     "output_type": "stream",
     "text": [
      "['10', '20', '30', '40', '50']\n"
     ]
    }
   ],
   "source": [
    "a = \"10 20 30 40 50\".split(\" \")\n",
    "print(a)"
   ]
  }
 ],
 "metadata": {
  "kernelspec": {
   "display_name": "Python 3",
   "language": "python",
   "name": "python3"
  },
  "language_info": {
   "codemirror_mode": {
    "name": "ipython",
    "version": 3
   },
   "file_extension": ".py",
   "mimetype": "text/x-python",
   "name": "python",
   "nbconvert_exporter": "python",
   "pygments_lexer": "ipython3",
   "version": "3.8.8"
  }
 },
 "nbformat": 4,
 "nbformat_minor": 5
}
