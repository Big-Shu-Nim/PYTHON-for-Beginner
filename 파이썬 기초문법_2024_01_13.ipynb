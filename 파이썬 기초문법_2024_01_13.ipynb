{
 "cells": [
  {
   "cell_type": "markdown",
   "id": "3bdef611",
   "metadata": {},
   "source": [
    "# 학습 컨텐츠 : 웹 크롤링 & 데이터분석 WITH 파이썬 , 장철원, 프로그래밍인사이트\n",
    "## 학습 내용  : 3-74 중 파이썬 핵심문법  정리 \n",
    "### 학습일: 2024_01_13"
   ]
  },
  {
   "cell_type": "markdown",
   "id": "70909186",
   "metadata": {},
   "source": [
    "# 1.변수란?\n",
    "\n",
    "- 빈상자와 비슷한개념"
   ]
  },
  {
   "cell_type": "markdown",
   "id": "4a3de562",
   "metadata": {},
   "source": [
    "# 2.파이썬에서 = ?\n",
    "\n",
    "- 같다라는 의미가 아니라 대입, 할당, 저장의 의미임"
   ]
  },
  {
   "cell_type": "markdown",
   "id": "1fc11b16",
   "metadata": {},
   "source": [
    "# 3.변수이름 규칙\n",
    "ㅡ\n",
    "- 숫자로 시작할수 없음\n",
    "- 특수문자로 시작할수 없음"
   ]
  },
  {
   "cell_type": "markdown",
   "id": "d13e1fde",
   "metadata": {},
   "source": [
    "# 4.문자열 인덱스에서 첫 번호는?\n",
    "\n",
    "- 0이다"
   ]
  },
  {
   "cell_type": "markdown",
   "id": "53f500b0",
   "metadata": {},
   "source": [
    "# 5.  리스트에서 인덱스번호에 마이너스 부호를 붙이면?"
   ]
  },
  {
   "cell_type": "code",
   "execution_count": null,
   "id": "150fb80a",
   "metadata": {},
   "outputs": [],
   "source": [
    "ex_list=[10,22,43,49]\n",
    "\n",
    "print(ex_list[-2])"
   ]
  },
  {
   "cell_type": "markdown",
   "id": "a731c9b5",
   "metadata": {},
   "source": [
    "# 6. 리스트 요소로 또 다른 리스틀 지정할수 있음"
   ]
  },
  {
   "cell_type": "code",
   "execution_count": 2,
   "id": "b0597e52",
   "metadata": {},
   "outputs": [
    {
     "name": "stdout",
     "output_type": "stream",
     "text": [
      "[4, 5]\n"
     ]
    }
   ],
   "source": [
    "list_in = [1,2,3,[4,5]]\n",
    "print(list_in[3])"
   ]
  },
  {
   "cell_type": "markdown",
   "id": "86a9b7cd",
   "metadata": {},
   "source": [
    "## 7. 리스트 안에 리스트의 개별요소 접근?"
   ]
  },
  {
   "cell_type": "code",
   "execution_count": 5,
   "id": "2d7e5066",
   "metadata": {},
   "outputs": [
    {
     "name": "stdout",
     "output_type": "stream",
     "text": [
      "5\n"
     ]
    }
   ],
   "source": [
    "print(list_in[3][1])"
   ]
  },
  {
   "cell_type": "markdown",
   "id": "c712e229",
   "metadata": {},
   "source": [
    "# 8.리스트에서 빼기 연산자는 사용할수 없음"
   ]
  },
  {
   "cell_type": "code",
   "execution_count": 7,
   "id": "51935161",
   "metadata": {},
   "outputs": [
    {
     "ename": "TypeError",
     "evalue": "unsupported operand type(s) for -: 'list' and 'list'",
     "output_type": "error",
     "traceback": [
      "\u001b[1;31m---------------------------------------------------------------------------\u001b[0m",
      "\u001b[1;31mTypeError\u001b[0m                                 Traceback (most recent call last)",
      "\u001b[1;32m~\\AppData\\Local\\Temp\\ipykernel_2784\\18370997.py\u001b[0m in \u001b[0;36m<module>\u001b[1;34m\u001b[0m\n\u001b[1;32m----> 1\u001b[1;33m \u001b[0mnew_list\u001b[0m\u001b[1;33m=\u001b[0m\u001b[0mlist_in\u001b[0m\u001b[1;33m-\u001b[0m \u001b[0mex_list\u001b[0m\u001b[1;33m\u001b[0m\u001b[1;33m\u001b[0m\u001b[0m\n\u001b[0m",
      "\u001b[1;31mTypeError\u001b[0m: unsupported operand type(s) for -: 'list' and 'list'"
     ]
    }
   ],
   "source": [
    "new_list=list_in- ex_list"
   ]
  },
  {
   "cell_type": "markdown",
   "id": "983f3f91",
   "metadata": {},
   "source": [
    "# 9. 리스트에 정수형 숫자를 곱하면 곱한만큼 반복됨"
   ]
  },
  {
   "cell_type": "code",
   "execution_count": 9,
   "id": "384edf2d",
   "metadata": {},
   "outputs": [
    {
     "name": "stdout",
     "output_type": "stream",
     "text": [
      "[1, 2, 3, [4, 5], 1, 2, 3, [4, 5]]\n"
     ]
    }
   ],
   "source": [
    "new_list= list_in*2\n",
    "print(new_list)"
   ]
  },
  {
   "cell_type": "markdown",
   "id": "02e05c13",
   "metadata": {},
   "source": [
    "# 10 리스트에서 요소값을 삭제할때 'Del'을 사용함 "
   ]
  },
  {
   "cell_type": "code",
   "execution_count": 11,
   "id": "3e40e313",
   "metadata": {},
   "outputs": [
    {
     "name": "stdout",
     "output_type": "stream",
     "text": [
      "[3, [4, 5], 1, 2, 3, [4, 5]]\n"
     ]
    }
   ],
   "source": [
    "del new_list[0] # 첫번째 인덱스의 값이 사라짐 \n",
    "print(new_list)"
   ]
  },
  {
   "cell_type": "markdown",
   "id": "9acceec6",
   "metadata": {},
   "source": [
    "# 11. 리스트에서 .sort() 를 사용하면 오름차순으로 정리가능"
   ]
  },
  {
   "cell_type": "code",
   "execution_count": 19,
   "id": "e6f35e42",
   "metadata": {},
   "outputs": [
    {
     "name": "stdout",
     "output_type": "stream",
     "text": [
      "[1, 11, 28, 48]\n"
     ]
    }
   ],
   "source": [
    "list_no_order= [11,48,1,28]\n",
    "list_no_order.sort()\n",
    "print(list_no_order)"
   ]
  },
  {
   "cell_type": "markdown",
   "id": "8ab4a888",
   "metadata": {},
   "source": [
    "# 12. 리스트에서 동일한 값이 여러개 존재할때 이 갯수를 알수 있는 방법?"
   ]
  },
  {
   "cell_type": "code",
   "execution_count": 20,
   "id": "01f8d75b",
   "metadata": {},
   "outputs": [
    {
     "name": "stdout",
     "output_type": "stream",
     "text": [
      "3\n"
     ]
    }
   ],
   "source": [
    "list16= [3,5,3,3]\n",
    "cnt = list16.count(3)\n",
    "print(cnt)"
   ]
  },
  {
   "cell_type": "markdown",
   "id": "cbb08c35",
   "metadata": {},
   "source": [
    "# 13. 딕셔너리리란?\n",
    "* 단어와 그 단어에 해당하는 뜻이 풀이 되어있다 라는 개념으로 생각하면 쉬움\n",
    "* 단어:뜻 -> 키:값 이라고 생각하면 됨 \n",
    "*"
   ]
  },
  {
   "cell_type": "code",
   "execution_count": 21,
   "id": "ed23f979",
   "metadata": {},
   "outputs": [
    {
     "data": {
      "text/plain": [
       "{'name': 'Eddie', 'age': '34', 'hotbby': ['reading', 'weight-lifting']}"
      ]
     },
     "execution_count": 21,
     "metadata": {},
     "output_type": "execute_result"
    }
   ],
   "source": [
    "dict_01 = {'name':'Eddie',\n",
    "          'age':'34',\n",
    "          'hotbby' : ['reading','weight-lifting']}  # 리스트형태로도 값을 부여할 수 있음 \n",
    "dict_01"
   ]
  },
  {
   "cell_type": "markdown",
   "id": "ac9201aa",
   "metadata": {},
   "source": [
    "# 14. 리스트에서 유일무이한 요소를 찾을 때 쓰는 자료형"
   ]
  },
  {
   "cell_type": "code",
   "execution_count": 23,
   "id": "70704c10",
   "metadata": {},
   "outputs": [
    {
     "data": {
      "text/plain": [
       "{1, 2, 3, 4, 5}"
      ]
     },
     "execution_count": 23,
     "metadata": {},
     "output_type": "execute_result"
    }
   ],
   "source": [
    "set([1,2,3,4,5,1,1,2,2])\n"
   ]
  },
  {
   "cell_type": "markdown",
   "id": "4b7899ec",
   "metadata": {},
   "source": [
    "# 15. enumerate 함수의 역할 \n",
    "* for 문을 사용할때 이를 활용하면 1.리스트 요소값 2. 인덱스 두가지를 같이 반환한다 "
   ]
  },
  {
   "cell_type": "code",
   "execution_count": 25,
   "id": "f0512599",
   "metadata": {},
   "outputs": [
    {
     "name": "stdout",
     "output_type": "stream",
     "text": [
      "0 melon\n",
      "1  apple\n",
      "2  grape\n"
     ]
    }
   ],
   "source": [
    "seq = ['melon',' apple',' grape']\n",
    "\n",
    "for idx, grape in enumerate(seq):\n",
    "    print(idx,grape)"
   ]
  },
  {
   "cell_type": "markdown",
   "id": "866918ad",
   "metadata": {},
   "source": [
    "# 16. 함수란?\n",
    "* 미리 정해진 동작을 수행하는 코드를 한데 묶어 놓은 것"
   ]
  },
  {
   "cell_type": "markdown",
   "id": "9f2b1c77",
   "metadata": {},
   "source": [
    "# 17. 메써드와 함수의 차이는?\n",
    "\n",
    "* 함수는 홀로 호출 가능하지만\n",
    "* 메써드는 객체 의존적이라 혼자서 호출 할 수 없다."
   ]
  },
  {
   "cell_type": "markdown",
   "id": "1b9d325e",
   "metadata": {},
   "source": [
    "# 18. 모듈(Module)은?\n",
    "\n",
    "* 전역변수나 \n",
    "* 함수\n",
    "* 클래스\n",
    "* 모아놓은 .PY 확장자를 가진 파일"
   ]
  },
  {
   "cell_type": "markdown",
   "id": "865456c5",
   "metadata": {},
   "source": [
    "# 19. 전역변수란?\n",
    "* 영역 구분 없이 모든 영역에서 사용 할 수 있는 변수를 말함\n"
   ]
  },
  {
   "cell_type": "markdown",
   "id": "e7b14d0c",
   "metadata": {},
   "source": [
    "# 20. 지역변수란?\n",
    "* 함수 내의 영역처럼 특정 범위나 지역에 한정해 사용하는 변수를 말함"
   ]
  },
  {
   "cell_type": "markdown",
   "id": "55e87d84",
   "metadata": {},
   "source": [
    "# 21. 패키지란?\n",
    "* 여러개의 모듈을 모아 놓은 폴더 "
   ]
  },
  {
   "cell_type": "markdown",
   "id": "b4b90dcd",
   "metadata": {},
   "source": [
    "# 22. 라이브러리?\n",
    "* 패키지는 종종 라이브러리로 불리는 경향이 있음\n",
    "* 엄밀히 말하면 라이브러리는 패키지의 집합으로 좀더 포괄적인 개념이다. "
   ]
  },
  {
   "cell_type": "markdown",
   "id": "5bcf7e6c",
   "metadata": {},
   "source": [
    "# 23. 클래스란?\n",
    "\n",
    "* 추상화할 대상의 틀\n",
    "* 추상적인 클래스를 실체화하려면 객체를 통해 구현해야됨\n",
    "* 객체는 인스턴스라는 단어와 혼용됨"
   ]
  },
  {
   "cell_type": "code",
   "execution_count": 27,
   "id": "0aa824f1",
   "metadata": {},
   "outputs": [],
   "source": [
    "class Human: \n",
    "    def __init(self, blood, hobby):   # 변수의 초깃값을 지정할때 사용  - 초깃값이란 객체를 처음 만들 때 지정 하는 값 \n",
    "        self.blood = blood  # SELF는 객체 자신을 나타내는것 , 변수는 아니다 \n",
    "        self.hobby = hobby\n",
    "    \n",
    "    def run(self, time):\n",
    "        print(time, \"초 동안 달린다.\")"
   ]
  }
 ],
 "metadata": {
  "kernelspec": {
   "display_name": "Python 3 (ipykernel)",
   "language": "python",
   "name": "python3"
  },
  "language_info": {
   "codemirror_mode": {
    "name": "ipython",
    "version": 3
   },
   "file_extension": ".py",
   "mimetype": "text/x-python",
   "name": "python",
   "nbconvert_exporter": "python",
   "pygments_lexer": "ipython3",
   "version": "3.9.13"
  }
 },
 "nbformat": 4,
 "nbformat_minor": 5
}
