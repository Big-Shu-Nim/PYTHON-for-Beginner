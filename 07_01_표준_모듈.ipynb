{
  "nbformat": 4,
  "nbformat_minor": 0,
  "metadata": {
    "colab": {
      "provenance": [],
      "mount_file_id": "1hAgnarfzpTf-4jgpI4QBeMwoWAgYPjai",
      "authorship_tag": "ABX9TyM+5/MtHylFX5oj0pKT4ou1",
      "include_colab_link": true
    },
    "kernelspec": {
      "name": "python3",
      "display_name": "Python 3"
    },
    "language_info": {
      "name": "python"
    }
  },
  "cells": [
    {
      "cell_type": "markdown",
      "metadata": {
        "id": "view-in-github",
        "colab_type": "text"
      },
      "source": [
        "<a href=\"https://colab.research.google.com/github/Big-Shu-Nim/PYTHON_Basic_Syntax/blob/main/07_01_%ED%91%9C%EC%A4%80_%EB%AA%A8%EB%93%88.ipynb\" target=\"_parent\"><img src=\"https://colab.research.google.com/assets/colab-badge.svg\" alt=\"Open In Colab\"/></a>"
      ]
    },
    {
      "cell_type": "markdown",
      "source": [
        "파이썬은 모듈이라는 기능 활용해 코드를 분리하고 공유합니다. 모듈은 여러 함수와 함수를 가지고 있는 집합체로 크게 표준 모듈과 외부 모듈로 나뉘니다. 파이썬에 기본적으로 내장되어 있는 모듈을 '표준 모듈'이라고 부르고, 다른사람들이 만들어서 공개한 모듈을 '외부 모듈'이라고 합니다. "
      ],
      "metadata": {
        "id": "s_0Gr-3i4gIe"
      }
    },
    {
      "cell_type": "code",
      "source": [
        "import math "
      ],
      "metadata": {
        "id": "yhREv_Iw49zy"
      },
      "execution_count": 1,
      "outputs": []
    },
    {
      "cell_type": "code",
      "source": [
        "math.sin(1)"
      ],
      "metadata": {
        "colab": {
          "base_uri": "https://localhost:8080/"
        },
        "id": "JZU4GUd-5Crj",
        "outputId": "eea0b999-7814-4f78-f68b-7d7e937f3cdf"
      },
      "execution_count": 2,
      "outputs": [
        {
          "output_type": "execute_result",
          "data": {
            "text/plain": [
              "0.8414709848078965"
            ]
          },
          "metadata": {},
          "execution_count": 2
        }
      ]
    },
    {
      "cell_type": "code",
      "source": [
        "math.cos(1)"
      ],
      "metadata": {
        "colab": {
          "base_uri": "https://localhost:8080/"
        },
        "id": "MbcFHuRp5EE2",
        "outputId": "1da9984a-af7e-4f97-85a5-b90ab956f943"
      },
      "execution_count": 3,
      "outputs": [
        {
          "output_type": "execute_result",
          "data": {
            "text/plain": [
              "0.5403023058681398"
            ]
          },
          "metadata": {},
          "execution_count": 3
        }
      ]
    },
    {
      "cell_type": "code",
      "source": [
        "math.tan(1)"
      ],
      "metadata": {
        "colab": {
          "base_uri": "https://localhost:8080/"
        },
        "id": "7FKY6UlU5IEm",
        "outputId": "ba0df6b0-c016-4dcd-e658-33363ded7d6b"
      },
      "execution_count": 4,
      "outputs": [
        {
          "output_type": "execute_result",
          "data": {
            "text/plain": [
              "1.5574077246549023"
            ]
          },
          "metadata": {},
          "execution_count": 4
        }
      ]
    },
    {
      "cell_type": "code",
      "source": [
        "math.floor(2.5) # 내림 "
      ],
      "metadata": {
        "colab": {
          "base_uri": "https://localhost:8080/"
        },
        "id": "18roIadF5JS-",
        "outputId": "3a1b6268-3b97-4e8d-e228-e0ba20f4c576"
      },
      "execution_count": 5,
      "outputs": [
        {
          "output_type": "execute_result",
          "data": {
            "text/plain": [
              "2"
            ]
          },
          "metadata": {},
          "execution_count": 5
        }
      ]
    },
    {
      "cell_type": "code",
      "source": [
        "math.ceil(2.5) # 올림 "
      ],
      "metadata": {
        "colab": {
          "base_uri": "https://localhost:8080/"
        },
        "id": "jfCjlvrk5Lpu",
        "outputId": "cc21817c-e2d2-4352-f0c0-d4f9d63bd7ce"
      },
      "execution_count": 6,
      "outputs": [
        {
          "output_type": "execute_result",
          "data": {
            "text/plain": [
              "3"
            ]
          },
          "metadata": {},
          "execution_count": 6
        }
      ]
    },
    {
      "cell_type": "code",
      "source": [
        "# 반올림 함수\n",
        "# 프로그래밍에서 정수부분이 홀수 인것들은 올림이 되어 2와 4를 출력하고\n",
        "# 짝수인것들은 내림이 되어 2와 4를 출력합니다. \n",
        "round(1.5)\n",
        "round(2.5)\n",
        "round(3.5)\n",
        "round(4.5)\n",
        "\n",
        "# 컴퓨터가 내부적으로 소수를 표현할수 없기 때문. 다르다는것만 알고 있어야함."
      ],
      "metadata": {
        "colab": {
          "base_uri": "https://localhost:8080/"
        },
        "id": "TQa8i9gH5PJN",
        "outputId": "b89b4bf3-2177-43a0-9e20-5ac272dde157"
      },
      "execution_count": 7,
      "outputs": [
        {
          "output_type": "execute_result",
          "data": {
            "text/plain": [
              "4"
            ]
          },
          "metadata": {},
          "execution_count": 7
        }
      ]
    },
    {
      "cell_type": "markdown",
      "source": [
        "# from 모듈 이름 import 가져오고 싶은 변수 또는 함수\n",
        "\n",
        "# as 구문 import 모듈 as 사용하고 싶은 식별자 \n"
      ],
      "metadata": {
        "id": "3nVwoY1F6CjQ"
      }
    },
    {
      "cell_type": "code",
      "source": [
        "# random 모듈\n",
        "\n",
        "import random\n",
        "\n",
        "print(\"random 모듈\")\n",
        "\n",
        "# randome(): 0.0 <= x <1.0 사이의 float number return\n",
        "\n",
        "print(\"- random():\", random.random())\n",
        "\n",
        "# uniform(min, max) 지정한 범위 사이의 float을 리턴한다.\n",
        "\n",
        "print(\"- unifomr(10, 20):\", random.uniform(10,20))\n",
        "\n",
        "# randrange(): 지정한 범위의 int를 리턴합니다.\n",
        "# -randrange(max) : 0부터 max 사이의 값을 리턴합니다.\n",
        "# -randrange(min, max) : min 부터 max 사이의 값을 리턴합니다.\n",
        "\n",
        "print(\"- randrange(10):\", random.randrange(10))\n",
        "\n",
        "\n",
        "# choice(list) : 리스트 내부에 있는 요소를 랜덤하게 선택합니다.\n",
        "print(\"- choice([1,2,3,4,5]):\", random.choice([1,2,3,4,5]))\n",
        "\n",
        "# shuffle(list) 리스트의 요소를 랜덤하게 섞습니다.\n",
        "print(\"- shuffle([1,2,3,4,5]):\", random.shuffle([1,2,3,4,5]))\n",
        "\n",
        "#sample(list, k=<숫자>): 리스트의 요소 중에 k개를 뽑습니다.\n",
        "print(\"- sample([1,2, 3,4,5], k= 2):\", random.sample([1,2,3,4,5], k=2))"
      ],
      "metadata": {
        "colab": {
          "base_uri": "https://localhost:8080/"
        },
        "id": "AFQB3Vad6XvZ",
        "outputId": "553f408b-e8f9-4728-fde9-0a970eff24c1"
      },
      "execution_count": 8,
      "outputs": [
        {
          "output_type": "stream",
          "name": "stdout",
          "text": [
            "random 모듈\n",
            "- random(): 0.9216164891293541\n",
            "- unifomr(10, 20): 14.444049299000437\n",
            "- randrange(10): 6\n",
            "- choice([1,2,3,4,5]): 3\n",
            "- shuffle([1,2,3,4,5]): None\n",
            "- sample([1,2, 3,4,5], k= 2): [5, 2]\n"
          ]
        }
      ]
    },
    {
      "cell_type": "code",
      "source": [
        "# random 모듈의 경우 보통 한번에 다불러와서 쓴다.\n",
        "from random import random, randrange, choice \n",
        "\n",
        "random()"
      ],
      "metadata": {
        "colab": {
          "base_uri": "https://localhost:8080/"
        },
        "id": "e9e9_2n178_B",
        "outputId": "b13575c7-be5f-4d3f-e0fb-a279464a52c2"
      },
      "execution_count": 9,
      "outputs": [
        {
          "output_type": "execute_result",
          "data": {
            "text/plain": [
              "0.5863036017082581"
            ]
          },
          "metadata": {},
          "execution_count": 9
        }
      ]
    },
    {
      "cell_type": "markdown",
      "source": [
        "## SYS 모듈\n",
        "\n",
        "시스템과 관련된 정보를 가지고 있는 모듈\n",
        "명령 매개변수를 받을 때 많이 사용됨. "
      ],
      "metadata": {
        "id": "SGDl2Z9T8U-o"
      }
    },
    {
      "cell_type": "code",
      "source": [
        "import sys\n",
        "\n",
        "print(sys.argv)\n"
      ],
      "metadata": {
        "colab": {
          "base_uri": "https://localhost:8080/"
        },
        "id": "-tplpREI8hTO",
        "outputId": "dc93bd1a-d6f5-48ec-f43e-1b23997e36df"
      },
      "execution_count": 10,
      "outputs": [
        {
          "output_type": "stream",
          "name": "stdout",
          "text": [
            "['/usr/local/lib/python3.8/dist-packages/ipykernel_launcher.py', '-f', '/root/.local/share/jupyter/runtime/kernel-36935099-0629-430b-854a-b18a3cfd331d.json']\n"
          ]
        }
      ]
    },
    {
      "cell_type": "code",
      "source": [
        "# 컴퓨터 환경과 관련된 정보를 출력합니다.\n",
        "# print(\"getwindowsversion:()\", sys.getwindowsversion()) \n",
        "print(\"copyright:\", sys.copyright)"
      ],
      "metadata": {
        "id": "X91u1o6S8kkQ",
        "colab": {
          "base_uri": "https://localhost:8080/"
        },
        "outputId": "b353af57-d3a7-4e36-e7f2-64175169cb67"
      },
      "execution_count": 13,
      "outputs": [
        {
          "output_type": "stream",
          "name": "stdout",
          "text": [
            "copyright: Copyright (c) 2001-2022 Python Software Foundation.\n",
            "All Rights Reserved.\n",
            "\n",
            "Copyright (c) 2000 BeOpen.com.\n",
            "All Rights Reserved.\n",
            "\n",
            "Copyright (c) 1995-2001 Corporation for National Research Initiatives.\n",
            "All Rights Reserved.\n",
            "\n",
            "Copyright (c) 1991-1995 Stichting Mathematisch Centrum, Amsterdam.\n",
            "All Rights Reserved.\n"
          ]
        }
      ]
    },
    {
      "cell_type": "code",
      "source": [
        "print(\"version:\", sys.version)"
      ],
      "metadata": {
        "id": "TyiD7pZh7rqG",
        "colab": {
          "base_uri": "https://localhost:8080/"
        },
        "outputId": "5852859c-c77e-403e-bb1a-1ba78af451f3"
      },
      "execution_count": 14,
      "outputs": [
        {
          "output_type": "stream",
          "name": "stdout",
          "text": [
            "version: 3.8.15 (default, Oct 12 2022, 19:14:39) \n",
            "[GCC 7.5.0]\n"
          ]
        }
      ]
    },
    {
      "cell_type": "code",
      "source": [],
      "metadata": {
        "id": "5lQvgzNrsq_u"
      },
      "execution_count": 15,
      "outputs": []
    },
    {
      "cell_type": "markdown",
      "source": [
        "OS 모듈 활용\n",
        "  - 운영 체제와 관련된 기능을 가진 모듈입니다. 새로운 폴더를 만들거나 폴더 내부의 파일 목록을 \n",
        "  보는 일도 모두 os 모듈을 활용해서 처리합니다."
      ],
      "metadata": {
        "id": "BVJm5Kwz7pp8"
      }
    },
    {
      "cell_type": "code",
      "source": [
        "import os\n",
        "\n",
        "# 기본정보 출력\n",
        "\n",
        "# 현재 운영체제\n",
        "print(\"현재 운영체제\",os.name)\n",
        "print(\"현재 폴더:\", os.getcwd())\n",
        "print(\"현재 폴더 내부의 요소:\",os.listdir())"
      ],
      "metadata": {
        "id": "DKgGb2-07cHT",
        "colab": {
          "base_uri": "https://localhost:8080/"
        },
        "outputId": "5f5092a0-0185-44b3-a130-75a1742652c3"
      },
      "execution_count": 17,
      "outputs": [
        {
          "output_type": "stream",
          "name": "stdout",
          "text": [
            "현재 운영체제 posix\n",
            "현재 폴더: /content\n",
            "현재 폴더 내부의 요소: ['.config', 'drive', 'sample_data']\n"
          ]
        }
      ]
    },
    {
      "cell_type": "code",
      "source": [
        "# 파일을 생성하고 파일이름을 변경합니다.\n",
        "with open('original.txt', 'w') as file:\n",
        "  file.write('hello')\n",
        "os.rename('original.txt', 'new.txt')"
      ],
      "metadata": {
        "id": "_7CxN7Gtty3T"
      },
      "execution_count": 18,
      "outputs": []
    },
    {
      "cell_type": "code",
      "source": [
        "# 파일을 제거합니다.\n",
        "os.remove('new.txt')\n",
        "# os.unlink('original.txt', 'new.txt') os. remove와 동일한 기능 이름만 다르다."
      ],
      "metadata": {
        "id": "EFCiFGTFuIWX"
      },
      "execution_count": 19,
      "outputs": []
    },
    {
      "cell_type": "code",
      "source": [
        "# 시스템 명령어 실행\n",
        "os.system('dir')"
      ],
      "metadata": {
        "colab": {
          "base_uri": "https://localhost:8080/"
        },
        "id": "heCYyVGTui-f",
        "outputId": "65b5f53d-929f-4ad3-82b7-c9284bde05cb"
      },
      "execution_count": 20,
      "outputs": [
        {
          "output_type": "execute_result",
          "data": {
            "text/plain": [
              "0"
            ]
          },
          "metadata": {},
          "execution_count": 20
        }
      ]
    },
    {
      "cell_type": "markdown",
      "source": [
        "Datetime 모듈\n",
        "  - 날짜와 시간에 관련된 모듈로, 날짜 형식을 만들 대 자주 사용되는 코드들로 구성되어 있습니다. "
      ],
      "metadata": {
        "id": "GURbDEgXuybZ"
      }
    },
    {
      "cell_type": "code",
      "source": [
        "# 모듈을 읽어 들입니다.\n",
        "import datetime"
      ],
      "metadata": {
        "id": "s5NSEwliu9st"
      },
      "execution_count": 21,
      "outputs": []
    },
    {
      "cell_type": "code",
      "source": [
        "# 현재 시간을 구하고 출력합니다.\n",
        "print('현재시간 출력하기')\n",
        "now = datetime.datetime.now()\n",
        "print(now.year, 'Year')\n",
        "print(now.month, 'Month')\n",
        "print(now.day, 'day')\n",
        "print(now.hour, 'hour')\n",
        "print(now.minute, 'minute')\n",
        "print(now.second, 'second')\n",
        "print()"
      ],
      "metadata": {
        "colab": {
          "base_uri": "https://localhost:8080/"
        },
        "id": "jNvioX1BvBL7",
        "outputId": "4174e224-9f41-4d95-c14f-4f25be2bacb6"
      },
      "execution_count": 22,
      "outputs": [
        {
          "output_type": "stream",
          "name": "stdout",
          "text": [
            "현재시간 출력하기\n",
            "2022 Year\n",
            "12 Month\n",
            "5 day\n",
            "19 hour\n",
            "22 minute\n",
            "36 second\n",
            "\n"
          ]
        }
      ]
    },
    {
      "cell_type": "code",
      "source": [
        "# 시간 출력 방법\n",
        "print(\"시간을 포맷에 맞춰 출력하기\")\n",
        "\n",
        "output_a = now.strftime(\"%Y.%m.%d %h:%M:%S\")\n",
        "output_b = '{}년 {}월 {}일 {}시 {}분 {}초'.format(now.year, \\\n",
        "                                            now.month,\\\n",
        "                                            now.day,\\\n",
        "                                            now.hour,\\\n",
        "                                            now.minute,\\\n",
        "                                            now.second)\n",
        "output_c= now.strftime(\"%Y{} %m{} %d{} %H{} %M{} %S{}\").format(*\"년월일시분초\")\n",
        " # 문자열 리스트 등 앞에 *를 붙이면 요소 하나하나가 매개변수로 지정됩니다.\n",
        "\n",
        "print(output_a)\n",
        "print(output_b)\n",
        "print(output_c)\n",
        "print()\n",
        "\n"
      ],
      "metadata": {
        "colab": {
          "base_uri": "https://localhost:8080/"
        },
        "id": "MkAKKoZ3vcQb",
        "outputId": "1db78cbb-47e9-4090-a8bd-c462ede45bab"
      },
      "execution_count": 25,
      "outputs": [
        {
          "output_type": "stream",
          "name": "stdout",
          "text": [
            "시간을 포맷에 맞춰 출력하기\n",
            "2022.12.05 Dec:22:36\n",
            "2022년 12월 5일 19시 22분 36초\n",
            "2022년 12월 05일 19시 22분 36초\n",
            "\n"
          ]
        }
      ]
    },
    {
      "cell_type": "code",
      "source": [
        "# 특정시간 이후의 시간 구하기\n",
        "\n",
        "print(\"# datetime.timedelt로 시간 더하기\")\n",
        "\n",
        "after = now + datetime.timedelta(\\\n",
        "                                 weeks=1, \\\n",
        "                                 days = 1, \\\n",
        "                                 hours = 1 , \\\n",
        "                                 minutes = 1, \\\n",
        "                                 seconds = 1 )\n",
        "print(after.strftime(\"%Y{} %m{} %H{} %M{} %S{}\").format(*\"년월일시분초\"))"
      ],
      "metadata": {
        "colab": {
          "base_uri": "https://localhost:8080/"
        },
        "id": "-bZp113ew3pA",
        "outputId": "9e53b2d9-0269-4d23-f15e-d8c07eaf87b1"
      },
      "execution_count": 28,
      "outputs": [
        {
          "output_type": "stream",
          "name": "stdout",
          "text": [
            "# datetime.timedelt로 시간 더하기\n",
            "2022년 12월 20일 23시 37분\n"
          ]
        }
      ]
    },
    {
      "cell_type": "markdown",
      "source": [
        "Timedelta() 함수로는 특정한 시간의 이전 또는 이후를 구할 수 있습니다.\n",
        "다만 1년후, 2년 후를 구하는 기능이 없어요. 그래서 1년 후를 구할때는\n",
        "replace()함수를 사용합니다."
      ],
      "metadata": {
        "id": "9WD_M9n4yZQG"
      }
    },
    {
      "cell_type": "code",
      "source": [
        "# 특정시간 요소 교체하기\n",
        "\n",
        "print(\"# now.replace()로 1년 더하기\")\n",
        "output = now.replace(year=(now.year + 1))\n",
        "print(output.strftime(\"%Y{} %m{} %H{} %M{} %S{}\").format(*\"년월일시분초\"))"
      ],
      "metadata": {
        "colab": {
          "base_uri": "https://localhost:8080/"
        },
        "id": "yFiTFNYox_u_",
        "outputId": "dbc2a137-7f00-4379-c5c7-7bb01bc9b574"
      },
      "execution_count": 31,
      "outputs": [
        {
          "output_type": "stream",
          "name": "stdout",
          "text": [
            "# now.replace()로 1년 더하기\n",
            "2023년 12월 19일 22시 36분\n"
          ]
        }
      ]
    },
    {
      "cell_type": "markdown",
      "source": [
        "## Time Module"
      ],
      "metadata": {
        "id": "DvnN15XZyqAM"
      }
    },
    {
      "cell_type": "code",
      "source": [
        "# time.sleep 함수\n",
        "# 특정 시간동안 코드 진행을 정지할때 사용하는 함수 입니다.\n",
        "\n",
        "import time\n",
        "print(\"지금부터 5초동안 정지합니다.\")\n",
        "time.sleep(5)\n",
        "print('프로그램을 종료합니다.')"
      ],
      "metadata": {
        "colab": {
          "base_uri": "https://localhost:8080/"
        },
        "id": "sCAMzvpOywKr",
        "outputId": "da132091-8e11-4b1d-ac18-a4d6fb0297b1"
      },
      "execution_count": 32,
      "outputs": [
        {
          "output_type": "stream",
          "name": "stdout",
          "text": [
            "지금부터 5초동안 정지합니다.\n",
            "프로그램을 종료합니다.\n"
          ]
        }
      ]
    },
    {
      "cell_type": "markdown",
      "source": [
        "## Urllib Module\n",
        "Url를 다루는 라이브러리입니다.  Uniform Resource Locator를 의미하는 말로 \n",
        "네트워의 자원이 어디에 위치 하는지 확인할때 사용하는것입니다. \n",
        "간단하게는 주소창에 치는 주소 ! \n"
      ],
      "metadata": {
        "id": "-14SGI96zA5s"
      }
    },
    {
      "cell_type": "code",
      "source": [
        "from urllib import request\n",
        "# urlib 모듈에 있는 request를 가지고 왔습니다.\n",
        "\n",
        "# urlopen() 함수로 구글의 메인페이지를 읽습니다.\n",
        "\n",
        "target = request. urlopen(\"https://google.com\")\n",
        "output = target.read()\n",
        "\n",
        "print(output)"
      ],
      "metadata": {
        "colab": {
          "base_uri": "https://localhost:8080/"
        },
        "id": "tbq_MsDxzU-X",
        "outputId": "8810e7e7-1369-4480-c7f1-eaa3e19ed4f1"
      },
      "execution_count": 33,
      "outputs": [
        {
          "output_type": "stream",
          "name": "stdout",
          "text": [
            "b'<!doctype html><html itemscope=\"\" itemtype=\"http://schema.org/WebPage\" lang=\"en\"><head><meta content=\"Search the world\\'s information, including webpages, images, videos and more. Google has many special features to help you find exactly what you\\'re looking for.\" name=\"description\"><meta content=\"noodp\" name=\"robots\"><meta content=\"text/html; charset=UTF-8\" http-equiv=\"Content-Type\"><meta content=\"/logos/doodles/2022/seasonal-holidays-2022-6753651837109831.2-law.gif\" itemprop=\"image\"><meta content=\"Seasonal Holidays 2022\" property=\"twitter:title\"><meta content=\"\" property=\"twitter:description\"><meta content=\"summary_large_image\" property=\"twitter:card\"><meta content=\"@GoogleDoodles\" property=\"twitter:site\"><meta content=\"https://www.google.com/logos/doodles/2022/seasonal-holidays-2022-6753651837109831.2-2xa.gif\" property=\"twitter:image\"><meta content=\"https://www.google.com/logos/doodles/2022/seasonal-holidays-2022-6753651837109831.2-2xa.gif\" property=\"og:image\"><meta content=\"1150\" property=\"og:image:width\"><meta content=\"460\" property=\"og:image:height\"><meta content=\"https://www.google.com/logos/doodles/2022/seasonal-holidays-2022-6753651837109831.2-2xa.gif\" property=\"og:url\"><meta content=\"video.other\" property=\"og:type\"><title>Google</title><script nonce=\"hlnpGc44hr354FXIlsrkng\">(function(){window.google={kEI:\\'a0yOY73jJIeTwbkPnJeg6Ag\\',kEXPI:\\'0,1356782,2627,6059,206,4804,2316,383,246,5,5367,1123753,1197737,664,380089,16112,28687,22431,1361,12319,17580,4998,13228,3847,10622,22743,5079,887,706,1279,2742,149,1103,840,1983,213,4101,109,3405,606,2023,2297,14670,3227,2845,7,5599,26516,1655,1850,15325,474,34,1517,1,5445,149,11322,2652,4,1528,2304,7039,22023,5708,7357,13658,2980,1457,15351,1435,5797,2560,4094,17,4035,3,3541,1,42154,2,14022,2373,342,4931,18093,5679,1021,2380,28742,4567,6259,23416,1254,5835,14968,4332,2204,2812,2468,445,2,2,1,24626,2006,8155,6682,699,2,3,15965,872,9626,3837,12,1,6158,7,1922,5784,3995,19130,12192,4832,2523,9119,14435,426,107,11707,8323,14,82,517,3373,751,2070,7794,2009,3006,3,683,109,830,683,899,879,1855,1997,48,1071,6,3785,1053,3213,70,3,785,81,242,458,1506,3695,1741,814,1514,578,545,1227,1212,285,2,566,400,588,970,421,704,355,82,402,522,1034,42,291,3393,143,12,370,399,1409,22,3,784,3,76,244,2304,141,963,341,244,585,32,335,1,273,570,169,1104,13,90,890,57,1,856,567,661,288,970,703,100,375,16,33,16,3,513,39,1174,792,441,92,124,640,187,391,232,858,164,186,608,100,199,497,304,30,688,108,3,19,108,134,13,317,56,228,5,48,125,77,20,95,9,450,144,27,1,139,199,317,20,389,281,507,23,439,6,3,142,429,1,481,20,52,12,584,2398,4,6,4,14,38,64,382,93,791,312,247,2280,1,501,223,5284766,4058,17,146,81,8798948,3311,936,4,19731,1,1,346,2759,41,342,1,184,5,14,1,20727118,3220020,511,19,13,4041599,1964,1007,2087,11204,2375,3405,5595,11,3835,1923,4336,1524971\\',kBL:\\'p9Xv\\'};google.sn=\\'webhp\\';google.kHL=\\'en\\';})();(function(){\\nvar f=this||self;var h,k=[];function l(a){for(var b;a&&(!a.getAttribute||!(b=a.getAttribute(\"eid\")));)a=a.parentNode;return b||h}function m(a){for(var b=null;a&&(!a.getAttribute||!(b=a.getAttribute(\"leid\")));)a=a.parentNode;return b}\\nfunction n(a,b,c,d,g){var e=\"\";c||-1!==b.search(\"&ei=\")||(e=\"&ei=\"+l(d),-1===b.search(\"&lei=\")&&(d=m(d))&&(e+=\"&lei=\"+d));d=\"\";!c&&f._cshid&&-1===b.search(\"&cshid=\")&&\"slh\"!==a&&(d=\"&cshid=\"+f._cshid);c=c||\"/\"+(g||\"gen_204\")+\"?atyp=i&ct=\"+a+\"&cad=\"+b+e+\"&zx=\"+Date.now()+d;/^http:/i.test(c)&&\"https:\"===window.location.protocol&&(google.ml&&google.ml(Error(\"a\"),!1,{src:c,glmm:1}),c=\"\");return c};h=google.kEI;google.getEI=l;google.getLEI=m;google.ml=function(){return null};google.log=function(a,b,c,d,g){if(c=n(a,b,c,d,g)){a=new Image;var e=k.length;k[e]=a;a.onerror=a.onload=a.onabort=function(){delete k[e]};a.src=c}};google.logUrl=n;}).call(this);(function(){google.y={};google.sy=[];google.x=function(a,b){if(a)var c=a.id;else{do c=Math.random();while(google.y[c])}google.y[c]=[a,b];return!1};google.sx=function(a){google.sy.push(a)};google.lm=[];google.plm=function(a){google.lm.push.apply(google.lm,a)};google.lq=[];google.load=function(a,b,c){google.lq.push([[a],b,c])};google.loadAll=function(a,b){google.lq.push([a,b])};google.bx=!1;google.lx=function(){};}).call(this);google.f={};(function(){\\ndocument.documentElement.addEventListener(\"submit\",function(b){var a;if(a=b.target){var c=a.getAttribute(\"data-submitfalse\");a=\"1\"===c||\"q\"===c&&!a.elements.q.value?!0:!1}else a=!1;a&&(b.preventDefault(),b.stopPropagation())},!0);document.documentElement.addEventListener(\"click\",function(b){var a;a:{for(a=b.target;a&&a!==document.documentElement;a=a.parentElement)if(\"A\"===a.tagName){a=\"1\"===a.getAttribute(\"data-nohref\");break a}a=!1}a&&b.preventDefault()},!0);}).call(this);</script><style>#gbar,#guser{font-size:13px;padding-top:1px !important;}#gbar{height:22px}#guser{padding-bottom:7px !important;text-align:right}.gbh,.gbd{border-top:1px solid #c9d7f1;font-size:1px}.gbh{height:0;position:absolute;top:24px;width:100%}@media all{.gb1{height:22px;margin-right:.5em;vertical-align:top}#gbar{float:left}}a.gb1,a.gb4{text-decoration:underline !important}a.gb1,a.gb4{color:#00c !important}.gbi .gb4{color:#dd8e27 !important}.gbf .gb4{color:#900 !important}\\n</style><style>body,td,a,p,.h{font-family:arial,sans-serif}body{margin:0;overflow-y:scroll}#gog{padding:3px 8px 0}td{line-height:.8em}.gac_m td{line-height:17px}form{margin-bottom:20px}.h{color:#1558d6}em{font-weight:bold;font-style:normal}.lst{height:25px;width:496px}.gsfi,.lst{font:18px arial,sans-serif}.gsfs{font:17px arial,sans-serif}.ds{display:inline-box;display:inline-block;margin:3px 0 4px;margin-left:4px}input{font-family:inherit}body{background:#fff;color:#000}a{color:#4b11a8;text-decoration:none}a:hover,a:active{text-decoration:underline}.fl a{color:#1558d6}a:visited{color:#4b11a8}.sblc{padding-top:5px}.sblc a{display:block;margin:2px 0;margin-left:13px;font-size:11px}.lsbb{background:#f8f9fa;border:solid 1px;border-color:#dadce0 #70757a #70757a #dadce0;height:30px}.lsbb{display:block}#WqQANb a{display:inline-block;margin:0 12px}.lsb{background:url(/images/nav_logo229.png) 0 -261px repeat-x;border:none;color:#000;cursor:pointer;height:30px;margin:0;outline:0;font:15px arial,sans-serif;vertical-align:top}.lsb:active{background:#dadce0}.lst:focus{outline:none}</style><script nonce=\"hlnpGc44hr354FXIlsrkng\">(function(){window.google.erd={jsr:1,bv:1698,de:true};\\nvar h=this||self;var k,l=null!=(k=h.mei)?k:1,n,p=null!=(n=h.sdo)?n:!0,q=0,r,t=google.erd,v=t.jsr;google.ml=function(a,b,d,m,e){e=void 0===e?2:e;b&&(r=a&&a.message);if(google.dl)return google.dl(a,e,d),null;if(0>v){window.console&&console.error(a,d);if(-2===v)throw a;b=!1}else b=!a||!a.message||\"Error loading script\"===a.message||q>=l&&!m?!1:!0;if(!b)return null;q++;d=d||{};b=encodeURIComponent;var c=\"/gen_204?atyp=i&ei=\"+b(google.kEI);google.kEXPI&&(c+=\"&jexpid=\"+b(google.kEXPI));c+=\"&srcpg=\"+b(google.sn)+\"&jsr=\"+b(t.jsr)+\"&bver=\"+b(t.bv);var f=a.lineNumber;void 0!==f&&(c+=\"&line=\"+f);var g=\\na.fileName;g&&(0<g.indexOf(\"-extension:/\")&&(e=3),c+=\"&script=\"+b(g),f&&g===window.location.href&&(f=document.documentElement.outerHTML.split(\"\\\\n\")[f],c+=\"&cad=\"+b(f?f.substring(0,300):\"No script found.\")));c+=\"&jsel=\"+e;for(var u in d)c+=\"&\",c+=b(u),c+=\"=\",c+=b(d[u]);c=c+\"&emsg=\"+b(a.name+\": \"+a.message);c=c+\"&jsst=\"+b(a.stack||\"N/A\");12288<=c.length&&(c=c.substr(0,12288));a=c;m||google.log(0,\"\",a);return a};window.onerror=function(a,b,d,m,e){r!==a&&(a=e instanceof Error?e:Error(a),void 0===d||\"lineNumber\"in a||(a.lineNumber=d),void 0===b||\"fileName\"in a||(a.fileName=b),google.ml(a,!1,void 0,!1,\"SyntaxError\"===a.name||\"SyntaxError\"===a.message.substring(0,11)||-1!==a.message.indexOf(\"Script error\")?3:0));r=null;p&&q>=l&&(window.onerror=null)};})();</script></head><body bgcolor=\"#fff\"><script nonce=\"hlnpGc44hr354FXIlsrkng\">(function(){var src=\\'/images/nav_logo229.png\\';var iesg=false;document.body.onload = function(){window.n && window.n();if (document.images){new Image().src=src;}\\nif (!iesg){document.f&&document.f.q.focus();document.gbqf&&document.gbqf.q.focus();}\\n}\\n})();</script><div id=\"mngb\"><div id=gbar><nobr><b class=gb1>Search</b> <a class=gb1 href=\"https://www.google.com/imghp?hl=en&tab=wi\">Images</a> <a class=gb1 href=\"https://maps.google.com/maps?hl=en&tab=wl\">Maps</a> <a class=gb1 href=\"https://play.google.com/?hl=en&tab=w8\">Play</a> <a class=gb1 href=\"https://www.youtube.com/?tab=w1\">YouTube</a> <a class=gb1 href=\"https://news.google.com/?tab=wn\">News</a> <a class=gb1 href=\"https://mail.google.com/mail/?tab=wm\">Gmail</a> <a class=gb1 href=\"https://drive.google.com/?tab=wo\">Drive</a> <a class=gb1 style=\"text-decoration:none\" href=\"https://www.google.com/intl/en/about/products?tab=wh\"><u>More</u> &raquo;</a></nobr></div><div id=guser width=100%><nobr><span id=gbn class=gbi></span><span id=gbf class=gbf></span><span id=gbe></span><a href=\"http://www.google.com/history/optout?hl=en\" class=gb4>Web History</a> | <a  href=\"/preferences?hl=en\" class=gb4>Settings</a> | <a target=_top id=gb_70 href=\"https://accounts.google.com/ServiceLogin?hl=en&passive=true&continue=https://www.google.com/&ec=GAZAAQ\" class=gb4>Sign in</a></nobr></div><div class=gbh style=left:0></div><div class=gbh style=right:0></div></div><center><br clear=\"all\" id=\"lgpd\"><div id=\"lga\"><img alt=\"Seasonal Holidays 2022\" border=\"0\" height=\"200\" src=\"/logos/doodles/2022/seasonal-holidays-2022-6753651837109831.2-law.gif\" title=\"Seasonal Holidays 2022\" width=\"500\" id=\"hplogo\"><br></div><form action=\"/search\" name=\"f\"><table cellpadding=\"0\" cellspacing=\"0\"><tr valign=\"top\"><td width=\"25%\">&nbsp;</td><td align=\"center\" nowrap=\"\"><input name=\"ie\" value=\"ISO-8859-1\" type=\"hidden\"><input value=\"en\" name=\"hl\" type=\"hidden\"><input name=\"source\" type=\"hidden\" value=\"hp\"><input name=\"biw\" type=\"hidden\"><input name=\"bih\" type=\"hidden\"><div class=\"ds\" style=\"height:32px;margin:4px 0\"><input class=\"lst\" style=\"margin:0;padding:5px 8px 0 6px;vertical-align:top;color:#000\" autocomplete=\"off\" value=\"\" title=\"Google Search\" maxlength=\"2048\" name=\"q\" size=\"57\"></div><br style=\"line-height:0\"><span class=\"ds\"><span class=\"lsbb\"><input class=\"lsb\" value=\"Google Search\" name=\"btnG\" type=\"submit\"></span></span><span class=\"ds\"><span class=\"lsbb\"><input class=\"lsb\" id=\"tsuid_1\" value=\"I\\'m Feeling Lucky\" name=\"btnI\" type=\"submit\"><script nonce=\"hlnpGc44hr354FXIlsrkng\">(function(){var id=\\'tsuid_1\\';document.getElementById(id).onclick = function(){if (this.form.q.value){this.checked = 1;if (this.form.iflsig)this.form.iflsig.disabled = false;}\\nelse top.location=\\'/doodles/\\';};})();</script><input value=\"AJiK0e8AAAAAY45aezhpQ9wGcNYC2e2ql2oWEgP8z4g9\" name=\"iflsig\" type=\"hidden\"></span></span></td><td class=\"fl sblc\" align=\"left\" nowrap=\"\" width=\"25%\"><a href=\"/advanced_search?hl=en&amp;authuser=0\">Advanced search</a></td></tr></table><input id=\"gbv\" name=\"gbv\" type=\"hidden\" value=\"1\"><script nonce=\"hlnpGc44hr354FXIlsrkng\">(function(){var a,b=\"1\";if(document&&document.getElementById)if(\"undefined\"!=typeof XMLHttpRequest)b=\"2\";else if(\"undefined\"!=typeof ActiveXObject){var c,d,e=[\"MSXML2.XMLHTTP.6.0\",\"MSXML2.XMLHTTP.3.0\",\"MSXML2.XMLHTTP\",\"Microsoft.XMLHTTP\"];for(c=0;d=e[c++];)try{new ActiveXObject(d),b=\"2\"}catch(h){}}a=b;if(\"2\"==a&&-1==location.search.indexOf(\"&gbv=2\")){var f=google.gbvu,g=document.getElementById(\"gbv\");g&&(g.value=a);f&&window.setTimeout(function(){location.href=f},0)};}).call(this);</script></form><div id=\"gac_scont\"></div><div style=\"font-size:83%;min-height:3.5em\"><br></div><span id=\"footer\"><div style=\"font-size:10pt\"><div style=\"margin:19px auto;text-align:center\" id=\"WqQANb\"><a href=\"/intl/en/ads/\">Advertising\\xa0Programs</a><a href=\"/services/\">Business Solutions</a><a href=\"/intl/en/about.html\">About Google</a></div></div><p style=\"font-size:8pt;color:#70757a\">&copy; 2022 - <a href=\"/intl/en/policies/privacy/\">Privacy</a> - <a href=\"/intl/en/policies/terms/\">Terms</a></p></span></center><script nonce=\"hlnpGc44hr354FXIlsrkng\">(function(){window.google.cdo={height:757,width:1440};(function(){var a=window.innerWidth,b=window.innerHeight;if(!a||!b){var c=window.document,d=\"CSS1Compat\"==c.compatMode?c.documentElement:c.body;a=d.clientWidth;b=d.clientHeight}a&&b&&(a!=google.cdo.width||b!=google.cdo.height)&&google.log(\"\",\"\",\"/client_204?&atyp=i&biw=\"+a+\"&bih=\"+b+\"&ei=\"+google.kEI);}).call(this);})();</script> <script nonce=\"hlnpGc44hr354FXIlsrkng\">(function(){google.xjs={ck:\\'xjs.hp.oxai9SxkIQY.L.X.O\\',cs:\\'ACT90oGuMRhVQfvMfiBCiN66-FAr1_41Tg\\',excm:[]};})();</script>  <script nonce=\"hlnpGc44hr354FXIlsrkng\">(function(){var u=\\'/xjs/_/js/k\\\\x3dxjs.hp.en_US.9b-uVUIpJU8.O/am\\\\x3dAADoBABQAGAB/d\\\\x3d1/ed\\\\x3d1/rs\\\\x3dACT90oEUnjF90qVRE6vmPlzRYSDqOAd4iQ/m\\\\x3dsb_he,d\\';var amd=0;\\nvar d=this||self,e=function(a){return a};var g;var l=function(a,b){this.g=b===h?a:\"\"};l.prototype.toString=function(){return this.g+\"\"};var h={};\\nfunction m(){var a=u;google.lx=function(){p(a);google.lx=function(){}};google.bx||google.lx()}\\nfunction p(a){google.timers&&google.timers.load&&google.tick&&google.tick(\"load\",\"xjsls\");var b=document;var c=\"SCRIPT\";\"application/xhtml+xml\"===b.contentType&&(c=c.toLowerCase());c=b.createElement(c);if(void 0===g){b=null;var k=d.trustedTypes;if(k&&k.createPolicy){try{b=k.createPolicy(\"goog#html\",{createHTML:e,createScript:e,createScriptURL:e})}catch(q){d.console&&d.console.error(q.message)}g=b}else g=b}a=(b=g)?b.createScriptURL(a):a;a=new l(a,h);c.src=a instanceof l&&a.constructor===l?a.g:\"type_error:TrustedResourceUrl\";var f,n;(f=(a=null==(n=(f=(c.ownerDocument&&c.ownerDocument.defaultView||window).document).querySelector)?void 0:n.call(f,\"script[nonce]\"))?a.nonce||a.getAttribute(\"nonce\")||\"\":\"\")&&c.setAttribute(\"nonce\",f);document.body.appendChild(c);google.psa=!0};google.xjsu=u;setTimeout(function(){0<amd?google.caft(function(){return m()},amd):m()},0);})();function _DumpException(e){throw e;}\\nfunction _F_installCss(c){}\\n(function(){google.jl={blt:\\'none\\',chnk:0,dw:false,dwu:true,emtn:0,end:0,ico:false,ikb:0,ine:false,injs:\\'none\\',injt:0,injth:0,injv2:false,lls:\\'default\\',pdt:0,rep:0,snet:true,strt:0,ubm:false,uwp:true};})();(function(){var pmc=\\'{\\\\x22d\\\\x22:{},\\\\x22sb_he\\\\x22:{\\\\x22agen\\\\x22:true,\\\\x22cgen\\\\x22:true,\\\\x22client\\\\x22:\\\\x22heirloom-hp\\\\x22,\\\\x22dh\\\\x22:true,\\\\x22ds\\\\x22:\\\\x22\\\\x22,\\\\x22fl\\\\x22:true,\\\\x22host\\\\x22:\\\\x22google.com\\\\x22,\\\\x22jsonp\\\\x22:true,\\\\x22msgs\\\\x22:{\\\\x22cibl\\\\x22:\\\\x22Clear Search\\\\x22,\\\\x22dym\\\\x22:\\\\x22Did you mean:\\\\x22,\\\\x22lcky\\\\x22:\\\\x22I\\\\\\\\u0026#39;m Feeling Lucky\\\\x22,\\\\x22lml\\\\x22:\\\\x22Learn more\\\\x22,\\\\x22psrc\\\\x22:\\\\x22This search was removed from your \\\\\\\\u003Ca href\\\\x3d\\\\\\\\\\\\x22/history\\\\\\\\\\\\x22\\\\\\\\u003EWeb History\\\\\\\\u003C/a\\\\\\\\u003E\\\\x22,\\\\x22psrl\\\\x22:\\\\x22Remove\\\\x22,\\\\x22sbit\\\\x22:\\\\x22Search by image\\\\x22,\\\\x22srch\\\\x22:\\\\x22Google Search\\\\x22},\\\\x22ovr\\\\x22:{},\\\\x22pq\\\\x22:\\\\x22\\\\x22,\\\\x22rfs\\\\x22:[],\\\\x22sbas\\\\x22:\\\\x220 3px 8px 0 rgba(0,0,0,0.2),0 0 0 1px rgba(0,0,0,0.08)\\\\x22,\\\\x22stok\\\\x22:\\\\x22iU_rtTB1iZiMMcmW-TqWGr5Nz8k\\\\x22}}\\';google.pmc=JSON.parse(pmc);})();</script>        </body></html>'\n"
          ]
        }
      ]
    },
    {
      "cell_type": "markdown",
      "source": [
        "출력문이 b로 시작하는것을 알수 있을것입니다. 이는 바이너리 데이터라는 의미입니다. binary data"
      ],
      "metadata": {
        "id": "7GH50KK627Ui"
      }
    },
    {
      "cell_type": "markdown",
      "source": [],
      "metadata": {
        "id": "-pFzUdGj3EVJ"
      }
    }
  ]
}