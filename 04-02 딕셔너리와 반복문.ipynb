{
 "cells": [
  {
   "cell_type": "markdown",
   "id": "ef26af5f",
   "metadata": {},
   "source": [
    "* 리스트는 인덱스를 기반으로 값을 저장하는것\n",
    "* 딕셔너리는 키를 기반으로 값을 저장하는것 \n",
    "\n"
   ]
  },
  {
   "cell_type": "code",
   "execution_count": 6,
   "id": "f355bb0a",
   "metadata": {},
   "outputs": [
    {
     "data": {
      "text/plain": [
       "'heros'"
      ]
     },
     "execution_count": 6,
     "metadata": {},
     "output_type": "execute_result"
    }
   ],
   "source": [
    "dict_a = {\"name\": \"avengers\",\n",
    "         \"type\": \"heros\"}\n",
    "dict_a[\"name\"]\n",
    "dict_a['type']"
   ]
  },
  {
   "cell_type": "code",
   "execution_count": 59,
   "id": "2d4ea345",
   "metadata": {},
   "outputs": [
    {
     "data": {
      "text/plain": [
       "{'director': ['lucy', 'james'], 'movies': ['hulk', 'iron man3']}"
      ]
     },
     "execution_count": 59,
     "metadata": {},
     "output_type": "execute_result"
    }
   ],
   "source": [
    "\n",
    "\n",
    "dict_b ={\n",
    "    \"director\": ['lucy', 'james'],\n",
    "    \"movies\": ['hulk','iron man3']\n",
    "}\n",
    "\n",
    "dict_b"
   ]
  },
  {
   "cell_type": "code",
   "execution_count": 9,
   "id": "01321c2c",
   "metadata": {},
   "outputs": [
    {
     "data": {
      "text/plain": [
       "['lucy', 'james']"
      ]
     },
     "execution_count": 9,
     "metadata": {},
     "output_type": "execute_result"
    }
   ],
   "source": [
    "dict_b['director']"
   ]
  },
  {
   "cell_type": "code",
   "execution_count": 10,
   "id": "4d99fe5b",
   "metadata": {},
   "outputs": [
    {
     "data": {
      "text/plain": [
       "['hulk', 'iron man3']"
      ]
     },
     "execution_count": 10,
     "metadata": {},
     "output_type": "execute_result"
    }
   ],
   "source": [
    "dict_b['movies']"
   ]
  },
  {
   "cell_type": "code",
   "execution_count": 13,
   "id": "af79a71c",
   "metadata": {},
   "outputs": [
    {
     "data": {
      "text/plain": [
       "{'director': 'cameron', 'movies': ['hulk', 'iron man3']}"
      ]
     },
     "execution_count": 13,
     "metadata": {},
     "output_type": "execute_result"
    }
   ],
   "source": [
    "# 딕셔너리와 발류값 변경\n",
    "dict_b['director']='cameron'\n",
    "dict_b\n",
    "# 한개 넣으면 한개만 나오네"
   ]
  },
  {
   "cell_type": "code",
   "execution_count": 17,
   "id": "f76a23dc",
   "metadata": {},
   "outputs": [
    {
     "data": {
      "text/plain": [
       "'hulk'"
      ]
     },
     "execution_count": 17,
     "metadata": {},
     "output_type": "execute_result"
    }
   ],
   "source": [
    "# 딕셔너리 하나의 키값에 여러가 값을 가지고 있는 경우는 리스트로 이해할수 있따. \n",
    "dict_b['movies'][0]"
   ]
  },
  {
   "cell_type": "code",
   "execution_count": 18,
   "id": "bd28baed",
   "metadata": {},
   "outputs": [
    {
     "data": {
      "text/plain": [
       "{'director': 'cameron', 'movies': ['hulk', 'iron man3'], 'price': 5000}"
      ]
     },
     "execution_count": 18,
     "metadata": {},
     "output_type": "execute_result"
    }
   ],
   "source": [
    "# 딕셔너리에 새로운 자료 추가하기 \n",
    "dict_b['price']=5000\n",
    "dict_b"
   ]
  },
  {
   "cell_type": "code",
   "execution_count": 19,
   "id": "1acb745c",
   "metadata": {},
   "outputs": [
    {
     "data": {
      "text/plain": [
       "{'movies': ['hulk', 'iron man3'], 'price': 5000}"
      ]
     },
     "execution_count": 19,
     "metadata": {},
     "output_type": "execute_result"
    }
   ],
   "source": [
    "# del을 이용하요 딕셔너리 요소 제거하기\n",
    "del dict_b['director']\n",
    "dict_b"
   ]
  },
  {
   "cell_type": "code",
   "execution_count": 60,
   "id": "3d3d164f",
   "metadata": {},
   "outputs": [
    {
     "name": "stdout",
     "output_type": "stream",
     "text": [
      "director\n",
      "movies\n"
     ]
    }
   ],
   "source": [
    "# 헷갈리는 부분 딕셔너리를 for 문에서 사용할때 \n",
    "\n",
    "for i in dict_b:\n",
    "    print(i)\n",
    "\n",
    "#딕셔너리에 내 키값을 반환한다. "
   ]
  },
  {
   "cell_type": "code",
   "execution_count": 61,
   "id": "0762766b",
   "metadata": {},
   "outputs": [
    {
     "name": "stdout",
     "output_type": "stream",
     "text": [
      "a\n",
      "2\n",
      "45\n"
     ]
    }
   ],
   "source": [
    "list_a = ['a',2,'45']\n",
    "for i in list_a:\n",
    "    print(i)\n",
    "# 인덱스를 반복하며 값을 보여준다. "
   ]
  },
  {
   "cell_type": "code",
   "execution_count": 65,
   "id": "33686919",
   "metadata": {},
   "outputs": [
    {
     "name": "stdout",
     "output_type": "stream",
     "text": [
      "director ['lucy', 'james']\n",
      "movies ['hulk', 'iron man3']\n"
     ]
    }
   ],
   "source": [
    "# 딕셔너리 키에 해당하는 모든 값을 보려면?\n",
    "\n",
    "for i in dict_b:\n",
    "    print(i, dict_b[i])"
   ]
  },
  {
   "cell_type": "code",
   "execution_count": 62,
   "id": "2ab554e2",
   "metadata": {},
   "outputs": [
    {
     "data": {
      "text/plain": [
       "3"
      ]
     },
     "execution_count": 62,
     "metadata": {},
     "output_type": "execute_result"
    }
   ],
   "source": [
    "len(list_a)"
   ]
  },
  {
   "cell_type": "code",
   "execution_count": 20,
   "id": "2df59d67",
   "metadata": {},
   "outputs": [
    {
     "name": "stdout",
     "output_type": "stream",
     "text": [
      "접근하고자하는 키name\n",
      "7d dried mangos\n"
     ]
    }
   ],
   "source": [
    "# 키가 존재하는 확인하고 값에 접근하기\n",
    "\n",
    "dicti={\n",
    "    \"name\":'7d dried mangos',\n",
    "    \"type\":'dried',\n",
    "    'ingredient':['mangos','sugar'],\n",
    "    'orgin':'phliphine'\n",
    "}\n",
    "\n",
    "\n",
    "key = input('접근하고자하는 키')\n",
    "\n",
    "if key in dicti:\n",
    "    print(dicti[key])\n",
    "else:\n",
    "    print('None')"
   ]
  },
  {
   "cell_type": "code",
   "execution_count": 63,
   "id": "8b5ce403",
   "metadata": {},
   "outputs": [
    {
     "name": "stdout",
     "output_type": "stream",
     "text": [
      "value None\n",
      "you called none values\n"
     ]
    }
   ],
   "source": [
    "# 키가 존재하는 확인하고 값에 접근하기 get함수를 사용해서\n",
    "\n",
    "dicti={\n",
    "    \"name\":'7d dried mangos',\n",
    "    \"type\":'dried',\n",
    "    'ingredient':['mangos','sugar'],\n",
    "    'orgin':'phliphine'\n",
    "}\n",
    "\n",
    "\n",
    "\n",
    "value = dicti.get('not existed')\n",
    "print('value', value)\n",
    "\n",
    "if value == None:\n",
    "    print(\"you called none values\")"
   ]
  },
  {
   "cell_type": "code",
   "execution_count": 25,
   "id": "eb8451ac",
   "metadata": {},
   "outputs": [
    {
     "data": {
      "text/plain": [
       "{'name': '7d dried mangos',\n",
       " 'type': 'dried',\n",
       " 'ingredient': ['mangos', 'sugar'],\n",
       " 'orgin': 'phliphine'}"
      ]
     },
     "execution_count": 25,
     "metadata": {},
     "output_type": "execute_result"
    }
   ],
   "source": [
    "dicti"
   ]
  },
  {
   "cell_type": "code",
   "execution_count": 27,
   "id": "0eda8be1",
   "metadata": {},
   "outputs": [
    {
     "name": "stdout",
     "output_type": "stream",
     "text": [
      "name : 7d dried mangos\n",
      "type : dried\n",
      "ingredient : ['mangos', 'sugar']\n",
      "orgin : phliphine\n"
     ]
    }
   ],
   "source": [
    "for key in dicti:\n",
    "    print(key, \":\", dicti[key])  # 왼쪽 키값을 반복하세요 오른쪽 발류값을 반복하세요"
   ]
  },
  {
   "cell_type": "markdown",
   "id": "1bf6f37a",
   "metadata": {},
   "source": [
    "## 마무리 문제\n"
   ]
  },
  {
   "cell_type": "code",
   "execution_count": 31,
   "id": "bfa6e650",
   "metadata": {},
   "outputs": [
    {
     "data": {
      "text/plain": [
       "{'name': '구름'}"
      ]
     },
     "execution_count": 31,
     "metadata": {},
     "output_type": "execute_result"
    }
   ],
   "source": [
    "dict_a = {}\n",
    "dict_a['name']=\"구름\"\n",
    "dict_a"
   ]
  },
  {
   "cell_type": "code",
   "execution_count": 32,
   "id": "c11e211f",
   "metadata": {},
   "outputs": [
    {
     "data": {
      "text/plain": [
       "{}"
      ]
     },
     "execution_count": 32,
     "metadata": {},
     "output_type": "execute_result"
    }
   ],
   "source": [
    "del dict_a['name']\n",
    "dict_a"
   ]
  },
  {
   "cell_type": "code",
   "execution_count": 66,
   "id": "4a4bb57b",
   "metadata": {},
   "outputs": [
    {
     "data": {
      "text/plain": [
       "[{'name': 'cloud', 'age': 5},\n",
       " {'name': 'choco', 'age': 3},\n",
       " {'name': 'merry', 'age': 1},\n",
       " {'name': 'tiger', 'age': 1}]"
      ]
     },
     "execution_count": 66,
     "metadata": {},
     "output_type": "execute_result"
    }
   ],
   "source": [
    "pets = [\n",
    "  {\"name\": \"cloud\", \"age\": 5},\n",
    "  {\"name\": 'choco', \"age\": 3},\n",
    "  {'name': 'merry', 'age':1},\n",
    "  {'name': 'tiger', 'age': 1}\n",
    "]\n",
    "\n",
    "pets"
   ]
  },
  {
   "cell_type": "code",
   "execution_count": 70,
   "id": "191db32b",
   "metadata": {},
   "outputs": [
    {
     "data": {
      "text/plain": [
       "'cloud'"
      ]
     },
     "execution_count": 70,
     "metadata": {},
     "output_type": "execute_result"
    }
   ],
   "source": [
    "pets[0]['name']"
   ]
  },
  {
   "cell_type": "code",
   "execution_count": 71,
   "id": "da4c9c95",
   "metadata": {},
   "outputs": [
    {
     "name": "stdout",
     "output_type": "stream",
     "text": [
      "cloud 5\n",
      "choco 3\n",
      "merry 1\n",
      "tiger 1\n"
     ]
    }
   ],
   "source": [
    "for pet in pets:\n",
    "    print(pet['name'], str(pet['age']))\n",
    "        \n",
    "# 반복하는것은 리스트의 인덱스 \n",
    "# 리턴하는것은 각 리스트에 있는 딕셔너리 \n",
    "# 딕셔너리의 값을 호출하려면 딕셔너리의 키갑을 적어야한다. "
   ]
  },
  {
   "cell_type": "code",
   "execution_count": 72,
   "id": "c3fc52b7",
   "metadata": {},
   "outputs": [
    {
     "name": "stdout",
     "output_type": "stream",
     "text": [
      "cloud 5\n",
      "choco 3\n",
      "merry 1\n",
      "tiger 1\n"
     ]
    }
   ],
   "source": [
    "for pet in pets:\n",
    "    print(pet['name'], pet['age'])"
   ]
  },
  {
   "cell_type": "code",
   "execution_count": 55,
   "id": "06a395d5",
   "metadata": {},
   "outputs": [
    {
     "name": "stdout",
     "output_type": "stream",
     "text": [
      "{1: 3, 2: 4, 6: 2, 8: 2, 4: 2, 3: 3, 9: 3, 7: 2, 5: 2}\n"
     ]
    }
   ],
   "source": [
    "numbers = [\n",
    "    1,2,6,8,4,3,2,1,9,6,4,9,7,2,1,3,5,5,8,9,7,2,3\n",
    "]\n",
    "\n",
    "counter = {}\n",
    "\n",
    "for number in numbers:\n",
    "    if number in counter:\n",
    "        counter[number] =counter[number]+1\n",
    "    else:\n",
    "        counter[number]=1\n",
    "print(counter)"
   ]
  },
  {
   "cell_type": "code",
   "execution_count": 73,
   "id": "c37215c3",
   "metadata": {},
   "outputs": [
    {
     "name": "stdout",
     "output_type": "stream",
     "text": [
      "{}\n"
     ]
    }
   ],
   "source": [
    "numbers = [\n",
    "    1,2,6,8,4,3,2,1,9,6,4,9,7,2,1,3,5,5,8,9,7,2,3\n",
    "]\n",
    "\n",
    "counter = {}\n",
    "\n",
    "for number in numbers:\n",
    "    if number in counter:\n",
    "        counter[1] =counter[1]+1\n",
    "print(counter)"
   ]
  },
  {
   "cell_type": "code",
   "execution_count": 56,
   "id": "02bdb6e8",
   "metadata": {},
   "outputs": [
    {
     "data": {
      "text/plain": [
       "{'name': 'knight',\n",
       " 'level': 12,\n",
       " 'items': {'sword': 'The sord of flare', 'armor': 'full-plated'},\n",
       " 'skill': ['cut it', 'cut it harder', 'cut it the hardest']}"
      ]
     },
     "execution_count": 56,
     "metadata": {},
     "output_type": "execute_result"
    }
   ],
   "source": [
    "character = {\n",
    "    \"name\": 'knight',\n",
    "    'level': 12,\n",
    "    'items': {\n",
    "        'sword': 'The sord of flare',\n",
    "        'armor' : 'full-plated'},\n",
    "    'skill': ['cut it', 'cut it harder', 'cut it the hardest']\n",
    "    }\n",
    "character"
   ]
  },
  {
   "cell_type": "code",
   "execution_count": 58,
   "id": "a05a2d74",
   "metadata": {},
   "outputs": [
    {
     "name": "stdout",
     "output_type": "stream",
     "text": [
      "name : knight\n",
      "level : 12\n",
      "sword : The sord of flare\n",
      "armor : full-plated\n",
      "skill : cut it\n",
      "skill : cut it harder\n",
      "skill : cut it the hardest\n"
     ]
    }
   ],
   "source": [
    "for key in character:\n",
    "    if type(character[key]) is dict:\n",
    "        for small_key in character[key]:\n",
    "            print(small_key, \":\", character[key][small_key])\n",
    "    elif type(character[key]) is list:\n",
    "        for item in character[key]:\n",
    "            print(key, \":\", item)\n",
    "    else:\n",
    "        print(key, \":\", character[key])\n"
   ]
  },
  {
   "cell_type": "code",
   "execution_count": null,
   "id": "18731ebd",
   "metadata": {},
   "outputs": [],
   "source": [
    "for key in character:\n",
    "    if type(character[key]) is dict:\n",
    "        for small_key in character[key]:\n",
    "            print(small_key, \":\", character[key])"
   ]
  },
  {
   "cell_type": "code",
   "execution_count": 74,
   "id": "814e91c1",
   "metadata": {},
   "outputs": [
    {
     "data": {
      "text/plain": [
       "list"
      ]
     },
     "execution_count": 74,
     "metadata": {},
     "output_type": "execute_result"
    }
   ],
   "source": [
    "type(character['skill'])"
   ]
  },
  {
   "cell_type": "code",
   "execution_count": 75,
   "id": "192a6edf",
   "metadata": {},
   "outputs": [
    {
     "data": {
      "text/plain": [
       "dict"
      ]
     },
     "execution_count": 75,
     "metadata": {},
     "output_type": "execute_result"
    }
   ],
   "source": [
    "type(character['items'])"
   ]
  },
  {
   "cell_type": "code",
   "execution_count": 76,
   "id": "28c8acea",
   "metadata": {},
   "outputs": [
    {
     "data": {
      "text/plain": [
       "str"
      ]
     },
     "execution_count": 76,
     "metadata": {},
     "output_type": "execute_result"
    }
   ],
   "source": [
    "type(character['name'])"
   ]
  },
  {
   "cell_type": "markdown",
   "id": "1f6009cb",
   "metadata": {},
   "source": [
    "value 값이 리스트도 될수 있고 또하나의 딕셔너리기가 될수도 있다."
   ]
  },
  {
   "cell_type": "code",
   "execution_count": 77,
   "id": "25d1bf8e",
   "metadata": {},
   "outputs": [
    {
     "name": "stdout",
     "output_type": "stream",
     "text": [
      "name knight\n",
      "level 12\n",
      "items {'sword': 'The sord of flare', 'armor': 'full-plated'}\n",
      "skill ['cut it', 'cut it harder', 'cut it the hardest']\n"
     ]
    }
   ],
   "source": [
    "for key in character:\n",
    "    print(key, character[key])"
   ]
  },
  {
   "cell_type": "markdown",
   "id": "df650f90",
   "metadata": {},
   "source": [
    "## Iterator"
   ]
  },
  {
   "cell_type": "markdown",
   "id": "a2f0b6e1",
   "metadata": {},
   "source": [
    "## for 반복자 in 반복 할 수 있는것\n",
    "* 여기서 반복할수 있는것을 iterable이라고 한다.\n",
    "* 내부에 있는 요소들을 차례차례 꺼낼수 있는 객채를 의미\n",
    "* 이중에서 next함수를 적용할수 있는 요소를 iterator라고 함 "
   ]
  },
  {
   "cell_type": "code",
   "execution_count": 80,
   "id": "20d08a57",
   "metadata": {},
   "outputs": [
    {
     "name": "stdout",
     "output_type": "stream",
     "text": [
      "<list_reverseiterator object at 0x7f8a490fc610>\n",
      "6\n",
      "5\n",
      "4\n",
      "3\n",
      "2\n"
     ]
    }
   ],
   "source": [
    "numbers = [1,2,3,4,5,6]\n",
    "r_num = reversed(numbers)\n",
    "\n",
    "print(r_num)\n",
    "print(next(r_num))\n",
    "print(next(r_num))\n",
    "print(next(r_num))\n",
    "print(next(r_num))\n",
    "print(next(r_num))\n"
   ]
  },
  {
   "cell_type": "markdown",
   "id": "47634f42",
   "metadata": {},
   "source": [
    "##  확인문제"
   ]
  },
  {
   "cell_type": "code",
   "execution_count": 81,
   "id": "e332eaee",
   "metadata": {},
   "outputs": [
    {
     "data": {
      "text/plain": [
       "'1010'"
      ]
     },
     "execution_count": 81,
     "metadata": {},
     "output_type": "execute_result"
    }
   ],
   "source": [
    "# 10수와 2진수의 변환\n",
    "\n",
    "\"{:b}\".format(10)"
   ]
  },
  {
   "cell_type": "code",
   "execution_count": 83,
   "id": "4e7e2919",
   "metadata": {},
   "outputs": [
    {
     "data": {
      "text/plain": [
       "10"
      ]
     },
     "execution_count": 83,
     "metadata": {},
     "output_type": "execute_result"
    }
   ],
   "source": [
    "int(\"1010\",2)\n",
    "# 변환시 따옴포 이것은 문자 "
   ]
  },
  {
   "cell_type": "code",
   "execution_count": 86,
   "id": "feb4b762",
   "metadata": {},
   "outputs": [
    {
     "data": {
      "text/plain": [
       "'12'"
      ]
     },
     "execution_count": 86,
     "metadata": {},
     "output_type": "execute_result"
    }
   ],
   "source": [
    "# 10진수와 8진수 변환\n",
    "\"{:o}\".format(10)\n"
   ]
  },
  {
   "cell_type": "code",
   "execution_count": 87,
   "id": "26c5f86c",
   "metadata": {},
   "outputs": [
    {
     "data": {
      "text/plain": [
       "10"
      ]
     },
     "execution_count": 87,
     "metadata": {},
     "output_type": "execute_result"
    }
   ],
   "source": [
    "int(\"12\",8)"
   ]
  },
  {
   "cell_type": "code",
   "execution_count": 88,
   "id": "f14bead7",
   "metadata": {},
   "outputs": [
    {
     "data": {
      "text/plain": [
       "16"
      ]
     },
     "execution_count": 88,
     "metadata": {},
     "output_type": "execute_result"
    }
   ],
   "source": [
    "#10진수와 16진수 변환\n",
    "\"{:x}\".format(10)\n",
    "\"a\"\n",
    "int(\"10\", 16)\n",
    "16"
   ]
  },
  {
   "cell_type": "code",
   "execution_count": 91,
   "id": "69eaa8d1",
   "metadata": {},
   "outputs": [
    {
     "data": {
      "text/plain": [
       "1"
      ]
     },
     "execution_count": 91,
     "metadata": {},
     "output_type": "execute_result"
    }
   ],
   "source": [
    "# 반복가능한 객체 문자열, 리스트, 범위 count함수 사용\n",
    "\n",
    "\"나는어제너무힘들었따\".count(\"나\")"
   ]
  }
 ],
 "metadata": {
  "kernelspec": {
   "display_name": "Python 3",
   "language": "python",
   "name": "python3"
  },
  "language_info": {
   "codemirror_mode": {
    "name": "ipython",
    "version": 3
   },
   "file_extension": ".py",
   "mimetype": "text/x-python",
   "name": "python",
   "nbconvert_exporter": "python",
   "pygments_lexer": "ipython3",
   "version": "3.8.8"
  }
 },
 "nbformat": 4,
 "nbformat_minor": 5
}
