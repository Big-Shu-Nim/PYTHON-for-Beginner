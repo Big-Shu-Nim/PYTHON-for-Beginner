{
 "cells": [
  {
   "cell_type": "markdown",
   "id": "3a0463d0",
   "metadata": {},
   "source": [
    "## 복합 대입 연산자\n",
    "변수는 내부에 들어 잇는 자료와 연산자를 사용할 수 잇습니다. 문자열이 들어 있으면 문자열과 관련된\n",
    "연산자를 사용할 수 있으며 숫자가 들어 있으면 숫자와 관련된 연산자를 사용할수 있습니다. 그런데\n",
    "변수를 활용하면 기존의 연산자와 조합해서 사용할 수 있는 연산자가 있습니다. 이를 복합 대입연산자라고 합니다. \n"
   ]
  },
  {
   "cell_type": "code",
   "execution_count": 1,
   "id": "08edbb7b",
   "metadata": {},
   "outputs": [
    {
     "name": "stdout",
     "output_type": "stream",
     "text": [
      "10\n"
     ]
    }
   ],
   "source": [
    "a=0\n",
    "a += 10\n",
    "print(a)"
   ]
  },
  {
   "cell_type": "code",
   "execution_count": 2,
   "id": "b109fdcf",
   "metadata": {},
   "outputs": [
    {
     "name": "stdout",
     "output_type": "stream",
     "text": [
      "10\n"
     ]
    }
   ],
   "source": [
    "a -= 0\n",
    "print(a)"
   ]
  },
  {
   "cell_type": "code",
   "execution_count": 3,
   "id": "ca5c1ae0",
   "metadata": {},
   "outputs": [
    {
     "name": "stdout",
     "output_type": "stream",
     "text": [
      "100\n"
     ]
    }
   ],
   "source": [
    "a *= 10\n",
    "print(a)"
   ]
  },
  {
   "cell_type": "code",
   "execution_count": 4,
   "id": "82cd3048",
   "metadata": {},
   "outputs": [
    {
     "name": "stdout",
     "output_type": "stream",
     "text": [
      "10.0\n"
     ]
    }
   ],
   "source": [
    "a /= 10\n",
    "print(a)"
   ]
  },
  {
   "cell_type": "code",
   "execution_count": 5,
   "id": "e0eb1ed8",
   "metadata": {},
   "outputs": [
    {
     "name": "stdout",
     "output_type": "stream",
     "text": [
      "1.0\n"
     ]
    }
   ],
   "source": [
    "a %= 3\n",
    "print(a)"
   ]
  },
  {
   "cell_type": "code",
   "execution_count": 6,
   "id": "463a1bca",
   "metadata": {},
   "outputs": [
    {
     "name": "stdout",
     "output_type": "stream",
     "text": [
      "1.0\n"
     ]
    }
   ],
   "source": [
    "a **=\n",
    "print(a)"
   ]
  },
  {
   "cell_type": "markdown",
   "id": "88a721ca",
   "metadata": {},
   "source": [
    "## 문자열 대입 연산자\n",
    "    += 문자열 연결 후 대입\n",
    "    *= 문자열 반복 후 대입 "
   ]
  },
  {
   "cell_type": "code",
   "execution_count": 7,
   "id": "09a52518",
   "metadata": {},
   "outputs": [
    {
     "name": "stdout",
     "output_type": "stream",
     "text": [
      "string: hello!!\n"
     ]
    }
   ],
   "source": [
    "string = 'hello'\n",
    "string += \"!\"\n",
    "string +=\"!\"\n",
    "print(\"string:\", string)"
   ]
  },
  {
   "cell_type": "markdown",
   "id": "962ec413",
   "metadata": {},
   "source": [
    " ## 사용자 입력: input()"
   ]
  },
  {
   "cell_type": "code",
   "execution_count": 8,
   "id": "05654352",
   "metadata": {},
   "outputs": [
    {
     "name": "stdout",
     "output_type": "stream",
     "text": [
      "Please greeting us hello\n"
     ]
    },
    {
     "data": {
      "text/plain": [
       "'hello'"
      ]
     },
     "execution_count": 8,
     "metadata": {},
     "output_type": "execute_result"
    }
   ],
   "source": [
    "input('Please greeting us ')"
   ]
  },
  {
   "cell_type": "code",
   "execution_count": 9,
   "id": "420d8d94",
   "metadata": {},
   "outputs": [],
   "source": [
    "## input 중 대기되는 현상 'block'"
   ]
  },
  {
   "cell_type": "code",
   "execution_count": 10,
   "id": "6a51f41f",
   "metadata": {},
   "outputs": [
    {
     "name": "stdout",
     "output_type": "stream",
     "text": [
      "type number123\n"
     ]
    }
   ],
   "source": [
    "# caution\n",
    "number = input('type number')"
   ]
  },
  {
   "cell_type": "code",
   "execution_count": 13,
   "id": "eb944be7",
   "metadata": {},
   "outputs": [
    {
     "name": "stdout",
     "output_type": "stream",
     "text": [
      "<class 'str'>\n"
     ]
    }
   ],
   "source": [
    "print(type(number))"
   ]
  },
  {
   "cell_type": "markdown",
   "id": "99ca26a2",
   "metadata": {},
   "source": [
    "* input 함수는 사용자가 무엇을 입력해도 결과는 무조건 문자열 자료형 "
   ]
  },
  {
   "cell_type": "code",
   "execution_count": 14,
   "id": "e7cb9bbf",
   "metadata": {},
   "outputs": [
    {
     "name": "stdout",
     "output_type": "stream",
     "text": [
      "type a>a\n"
     ]
    }
   ],
   "source": [
    "# 따라서 숫자 입력 후 연산시 cast해줘야한다.\n"
   ]
  },
  {
   "cell_type": "code",
   "execution_count": 17,
   "id": "1a16bc56",
   "metadata": {},
   "outputs": [
    {
     "name": "stdout",
     "output_type": "stream",
     "text": [
      "type a>123\n",
      "type B>456\n",
      "string: 123456\n",
      "number: 579\n"
     ]
    }
   ],
   "source": [
    "string_a = input('type a>')\n",
    "int_a= int(string_a)\n",
    "\n",
    "string_b = input('type B>')\n",
    "int_b=int(string_b)\n",
    "\n",
    "print('string:', string_a+string_b)\n",
    "print('number:', int_a+int_b)"
   ]
  },
  {
   "cell_type": "code",
   "execution_count": null,
   "id": "635099f6",
   "metadata": {},
   "outputs": [],
   "source": []
  }
 ],
 "metadata": {
  "kernelspec": {
   "display_name": "Python 3",
   "language": "python",
   "name": "python3"
  },
  "language_info": {
   "codemirror_mode": {
    "name": "ipython",
    "version": 3
   },
   "file_extension": ".py",
   "mimetype": "text/x-python",
   "name": "python",
   "nbconvert_exporter": "python",
   "pygments_lexer": "ipython3",
   "version": "3.8.8"
  }
 },
 "nbformat": 4,
 "nbformat_minor": 5
}
