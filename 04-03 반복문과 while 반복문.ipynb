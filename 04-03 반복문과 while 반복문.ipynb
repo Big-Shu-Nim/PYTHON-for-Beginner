{
 "cells": [
  {
   "cell_type": "markdown",
   "id": "48c4b971",
   "metadata": {},
   "source": [
    "* 04-01, 04-02 에서 for 문을반복할때 리스트와 딕셔너리를 활용해서 반복해봤다.\n",
    "* for statement에서 또하나 활용할수 있는 것은 범위(range)다. \n",
    "* 이와 관련해서 3가지 다른 방법이 있다."
   ]
  },
  {
   "cell_type": "markdown",
   "id": "1ed9284d",
   "metadata": {},
   "source": [
    "# one argument in a range \n"
   ]
  },
  {
   "cell_type": "code",
   "execution_count": 1,
   "id": "1f5379fe",
   "metadata": {},
   "outputs": [
    {
     "name": "stdout",
     "output_type": "stream",
     "text": [
      "0\n",
      "1\n",
      "2\n",
      "3\n",
      "4\n"
     ]
    }
   ],
   "source": [
    "for i in range(5):\n",
    "    print(i)"
   ]
  },
  {
   "cell_type": "code",
   "execution_count": 6,
   "id": "b8d65567",
   "metadata": {},
   "outputs": [
    {
     "data": {
      "text/plain": [
       "[0, 1, 2, 3, 4, 5, 6, 7, 8, 9]"
      ]
     },
     "execution_count": 6,
     "metadata": {},
     "output_type": "execute_result"
    }
   ],
   "source": [
    "#list()를 사용하면 범위내 어떤 값이 들어있는지 알수 있다\n",
    "list(range(10))"
   ]
  },
  {
   "cell_type": "markdown",
   "id": "5de8bddf",
   "metadata": {},
   "source": [
    "## Two arguemtns in a range "
   ]
  },
  {
   "cell_type": "code",
   "execution_count": 3,
   "id": "f75e3388",
   "metadata": {},
   "outputs": [
    {
     "name": "stdout",
     "output_type": "stream",
     "text": [
      "2\n",
      "3\n",
      "4\n"
     ]
    }
   ],
   "source": [
    "# n부터 m-1까지의 정수의 범위로 만듬 \n",
    "for i in range(2,5):\n",
    "    print(i)\n"
   ]
  },
  {
   "cell_type": "code",
   "execution_count": 7,
   "id": "fcb6e7e6",
   "metadata": {},
   "outputs": [
    {
     "data": {
      "text/plain": [
       "[9, 10, 11, 12, 13, 14]"
      ]
     },
     "execution_count": 7,
     "metadata": {},
     "output_type": "execute_result"
    }
   ],
   "source": [
    "list(range(9, 15))"
   ]
  },
  {
   "cell_type": "markdown",
   "id": "900cc629",
   "metadata": {},
   "source": [
    "## Three arguemtns in a range"
   ]
  },
  {
   "cell_type": "code",
   "execution_count": 5,
   "id": "07466ae7",
   "metadata": {},
   "outputs": [
    {
     "name": "stdout",
     "output_type": "stream",
     "text": [
      "2\n",
      "4\n",
      "6\n"
     ]
    }
   ],
   "source": [
    "# n부터 m-1까지의 정수의 범위로 만듬 , 공차가 l 만큼생김\n",
    "# range(n,m,l)\n",
    "\n",
    "for i in range(2,7,2):\n",
    "    print(i)"
   ]
  },
  {
   "cell_type": "code",
   "execution_count": 8,
   "id": "32525027",
   "metadata": {},
   "outputs": [
    {
     "data": {
      "text/plain": [
       "[1, 3, 5, 7, 9]"
      ]
     },
     "execution_count": 8,
     "metadata": {},
     "output_type": "execute_result"
    }
   ],
   "source": [
    "list(range(1,10, 2))"
   ]
  },
  {
   "cell_type": "markdown",
   "id": "d2b9bd8b",
   "metadata": {},
   "source": [
    "## 파이썬의 모든 기능들은 범위를 지정할때 마지막 숫자를 포함하지 않는다."
   ]
  },
  {
   "cell_type": "code",
   "execution_count": 9,
   "id": "607bcbdc",
   "metadata": {},
   "outputs": [
    {
     "data": {
      "text/plain": [
       "[0, 2, 4, 6, 8, 10]"
      ]
     },
     "execution_count": 9,
     "metadata": {},
     "output_type": "execute_result"
    }
   ],
   "source": [
    "list(range(0,11,2))"
   ]
  },
  {
   "cell_type": "code",
   "execution_count": 10,
   "id": "c22cb297",
   "metadata": {},
   "outputs": [
    {
     "data": {
      "text/plain": [
       "[0, 1, 2, 3, 4, 5, 6, 7, 8, 9, 10]"
      ]
     },
     "execution_count": 10,
     "metadata": {},
     "output_type": "execute_result"
    }
   ],
   "source": [
    "# 특정값을 반드시 포함되어야 한다고 했을떄 다음과 같이 작성하기도 한다.\n",
    "\n",
    "a = range(0, 10+1)\n",
    "list(a)"
   ]
  },
  {
   "cell_type": "code",
   "execution_count": 11,
   "id": "95124b0e",
   "metadata": {},
   "outputs": [
    {
     "ename": "TypeError",
     "evalue": "'float' object cannot be interpreted as an integer",
     "output_type": "error",
     "traceback": [
      "\u001b[0;31m---------------------------------------------------------------------------\u001b[0m",
      "\u001b[0;31mTypeError\u001b[0m                                 Traceback (most recent call last)",
      "\u001b[0;32m<ipython-input-11-ea51f3d66c23>\u001b[0m in \u001b[0;36m<module>\u001b[0;34m\u001b[0m\n\u001b[1;32m      2\u001b[0m \u001b[0;34m\u001b[0m\u001b[0m\n\u001b[1;32m      3\u001b[0m \u001b[0mn\u001b[0m\u001b[0;34m=\u001b[0m \u001b[0;36m10\u001b[0m\u001b[0;34m\u001b[0m\u001b[0;34m\u001b[0m\u001b[0m\n\u001b[0;32m----> 4\u001b[0;31m \u001b[0ma\u001b[0m \u001b[0;34m=\u001b[0m \u001b[0mrange\u001b[0m\u001b[0;34m(\u001b[0m\u001b[0;36m0\u001b[0m\u001b[0;34m,\u001b[0m \u001b[0mn\u001b[0m\u001b[0;34m/\u001b[0m\u001b[0;36m2\u001b[0m\u001b[0;34m)\u001b[0m\u001b[0;34m\u001b[0m\u001b[0;34m\u001b[0m\u001b[0m\n\u001b[0m",
      "\u001b[0;31mTypeError\u001b[0m: 'float' object cannot be interpreted as an integer"
     ]
    }
   ],
   "source": [
    "# range arguments 정수만 받는다.\n",
    "\n",
    "n= 10\n",
    "a = range(0, n/2)\n"
   ]
  },
  {
   "cell_type": "code",
   "execution_count": 12,
   "id": "9c492528",
   "metadata": {},
   "outputs": [
    {
     "data": {
      "text/plain": [
       "[0, 1, 2, 3, 4]"
      ]
     },
     "execution_count": 12,
     "metadata": {},
     "output_type": "execute_result"
    }
   ],
   "source": [
    "a = range(0, int(n/2)) \n",
    "list(a)\n",
    "#실수를 정수로 바꾸는 방법보다\n",
    "\n",
    "a = range(0, n //2) # 정수 나누기 연산자를 많이 사용함\n",
    "list(a)"
   ]
  },
  {
   "cell_type": "code",
   "execution_count": 13,
   "id": "ae0bdfad",
   "metadata": {},
   "outputs": [
    {
     "name": "stdout",
     "output_type": "stream",
     "text": [
      "0번째 반복: 273\n",
      "1번째 반복: 32\n",
      "2번째 반복: 103\n",
      "3번째 반복: 57\n",
      "4번째 반복: 52\n"
     ]
    }
   ],
   "source": [
    "array = [273, 32, 103, 57, 52]\n",
    "\n",
    "for i in range(len(array)): # list의 갯수만큼 반복합니다.\n",
    "    print(\"{}번째 반복: {}\".format(i, array[i]))\n",
    "    "
   ]
  },
  {
   "cell_type": "code",
   "execution_count": 15,
   "id": "4c768c52",
   "metadata": {},
   "outputs": [
    {
     "name": "stdout",
     "output_type": "stream",
     "text": [
      "273\n",
      "32\n",
      "103\n",
      "57\n",
      "52\n"
     ]
    }
   ],
   "source": [
    "for i in array: # 리스트를 그냥 반복시키면 리스트의 값을 반환한다.\n",
    "    print(i)"
   ]
  },
  {
   "cell_type": "code",
   "execution_count": 17,
   "id": "ddc93aec",
   "metadata": {},
   "outputs": [
    {
     "name": "stdout",
     "output_type": "stream",
     "text": [
      "0\n",
      "1\n",
      "2\n",
      "3\n",
      "4\n"
     ]
    }
   ],
   "source": [
    "for i in range(len(array)):  # len함수로 갯수를 세고 그만큼 반복하면 몇번재인지를 반환한다.\n",
    "    print(i)"
   ]
  },
  {
   "cell_type": "markdown",
   "id": "97e01cda",
   "metadata": {},
   "source": [
    "## 역반복문 "
   ]
  },
  {
   "cell_type": "code",
   "execution_count": 19,
   "id": "268eeeee",
   "metadata": {},
   "outputs": [
    {
     "name": "stdout",
     "output_type": "stream",
     "text": [
      "현재 반복 변수: 4\n",
      "현재 반복 변수: 3\n",
      "현재 반복 변수: 2\n",
      "현재 반복 변수: 1\n",
      "현재 반복 변수: 0\n"
     ]
    }
   ],
   "source": [
    "for i in range(4, 0 - 1, -1): #4번재부터 마지막까지 헤아릴것, 차이는 거꾸로 따라서 마지막에서부터 4가지 나열\n",
    "    print('현재 반복 변수: {}'.format(i))"
   ]
  },
  {
   "cell_type": "code",
   "execution_count": 21,
   "id": "6a078f28",
   "metadata": {},
   "outputs": [
    {
     "name": "stdout",
     "output_type": "stream",
     "text": [
      "현재반복횟수: 4\n",
      "현재반복횟수: 3\n",
      "현재반복횟수: 2\n",
      "현재반복횟수: 1\n",
      "현재반복횟수: 0\n"
     ]
    }
   ],
   "source": [
    "# reversed 함수를 사용해서 봅아보기\n",
    "\n",
    "for i in reversed(range(5)):\n",
    "    print(\"현재반복횟수: {}\".format(i))"
   ]
  },
  {
   "cell_type": "markdown",
   "id": "ade5e2bd",
   "metadata": {},
   "source": [
    "## while 반복문\n",
    "\n",
    "* for 반복문은 특정 횟수만큼 반복하는 경우이고\n",
    "* whlie 반복문은 표현식이 참인동안 게속 반복하는것 \n",
    "\n",
    "* 구체적으로 범위, 리스트, 딕셔너리를 제외하고는 전부다 whlie을 사용한다.\n",
    "* '조건'을 사용한다면 while반복문이다."
   ]
  },
  {
   "cell_type": "code",
   "execution_count": 22,
   "id": "22a85a29",
   "metadata": {},
   "outputs": [
    {
     "name": "stdout",
     "output_type": "stream",
     "text": [
      "0번째 반복입니다\n",
      "1번째 반복입니다\n",
      "2번째 반복입니다\n",
      "3번째 반복입니다\n",
      "4번째 반복입니다\n",
      "5번째 반복입니다\n",
      "6번째 반복입니다\n",
      "7번째 반복입니다\n",
      "8번째 반복입니다\n",
      "9번째 반복입니다\n"
     ]
    }
   ],
   "source": [
    "i = 0\n",
    "while i<10:\n",
    "    print(\"{}번째 반복입니다\".format(i))\n",
    "    i +=1"
   ]
  },
  {
   "cell_type": "code",
   "execution_count": 23,
   "id": "02d11a0a",
   "metadata": {},
   "outputs": [
    {
     "name": "stdout",
     "output_type": "stream",
     "text": [
      "[1, 3, 4, 5, 1]\n"
     ]
    }
   ],
   "source": [
    "# while문을 활용해 여러개 값 한번에 삭제하기\n",
    "\n",
    "list_1=[1,2,3,4,5,1,2]\n",
    "value=2\n",
    "\n",
    "while value in list_1:\n",
    "    list_1.remove(value)\n",
    "\n",
    "print(list_1)"
   ]
  },
  {
   "cell_type": "markdown",
   "id": "f649e18b",
   "metadata": {},
   "source": [
    "Unix time: 세계 표준시 UTX로 1970년 1월 1일 0시 0분 0초를 기준으로 몇초가 지났는지를 저수로 나타낸것. "
   ]
  },
  {
   "cell_type": "code",
   "execution_count": 26,
   "id": "b57764c5",
   "metadata": {},
   "outputs": [
    {
     "name": "stdout",
     "output_type": "stream",
     "text": [
      "현재 시간은 1970년으로부터 1668335907.350425만큼 시간이 지났다.\n"
     ]
    }
   ],
   "source": [
    "import time\n",
    "print(\"현재 시간은 1970년으로부터 {}만큼 시간이 지났다.\".format(time.time()))\n"
   ]
  },
  {
   "cell_type": "code",
   "execution_count": 27,
   "id": "f98968a5",
   "metadata": {},
   "outputs": [
    {
     "name": "stdout",
     "output_type": "stream",
     "text": [
      "5초동안 28786904번 반복했습니다.\n"
     ]
    }
   ],
   "source": [
    "# 5초 동안 반복하기\n",
    "\n",
    "number = 0\n",
    "\n",
    "target_tick = time.time()+5\n",
    "while time.time() < target_tick:\n",
    "    number +=1\n",
    "print(\"5초동안 {}번 반복했습니다.\".format(number))\n"
   ]
  },
  {
   "cell_type": "code",
   "execution_count": 28,
   "id": "03524811",
   "metadata": {},
   "outputs": [
    {
     "name": "stdout",
     "output_type": "stream",
     "text": [
      "0번째 반복문입니다.\n",
      "do you want to quit?(y/n):n\n",
      "1번째 반복문입니다.\n",
      "do you want to quit?(y/n):n\n",
      "2번째 반복문입니다.\n",
      "do you want to quit?(y/n):n\n",
      "3번째 반복문입니다.\n",
      "do you want to quit?(y/n):n\n",
      "4번째 반복문입니다.\n",
      "do you want to quit?(y/n):n\n",
      "5번째 반복문입니다.\n",
      "do you want to quit?(y/n):y\n",
      "반복을 종료합니다.\n"
     ]
    }
   ],
   "source": [
    "# while 반복문:  breakt, continue\n",
    "\n",
    "i = 0\n",
    "\n",
    "while True:\n",
    "    print(\"{}번째 반복문입니다.\".format(i))\n",
    "    i=i+1\n",
    "    \n",
    "    #반복 종료\n",
    "    \n",
    "    input_text = input(\"do you want to quit?(y/n):\")\n",
    "    if input_text in [\"y\", \"Y\"]:\n",
    "        print(\"반복을 종료합니다.\")\n",
    "        break"
   ]
  },
  {
   "cell_type": "code",
   "execution_count": 37,
   "id": "1b31c599",
   "metadata": {},
   "outputs": [
    {
     "name": "stdout",
     "output_type": "stream",
     "text": [
      "15\n",
      "20\n",
      "25\n"
     ]
    }
   ],
   "source": [
    "# continue\n",
    "\n",
    "numbers = [5, 15, 6, 20, 7, 25]\n",
    "\n",
    "\n",
    "for number in numbers:\n",
    "    \n",
    "    if number <10:\n",
    "        continue\n",
    "    print(number)\n",
    "# 리스트에서 반복하는 범위에서 제외를 시킨다. "
   ]
  },
  {
   "cell_type": "code",
   "execution_count": 39,
   "id": "35243d99",
   "metadata": {},
   "outputs": [
    {
     "name": "stdout",
     "output_type": "stream",
     "text": [
      "15\n",
      "20\n",
      "25\n"
     ]
    }
   ],
   "source": [
    "# 일반적으로는 이렇게 하겠지\n",
    "\n",
    "for number in numbers:\n",
    "    if number >=10: print(number)"
   ]
  },
  {
   "cell_type": "markdown",
   "id": "d01a54ef",
   "metadata": {},
   "source": [
    "## 확인문제"
   ]
  },
  {
   "cell_type": "code",
   "execution_count": 47,
   "id": "7f301715",
   "metadata": {},
   "outputs": [
    {
     "data": {
      "text/plain": [
       "[4, 5]"
      ]
     },
     "execution_count": 47,
     "metadata": {},
     "output_type": "execute_result"
    }
   ],
   "source": [
    "# range(4,6):\n",
    "#[5]\n",
    "list(range(4, 6))"
   ]
  },
  {
   "cell_type": "code",
   "execution_count": 46,
   "id": "1c7b9b57",
   "metadata": {},
   "outputs": [
    {
     "data": {
      "text/plain": [
       "[7, 6, 5, 4, 3, 2, 1]"
      ]
     },
     "execution_count": 46,
     "metadata": {},
     "output_type": "execute_result"
    }
   ],
   "source": [
    "# 7 6 5 4 3 2 1 \n",
    "\n",
    "list(range(7, 0, -1))"
   ]
  },
  {
   "cell_type": "code",
   "execution_count": 48,
   "id": "bd34cb5d",
   "metadata": {},
   "outputs": [
    {
     "data": {
      "text/plain": [
       "[3, 6, 9]"
      ]
     },
     "execution_count": 48,
     "metadata": {},
     "output_type": "execute_result"
    }
   ],
   "source": [
    "\n",
    "list(range(3,10,3))"
   ]
  },
  {
   "cell_type": "code",
   "execution_count": 50,
   "id": "866cd353",
   "metadata": {},
   "outputs": [
    {
     "name": "stdout",
     "output_type": "stream",
     "text": [
      "{'name': 'knight', 'hp': 200, 'mp': 30, 'level': 5}\n"
     ]
    }
   ],
   "source": [
    "key_list = ['name','hp','mp','level']\n",
    "value_list= ['knight',200,30,5]\n",
    "character = {}\n",
    "\n",
    "    \n",
    "\n",
    "# 딕셔너리에 새로운 자료 추가하기 \n",
    "for i in range(0, len(key_list)):\n",
    "    character[key_list[i]]=value_list[i]\n",
    "print(character)"
   ]
  },
  {
   "cell_type": "code",
   "execution_count": 55,
   "id": "736e6d7e",
   "metadata": {},
   "outputs": [
    {
     "name": "stdout",
     "output_type": "stream",
     "text": [
      "46를 더할 때 1000를 넘으며 그때의 값은 1035입니다.\n"
     ]
    }
   ],
   "source": [
    "limit = 1000\n",
    "i = 1\n",
    "\n",
    "sum_value = 0\n",
    "while sum_value < limit:\n",
    "    sum_value +=i\n",
    "    i += 1\n",
    "print(\"{}를 더할 때 {}를 넘으며 그때의 값은 {}입니다.\".format(i,limit, sum_value))"
   ]
  },
  {
   "cell_type": "code",
   "execution_count": 56,
   "id": "03d88f0a",
   "metadata": {},
   "outputs": [],
   "source": [
    "# 1부터 100까지의 숫자가ㅗ 있다고 합시다. 다음과 같이 계산하려고할때 ㅗ최대가 되는 경우는 어떤 숫자를 곱했을때인가요?4\n",
    "# 1*99 , 2* 98, 3*97"
   ]
  },
  {
   "cell_type": "code",
   "execution_count": 58,
   "id": "b433dad8",
   "metadata": {},
   "outputs": [
    {
     "name": "stdout",
     "output_type": "stream",
     "text": [
      "max:50*50=2500\n"
     ]
    }
   ],
   "source": [
    "max_value= 0\n",
    "a = 0\n",
    "b = 0\n",
    "\n",
    "for i in range(1,100//2+1):\n",
    "    j = 100-i\n",
    "    \n",
    "    #최대값구하기\n",
    "\n",
    "    current = i *j \n",
    "    if max_value < current:\n",
    "        a = i\n",
    "        b = j\n",
    "        max_value = current\n",
    "print(\"max:{}*{}={}\".format(a,b,max_value))\n",
    "    "
   ]
  },
  {
   "cell_type": "code",
   "execution_count": null,
   "id": "050fba7d",
   "metadata": {},
   "outputs": [],
   "source": []
  }
 ],
 "metadata": {
  "kernelspec": {
   "display_name": "Python 3",
   "language": "python",
   "name": "python3"
  },
  "language_info": {
   "codemirror_mode": {
    "name": "ipython",
    "version": 3
   },
   "file_extension": ".py",
   "mimetype": "text/x-python",
   "name": "python",
   "nbconvert_exporter": "python",
   "pygments_lexer": "ipython3",
   "version": "3.8.8"
  }
 },
 "nbformat": 4,
 "nbformat_minor": 5
}
