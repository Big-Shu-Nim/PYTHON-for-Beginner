{
  "nbformat": 4,
  "nbformat_minor": 0,
  "metadata": {
    "colab": {
      "name": "220302_PYTHON Basic Syntax(print,list, for statement).ipynb",
      "provenance": [],
      "authorship_tag": "ABX9TyNOFGioVJFeAcdD2BG+RHLT",
      "include_colab_link": true
    },
    "kernelspec": {
      "name": "python3",
      "display_name": "Python 3"
    },
    "language_info": {
      "name": "python"
    }
  },
  "cells": [
    {
      "cell_type": "markdown",
      "metadata": {
        "id": "view-in-github",
        "colab_type": "text"
      },
      "source": [
        "<a href=\"https://colab.research.google.com/github/Big-Shu-Nim/PYTHON-for-Beginner/blob/main/220302_PYTHON_Basic_Syntax(print%2Clist%2C_for_statement).ipynb\" target=\"_parent\"><img src=\"https://colab.research.google.com/assets/colab-badge.svg\" alt=\"Open In Colab\"/></a>"
      ]
    },
    {
      "cell_type": "code",
      "execution_count": 8,
      "metadata": {
        "id": "atZ5W4JvoD4i"
      },
      "outputs": [],
      "source": [
        "#변수의 선언\n",
        "boolvar=True\n",
        "int=0\n",
        "float=0.0\n",
        "str=\"\""
      ]
    },
    {
      "cell_type": "code",
      "source": [
        "Type=[boolvar,int,float,str]"
      ],
      "metadata": {
        "id": "_miJSCGareWR"
      },
      "execution_count": 28,
      "outputs": []
    },
    {
      "cell_type": "code",
      "source": [
        "for i in Type:\n",
        " print(type(i))"
      ],
      "metadata": {
        "colab": {
          "base_uri": "https://localhost:8080/"
        },
        "id": "LLJ6WCHDpkHL",
        "outputId": "4b35a872-c442-4a35-810e-4b7f4c2d29ea"
      },
      "execution_count": 22,
      "outputs": [
        {
          "output_type": "stream",
          "name": "stdout",
          "text": [
            "<class 'bool'>\n",
            "<class 'int'>\n",
            "<class 'float'>\n",
            "<class 'str'>\n"
          ]
        }
      ]
    },
    {
      "cell_type": "code",
      "source": [
        "#변수가 선언 되는 순간 효과를 가진다. "
      ],
      "metadata": {
        "id": "RQGJus2crHxP"
      },
      "execution_count": null,
      "outputs": []
    },
    {
      "cell_type": "code",
      "source": [
        "print('100')\n",
        "print('%d' % 100)"
      ],
      "metadata": {
        "colab": {
          "base_uri": "https://localhost:8080/"
        },
        "id": "trUsh-cgrMMN",
        "outputId": "d17aef28-7a1d-486e-f31e-df8f446b1db2"
      },
      "execution_count": 25,
      "outputs": [
        {
          "output_type": "stream",
          "name": "stdout",
          "text": [
            "100\n",
            "100\n"
          ]
        }
      ]
    },
    {
      "cell_type": "markdown",
      "source": [
        "프린트함수는 서식을 가진다. \n",
        "위의 예제에서 %D 가 서식이다.\n",
        "이는  'Decimal' 십진법을 의미한다. 주의하자 나는 일반적으로 소수점으로 훨씬 많이 사용하는것을 많이 봤다."
      ],
      "metadata": {
        "id": "XNOQynZbr8Ah"
      }
    },
    {
      "cell_type": "code",
      "source": [
        "# 왜 오류가 발생하였는가?\n",
        "print(\"%d\" % (100,200))\n",
        "#서식의 개수(\"%d\"와 뒤에 나오는 숫자의 갯수는 같아야 하는데 이 튜플에서는 두개나 있다.  "
      ],
      "metadata": {
        "colab": {
          "base_uri": "https://localhost:8080/",
          "height": 201
        },
        "id": "edqrN_MMsUed",
        "outputId": "600d7ef8-17a1-4584-9fa4-6f96ad51f530"
      },
      "execution_count": 33,
      "outputs": [
        {
          "output_type": "error",
          "ename": "TypeError",
          "evalue": "ignored",
          "traceback": [
            "\u001b[0;31m---------------------------------------------------------------------------\u001b[0m",
            "\u001b[0;31mTypeError\u001b[0m                                 Traceback (most recent call last)",
            "\u001b[0;32m<ipython-input-33-e7de9c871fa9>\u001b[0m in \u001b[0;36m<module>\u001b[0;34m()\u001b[0m\n\u001b[1;32m      1\u001b[0m \u001b[0;31m# 왜 오류가 발생하였는가?\u001b[0m\u001b[0;34m\u001b[0m\u001b[0;34m\u001b[0m\u001b[0;34m\u001b[0m\u001b[0m\n\u001b[0;32m----> 2\u001b[0;31m \u001b[0mprint\u001b[0m\u001b[0;34m(\u001b[0m\u001b[0;34m\"%d\"\u001b[0m \u001b[0;34m%\u001b[0m \u001b[0;34m(\u001b[0m\u001b[0;36m100\u001b[0m\u001b[0;34m,\u001b[0m\u001b[0;36m200\u001b[0m\u001b[0;34m)\u001b[0m\u001b[0;34m)\u001b[0m\u001b[0;34m\u001b[0m\u001b[0;34m\u001b[0m\u001b[0m\n\u001b[0m\u001b[1;32m      3\u001b[0m \u001b[0;31m#서식의 개수(\"%d\"와 뒤에 나오는 숫자의 갯수는 같아야 하는데 이 튜플에서는 두개나 있다.\u001b[0m\u001b[0;34m\u001b[0m\u001b[0;34m\u001b[0m\u001b[0;34m\u001b[0m\u001b[0m\n",
            "\u001b[0;31mTypeError\u001b[0m: not all arguments converted during string formatting"
          ]
        }
      ]
    },
    {
      "cell_type": "code",
      "source": [
        "# 왜 오류가 발생하였는가?\n",
        "print(\"%d %d\" % (100))\n",
        "#%d %d가 두개 인데 숫자가 하나밖에 없다."
      ],
      "metadata": {
        "colab": {
          "base_uri": "https://localhost:8080/",
          "height": 201
        },
        "id": "qWr7o2Wyssce",
        "outputId": "fe06d5eb-1584-430d-90c9-8ae02e1e0a5c"
      },
      "execution_count": 35,
      "outputs": [
        {
          "output_type": "error",
          "ename": "TypeError",
          "evalue": "ignored",
          "traceback": [
            "\u001b[0;31m---------------------------------------------------------------------------\u001b[0m",
            "\u001b[0;31mTypeError\u001b[0m                                 Traceback (most recent call last)",
            "\u001b[0;32m<ipython-input-35-480de35e845f>\u001b[0m in \u001b[0;36m<module>\u001b[0;34m()\u001b[0m\n\u001b[1;32m      1\u001b[0m \u001b[0;31m# 왜 오류가 발생하였는가?\u001b[0m\u001b[0;34m\u001b[0m\u001b[0;34m\u001b[0m\u001b[0;34m\u001b[0m\u001b[0m\n\u001b[0;32m----> 2\u001b[0;31m \u001b[0mprint\u001b[0m\u001b[0;34m(\u001b[0m\u001b[0;34m\"%d %d\"\u001b[0m \u001b[0;34m%\u001b[0m \u001b[0;34m(\u001b[0m\u001b[0;36m100\u001b[0m\u001b[0;34m)\u001b[0m\u001b[0;34m)\u001b[0m\u001b[0;34m\u001b[0m\u001b[0;34m\u001b[0m\u001b[0m\n\u001b[0m\u001b[1;32m      3\u001b[0m \u001b[0;31m#%d %d가 두개 인데 숫자가 하나밖에 없다.\u001b[0m\u001b[0;34m\u001b[0m\u001b[0;34m\u001b[0m\u001b[0;34m\u001b[0m\u001b[0m\n",
            "\u001b[0;31mTypeError\u001b[0m: not enough arguments for format string"
          ]
        }
      ]
    },
    {
      "cell_type": "code",
      "source": [
        "print(\"%d\" % (100))"
      ],
      "metadata": {
        "colab": {
          "base_uri": "https://localhost:8080/"
        },
        "id": "GszvO_wUtq5c",
        "outputId": "a784d2ef-f275-4506-f1da-97e6cecea92b"
      },
      "execution_count": 36,
      "outputs": [
        {
          "output_type": "stream",
          "name": "stdout",
          "text": [
            "100\n"
          ]
        }
      ]
    },
    {
      "cell_type": "code",
      "source": [
        "print(\"%d %d\" % (100,200))"
      ],
      "metadata": {
        "colab": {
          "base_uri": "https://localhost:8080/"
        },
        "id": "OxsjrFWrtu89",
        "outputId": "dc75a826-87cf-4171-dbfb-796dc890da5a"
      },
      "execution_count": 37,
      "outputs": [
        {
          "output_type": "stream",
          "name": "stdout",
          "text": [
            "100 200\n"
          ]
        }
      ]
    },
    {
      "cell_type": "code",
      "source": [
        "print(\"%f\" % (0.2555))"
      ],
      "metadata": {
        "colab": {
          "base_uri": "https://localhost:8080/"
        },
        "id": "1kXdSTdrt6qg",
        "outputId": "5f3330bc-4d48-44c6-e460-0d110ea1a353"
      },
      "execution_count": 42,
      "outputs": [
        {
          "output_type": "stream",
          "name": "stdout",
          "text": [
            "0.255500\n"
          ]
        }
      ]
    },
    {
      "cell_type": "code",
      "source": [
        "print(0.2555)"
      ],
      "metadata": {
        "colab": {
          "base_uri": "https://localhost:8080/"
        },
        "id": "9_E1EyTruLXE",
        "outputId": "037b8676-7910-4ca1-8c10-adc015c27e98"
      },
      "execution_count": 43,
      "outputs": [
        {
          "output_type": "stream",
          "name": "stdout",
          "text": [
            "0.2555\n"
          ]
        }
      ]
    },
    {
      "cell_type": "code",
      "source": [
        "f1=\"%f\" % (0.2555)\n",
        "f2=0.2555\n",
        "fs=[f1, f2]"
      ],
      "metadata": {
        "id": "FyPRz8zXuQSF"
      },
      "execution_count": 47,
      "outputs": []
    },
    {
      "cell_type": "code",
      "source": [
        ""
      ],
      "metadata": {
        "id": "_RHJN1_bv3XA"
      },
      "execution_count": null,
      "outputs": []
    },
    {
      "cell_type": "code",
      "source": [
        "for i in fs:\n",
        "  print(type(i))"
      ],
      "metadata": {
        "colab": {
          "base_uri": "https://localhost:8080/"
        },
        "id": "_sbbFUxguV2c",
        "outputId": "61fa5f88-0027-456d-9865-230e83996244"
      },
      "execution_count": 49,
      "outputs": [
        {
          "output_type": "stream",
          "name": "stdout",
          "text": [
            "<class 'str'>\n",
            "<class 'float'>\n"
          ]
        }
      ]
    },
    {
      "cell_type": "code",
      "source": [
        "# f-string과 리스트\n",
        "n = [100, 200, 300]\n",
        " \n",
        "print(f'list : {n[0]}, {n[1]}, {n[2]}')\n",
        " \n",
        " \n",
        "for v in n:\n",
        "    print(f'list with for : {v}')\n",
        "\n"
      ],
      "metadata": {
        "colab": {
          "base_uri": "https://localhost:8080/"
        },
        "id": "kMpdk3tUv4Le",
        "outputId": "9dbce948-aff8-4dfc-d0d8-196ec2ea3dc2"
      },
      "execution_count": 50,
      "outputs": [
        {
          "output_type": "stream",
          "name": "stdout",
          "text": [
            "list : 100, 200, 300\n",
            "list with for : 100\n",
            "list with for : 200\n",
            "list with for : 300\n"
          ]
        }
      ]
    },
    {
      "cell_type": "code",
      "source": [
        "#f-string연습\n",
        "list1 = ['banana', 'apple', 'grape']\n",
        "print(f'list :{n[0]}, {n[1]}, {n[2]},가  들어있습니다')"
      ],
      "metadata": {
        "colab": {
          "base_uri": "https://localhost:8080/"
        },
        "id": "xEL4fY2-wH9M",
        "outputId": "414ea710-d9ec-48ff-8417-ee37b96ae281"
      },
      "execution_count": 54,
      "outputs": [
        {
          "output_type": "stream",
          "name": "stdout",
          "text": [
            "list :100, 200, 300,가  들어있습니다\n"
          ]
        }
      ]
    },
    {
      "cell_type": "code",
      "source": [
        "#f-string 연습\n",
        "for i in list1:\n",
        "  print(f'나는 {list1}가 먹고싶어요')"
      ],
      "metadata": {
        "colab": {
          "base_uri": "https://localhost:8080/"
        },
        "id": "epMEsy0jw3lh",
        "outputId": "69aee8a1-101d-4b9b-c83f-01f9a1c3b5a1"
      },
      "execution_count": 55,
      "outputs": [
        {
          "output_type": "stream",
          "name": "stdout",
          "text": [
            "나는 ['banana', 'apple', 'grape']가 먹고싶어요\n",
            "나는 ['banana', 'apple', 'grape']가 먹고싶어요\n",
            "나는 ['banana', 'apple', 'grape']가 먹고싶어요\n"
          ]
        }
      ]
    },
    {
      "cell_type": "code",
      "source": [
        "#리스트 활용\n",
        "aa =[] #아무것도 없는 빈 리스트 만들기\n",
        "for i in range(0,4): # 파이선 range는 시작번호부터 마지막번호 앞까지를 말한다. 여기서는 0,1,2,3\n",
        "  aa.append(0) # append 리스트 제일 뒤에 항목을 추가하는 매쏘드\n",
        "print(aa) "
      ],
      "metadata": {
        "colab": {
          "base_uri": "https://localhost:8080/"
        },
        "id": "8Ia0xgKNxh8-",
        "outputId": "8e71c715-fac3-4e49-d0ec-184b8b8e2c10"
      },
      "execution_count": 59,
      "outputs": [
        {
          "output_type": "stream",
          "name": "stdout",
          "text": [
            "[0, 0, 0, 0]\n"
          ]
        }
      ]
    },
    {
      "cell_type": "code",
      "source": [
        "for i in range(0,4):\n",
        "  aa[i] = ((i+1)+'번째 숫자:'))\n",
        "  # 왜 안되는지 모르겠다. 환경은 코랩"
      ],
      "metadata": {
        "colab": {
          "base_uri": "https://localhost:8080/",
          "height": 131
        },
        "id": "5b75k4RRzJmz",
        "outputId": "974a861e-9346-438c-cedc-fe6925b48b70"
      },
      "execution_count": 70,
      "outputs": [
        {
          "output_type": "error",
          "ename": "SyntaxError",
          "evalue": "ignored",
          "traceback": [
            "\u001b[0;36m  File \u001b[0;32m\"<ipython-input-70-d7fcb4a64a59>\"\u001b[0;36m, line \u001b[0;32m2\u001b[0m\n\u001b[0;31m    aa[i] = ((i+1)+'번째 숫자:'))\u001b[0m\n\u001b[0m                            ^\u001b[0m\n\u001b[0;31mSyntaxError\u001b[0m\u001b[0;31m:\u001b[0m invalid syntax\n"
          ]
        }
      ]
    },
    {
      "cell_type": "code",
      "source": [
        "aa=[]\n",
        "hap = 0\n",
        "for i in range(0,4):\n",
        "  hap = hap+aa[i]\n",
        "print('합계 ==> %d \" % hap)\n",
        "# 왜안되는지 모르겠다. 환경은 코랩"
      ],
      "metadata": {
        "colab": {
          "base_uri": "https://localhost:8080/",
          "height": 131
        },
        "id": "u67Q8wid0gyL",
        "outputId": "99de8286-a6c7-4de5-aefd-e3ae2cf068b2"
      },
      "execution_count": 75,
      "outputs": [
        {
          "output_type": "error",
          "ename": "SyntaxError",
          "evalue": "ignored",
          "traceback": [
            "\u001b[0;36m  File \u001b[0;32m\"<ipython-input-75-c2d7d3458635>\"\u001b[0;36m, line \u001b[0;32m5\u001b[0m\n\u001b[0;31m    print('합계 ==> %d \" % hap)\u001b[0m\n\u001b[0m                             ^\u001b[0m\n\u001b[0;31mSyntaxError\u001b[0m\u001b[0;31m:\u001b[0m EOL while scanning string literal\n"
          ]
        }
      ]
    }
  ]
}