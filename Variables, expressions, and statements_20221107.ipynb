{
 "cells": [
  {
   "cell_type": "markdown",
   "id": "637d9a0e",
   "metadata": {},
   "source": [
    "## Exercise 1: Type the following statements in the Python interpreter to see what they do:"
   ]
  },
  {
   "cell_type": "code",
   "execution_count": 1,
   "id": "d8219df8",
   "metadata": {},
   "outputs": [
    {
     "data": {
      "text/plain": [
       "6"
      ]
     },
     "execution_count": 1,
     "metadata": {},
     "output_type": "execute_result"
    }
   ],
   "source": [
    "5\n",
    "x= 5\n",
    "x+1"
   ]
  },
  {
   "cell_type": "markdown",
   "id": "510064da",
   "metadata": {},
   "source": [
    "## Order of operations\n",
    "* PEMDAS\n",
    "Parentheses > Exponentiation > Multiplication = Division > Addition = Subtraction\n",
    "* Operators with the same precedence are evaluated from left to right"
   ]
  },
  {
   "cell_type": "markdown",
   "id": "63490e4c",
   "metadata": {},
   "source": [
    "## Modulus operator\n",
    "\n"
   ]
  },
  {
   "cell_type": "code",
   "execution_count": 3,
   "id": "3e8e31fb",
   "metadata": {},
   "outputs": [
    {
     "name": "stdout",
     "output_type": "stream",
     "text": [
      "2\n",
      "1\n"
     ]
    }
   ],
   "source": [
    "quotient = 7 // 3 \n",
    "print(quotient)\n",
    "\n",
    "remainder = 7 % 3 \n",
    "print(remainder)"
   ]
  },
  {
   "cell_type": "markdown",
   "id": "5c99ca20",
   "metadata": {},
   "source": [
    "## String Operator"
   ]
  },
  {
   "cell_type": "code",
   "execution_count": 5,
   "id": "bc5cc551",
   "metadata": {},
   "outputs": [
    {
     "name": "stdout",
     "output_type": "stream",
     "text": [
      "25\n",
      "10015\n"
     ]
    }
   ],
   "source": [
    "# The + operator works with strings, but it is not addition in the mathematical sense.\n",
    "# instead it performs concatenation, which means joining the strings by linking them end to end.\n",
    "# For example.\n",
    "first = 10\n",
    "second = 15\n",
    "print(first+second)\n",
    "\n",
    "first = '100'\n",
    "second = '15'\n",
    "print(first+second)"
   ]
  },
  {
   "cell_type": "code",
   "execution_count": 7,
   "id": "9f689a65",
   "metadata": {},
   "outputs": [
    {
     "name": "stdout",
     "output_type": "stream",
     "text": [
      "Test Test Test \n"
     ]
    }
   ],
   "source": [
    "# The * operator alos works with strings by multiplying the content tof a string by an interger.\n",
    "First = 'Test '\n",
    "second = 3\n",
    "print(First * second)\n"
   ]
  },
  {
   "cell_type": "code",
   "execution_count": null,
   "id": "5b46ade2",
   "metadata": {},
   "outputs": [],
   "source": []
  },
  {
   "cell_type": "code",
   "execution_count": null,
   "id": "6aaa6bc8",
   "metadata": {},
   "outputs": [],
   "source": []
  }
 ],
 "metadata": {
  "kernelspec": {
   "display_name": "Python 3",
   "language": "python",
   "name": "python3"
  },
  "language_info": {
   "codemirror_mode": {
    "name": "ipython",
    "version": 3
   },
   "file_extension": ".py",
   "mimetype": "text/x-python",
   "name": "python",
   "nbconvert_exporter": "python",
   "pygments_lexer": "ipython3",
   "version": "3.8.8"
  }
 },
 "nbformat": 4,
 "nbformat_minor": 5
}
