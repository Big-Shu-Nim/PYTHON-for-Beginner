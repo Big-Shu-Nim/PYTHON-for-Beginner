{
 "cells": [
  {
   "cell_type": "markdown",
   "id": "c4c4ff86",
   "metadata": {},
   "source": [
    "# 재귀함수\n",
    "\n",
    "* Factorial?\n",
    "\n",
    "    1.the product of an integer and all the integers below it; e.g. factorial four ( 4! ) is equal to 24.\n",
    "    한 정수의 곱과 그아래 모든 정수들을 말한다.\n",
    "    \n",
    "    2.the product of a given positive integer multiplied by all lesser positive integers\n",
    "    주어진 양의 정수의 곱에 다른 작은정수들을 모두 곱한것을 말한다. \n",
    "    \n",
    " "
   ]
  },
  {
   "cell_type": "code",
   "execution_count": 4,
   "id": "28f95e33",
   "metadata": {},
   "outputs": [],
   "source": [
    "# 1. 반복문으로 팩토리얼 구하기\n",
    "\n",
    "\n",
    "def factorial(n):\n",
    "    \n",
    "    outcome=1\n",
    "    \n",
    "    for i in range(1, n+1): # 1에서부터 시작 입력값만큼 1씩 늘어나는 범위\n",
    "        outcome *=i #  좌항에 우항을 곱한것 \n",
    "        \n",
    "    return outcome\n",
    "\n"
   ]
  },
  {
   "cell_type": "code",
   "execution_count": 6,
   "id": "46cad35d",
   "metadata": {},
   "outputs": [
    {
     "data": {
      "text/plain": [
       "24"
      ]
     },
     "execution_count": 6,
     "metadata": {},
     "output_type": "execute_result"
    }
   ],
   "source": [
    "# 예시 \n",
    "factorial(4)"
   ]
  },
  {
   "cell_type": "code",
   "execution_count": 9,
   "id": "3da8148b",
   "metadata": {},
   "outputs": [
    {
     "data": {
      "text/plain": [
       "24"
      ]
     },
     "execution_count": 9,
     "metadata": {},
     "output_type": "execute_result"
    }
   ],
   "source": [
    "# 재귀 함수로 팩토리얼 구하기\n",
    "    #recursion? 자기 자신을 호출하는것\n",
    "    # n! = n * (n - 1) * (n - 2) *..*1\n",
    "    \n",
    "    #factorial(n)= n* factorial(n-1)\n",
    "    # 표현가능\n",
    "\n",
    "def factorial(n):\n",
    "    \n",
    "    if n == 0:\n",
    "        return 1\n",
    "    \n",
    "    else:\n",
    "            return n * factorial(n-1)\n",
    "\n",
    "factorial(4)"
   ]
  },
  {
   "cell_type": "markdown",
   "id": "50727ce1",
   "metadata": {},
   "source": [
    "#  재귀 함수의 문제\n",
    "\n",
    "재귀함수는 상황에 따라서 기하급수적으로 반복을 많이 할수 있음\n",
    "\n",
    "\n",
    "수학에서 피보나치 수(영어: Fibonacci numbers)는 첫째 및 둘째 항이 1이며 그 뒤의 모든 항은 바로 앞 두 항의 합인 수열이다.\n",
    "\n",
    "처음 여섯 항은 각각 1, 1, 2, 3, 5, 8이다. 편의상 0번째 항을 0으로 두기도 한다.\n",
    "\n",
    "\n",
    "토끼는 어떠한 속도로 번식하는가?\n",
    "   -처음에는 토끼가 한 쌍만 존재합니다\n",
    "   \n",
    "   -두 달 이상 된 토끼는 번식할 수 있습니다\n",
    "   \n",
    "   - 번식한 토끼는 매달 새끼를 한 쌍씩 낳습니다\n",
    "   \n",
    "   -토끼는 죽지 않습니다.\n",
    " -> n번째 수열 = (n-1)번째 수열 + (n-2)번째\n",
    " \n",
    "    "
   ]
  },
  {
   "cell_type": "code",
   "execution_count": 13,
   "id": "a44aa986",
   "metadata": {},
   "outputs": [
    {
     "name": "stdout",
     "output_type": "stream",
     "text": [
      "1\n",
      "1\n",
      "2\n",
      "144\n"
     ]
    }
   ],
   "source": [
    "# 재귀 함수로 구현한 피보나치 수열\n",
    "\n",
    "def fibonacci(n):\n",
    "    \n",
    "    if n == 1 :\n",
    "        return 1\n",
    "    \n",
    "    if n == 2:\n",
    "        return 1\n",
    "    \n",
    "    else:\n",
    "        return fibonacci(n-1) + fibonacci(n - 2)\n",
    "\n",
    "\n",
    "# 한달 지났을때\n",
    "print(fibonacci(1))\n",
    "# 두달이 지났을때\n",
    "print(fibonacci(2))\n",
    "# 세달\n",
    "print(fibonacci(3))\n",
    "\n",
    "# 1년\n",
    "print(fibonacci(12))"
   ]
  },
  {
   "cell_type": "code",
   "execution_count": 14,
   "id": "b8d106d0",
   "metadata": {},
   "outputs": [
    {
     "name": "stdout",
     "output_type": "stream",
     "text": [
      "9227465\n"
     ]
    }
   ],
   "source": [
    "print(fibonacci(35))  # 제법 시간이 걸린다"
   ]
  },
  {
   "cell_type": "code",
   "execution_count": 16,
   "id": "4de27f8c",
   "metadata": {},
   "outputs": [
    {
     "name": "stdout",
     "output_type": "stream",
     "text": [
      "fibonacci(10)를 구합니다.\n",
      "fibonacci(9)를 구합니다.\n",
      "fibonacci(8)를 구합니다.\n",
      "fibonacci(7)를 구합니다.\n",
      "fibonacci(6)를 구합니다.\n",
      "fibonacci(5)를 구합니다.\n",
      "fibonacci(4)를 구합니다.\n",
      "fibonacci(3)를 구합니다.\n",
      "fibonacci(2)를 구합니다.\n",
      "fibonacci(1)를 구합니다.\n",
      "fibonacci(2)를 구합니다.\n",
      "fibonacci(3)를 구합니다.\n",
      "fibonacci(2)를 구합니다.\n",
      "fibonacci(1)를 구합니다.\n",
      "fibonacci(4)를 구합니다.\n",
      "fibonacci(3)를 구합니다.\n",
      "fibonacci(2)를 구합니다.\n",
      "fibonacci(1)를 구합니다.\n",
      "fibonacci(2)를 구합니다.\n",
      "fibonacci(5)를 구합니다.\n",
      "fibonacci(4)를 구합니다.\n",
      "fibonacci(3)를 구합니다.\n",
      "fibonacci(2)를 구합니다.\n",
      "fibonacci(1)를 구합니다.\n",
      "fibonacci(2)를 구합니다.\n",
      "fibonacci(3)를 구합니다.\n",
      "fibonacci(2)를 구합니다.\n",
      "fibonacci(1)를 구합니다.\n",
      "fibonacci(6)를 구합니다.\n",
      "fibonacci(5)를 구합니다.\n",
      "fibonacci(4)를 구합니다.\n",
      "fibonacci(3)를 구합니다.\n",
      "fibonacci(2)를 구합니다.\n",
      "fibonacci(1)를 구합니다.\n",
      "fibonacci(2)를 구합니다.\n",
      "fibonacci(3)를 구합니다.\n",
      "fibonacci(2)를 구합니다.\n",
      "fibonacci(1)를 구합니다.\n",
      "fibonacci(4)를 구합니다.\n",
      "fibonacci(3)를 구합니다.\n",
      "fibonacci(2)를 구합니다.\n",
      "fibonacci(1)를 구합니다.\n",
      "fibonacci(2)를 구합니다.\n",
      "fibonacci(7)를 구합니다.\n",
      "fibonacci(6)를 구합니다.\n",
      "fibonacci(5)를 구합니다.\n",
      "fibonacci(4)를 구합니다.\n",
      "fibonacci(3)를 구합니다.\n",
      "fibonacci(2)를 구합니다.\n",
      "fibonacci(1)를 구합니다.\n",
      "fibonacci(2)를 구합니다.\n",
      "fibonacci(3)를 구합니다.\n",
      "fibonacci(2)를 구합니다.\n",
      "fibonacci(1)를 구합니다.\n",
      "fibonacci(4)를 구합니다.\n",
      "fibonacci(3)를 구합니다.\n",
      "fibonacci(2)를 구합니다.\n",
      "fibonacci(1)를 구합니다.\n",
      "fibonacci(2)를 구합니다.\n",
      "fibonacci(5)를 구합니다.\n",
      "fibonacci(4)를 구합니다.\n",
      "fibonacci(3)를 구합니다.\n",
      "fibonacci(2)를 구합니다.\n",
      "fibonacci(1)를 구합니다.\n",
      "fibonacci(2)를 구합니다.\n",
      "fibonacci(3)를 구합니다.\n",
      "fibonacci(2)를 구합니다.\n",
      "fibonacci(1)를 구합니다.\n",
      "fibonacci(8)를 구합니다.\n",
      "fibonacci(7)를 구합니다.\n",
      "fibonacci(6)를 구합니다.\n",
      "fibonacci(5)를 구합니다.\n",
      "fibonacci(4)를 구합니다.\n",
      "fibonacci(3)를 구합니다.\n",
      "fibonacci(2)를 구합니다.\n",
      "fibonacci(1)를 구합니다.\n",
      "fibonacci(2)를 구합니다.\n",
      "fibonacci(3)를 구합니다.\n",
      "fibonacci(2)를 구합니다.\n",
      "fibonacci(1)를 구합니다.\n",
      "fibonacci(4)를 구합니다.\n",
      "fibonacci(3)를 구합니다.\n",
      "fibonacci(2)를 구합니다.\n",
      "fibonacci(1)를 구합니다.\n",
      "fibonacci(2)를 구합니다.\n",
      "fibonacci(5)를 구합니다.\n",
      "fibonacci(4)를 구합니다.\n",
      "fibonacci(3)를 구합니다.\n",
      "fibonacci(2)를 구합니다.\n",
      "fibonacci(1)를 구합니다.\n",
      "fibonacci(2)를 구합니다.\n",
      "fibonacci(3)를 구합니다.\n",
      "fibonacci(2)를 구합니다.\n",
      "fibonacci(1)를 구합니다.\n",
      "fibonacci(6)를 구합니다.\n",
      "fibonacci(5)를 구합니다.\n",
      "fibonacci(4)를 구합니다.\n",
      "fibonacci(3)를 구합니다.\n",
      "fibonacci(2)를 구합니다.\n",
      "fibonacci(1)를 구합니다.\n",
      "fibonacci(2)를 구합니다.\n",
      "fibonacci(3)를 구합니다.\n",
      "fibonacci(2)를 구합니다.\n",
      "fibonacci(1)를 구합니다.\n",
      "fibonacci(4)를 구합니다.\n",
      "fibonacci(3)를 구합니다.\n",
      "fibonacci(2)를 구합니다.\n",
      "fibonacci(1)를 구합니다.\n",
      "fibonacci(2)를 구합니다.\n",
      "---\n",
      "fibonacci(10) 계산에 활용된 덧셈 회수는 109번입니다.\n"
     ]
    }
   ],
   "source": [
    "# 재귀함수로 구현하는 피보나치 수열\n",
    "\n",
    "counter = 0\n",
    "\n",
    "def fibonacci(n):\n",
    "    \n",
    "    print(\"fibonacci({})를 구합니다.\".format(n))\n",
    "    global counter\n",
    "    counter += 1\n",
    "    \n",
    "    if n == 1:\n",
    "        return 1\n",
    "    if n == 2:\n",
    "        return 1\n",
    "    else:\n",
    "        return fibonacci(n-1) + fibonacci(n-2)\n",
    "\n",
    "# 함수 호출\n",
    "\n",
    "fibonacci(10)\n",
    "print(\"---\")\n",
    "print(\"fibonacci(10) 계산에 활용된 덧셈 회수는 {}번입니다.\".format((counter)))\n",
    "\n",
    "    "
   ]
  },
  {
   "cell_type": "code",
   "execution_count": 17,
   "id": "6fdb9a7d",
   "metadata": {},
   "outputs": [
    {
     "ename": "UnboundLocalError",
     "evalue": "local variable 'counter' referenced before assignment",
     "output_type": "error",
     "traceback": [
      "\u001b[0;31m---------------------------------------------------------------------------\u001b[0m",
      "\u001b[0;31mUnboundLocalError\u001b[0m                         Traceback (most recent call last)",
      "\u001b[0;32m<ipython-input-17-9221973fada7>\u001b[0m in \u001b[0;36m<module>\u001b[0;34m\u001b[0m\n\u001b[1;32m     17\u001b[0m \u001b[0;34m\u001b[0m\u001b[0m\n\u001b[1;32m     18\u001b[0m \u001b[0;34m\u001b[0m\u001b[0m\n\u001b[0;32m---> 19\u001b[0;31m \u001b[0mprint\u001b[0m\u001b[0;34m(\u001b[0m\u001b[0mfibonacci\u001b[0m\u001b[0;34m(\u001b[0m\u001b[0;36m10\u001b[0m\u001b[0;34m)\u001b[0m\u001b[0;34m)\u001b[0m\u001b[0;34m\u001b[0m\u001b[0;34m\u001b[0m\u001b[0m\n\u001b[0m\u001b[1;32m     20\u001b[0m \u001b[0;34m\u001b[0m\u001b[0m\n",
      "\u001b[0;32m<ipython-input-17-9221973fada7>\u001b[0m in \u001b[0;36mfibonacci\u001b[0;34m(n)\u001b[0m\n\u001b[1;32m      5\u001b[0m \u001b[0;32mdef\u001b[0m \u001b[0mfibonacci\u001b[0m\u001b[0;34m(\u001b[0m\u001b[0mn\u001b[0m\u001b[0;34m)\u001b[0m\u001b[0;34m:\u001b[0m\u001b[0;34m\u001b[0m\u001b[0;34m\u001b[0m\u001b[0m\n\u001b[1;32m      6\u001b[0m \u001b[0;34m\u001b[0m\u001b[0m\n\u001b[0;32m----> 7\u001b[0;31m     \u001b[0mcounter\u001b[0m \u001b[0;34m+=\u001b[0m \u001b[0;36m1\u001b[0m\u001b[0;34m\u001b[0m\u001b[0;34m\u001b[0m\u001b[0m\n\u001b[0m\u001b[1;32m      8\u001b[0m \u001b[0;34m\u001b[0m\u001b[0m\n\u001b[1;32m      9\u001b[0m     \u001b[0;31m# calculate fibonacci\u001b[0m\u001b[0;34m\u001b[0m\u001b[0;34m\u001b[0m\u001b[0;34m\u001b[0m\u001b[0m\n",
      "\u001b[0;31mUnboundLocalError\u001b[0m: local variable 'counter' referenced before assignment"
     ]
    }
   ],
   "source": [
    "# 재귀 함수로 구현한 피보나치 수열(3)\n",
    "\n",
    "counter = 0\n",
    "\n",
    "def fibonacci(n):\n",
    "    \n",
    "    counter += 1\n",
    "    \n",
    "    # calculate fibonacci\n",
    "    \n",
    "    if n == 1:\n",
    "        return 1\n",
    "    if n == 2:\n",
    "        return 1\n",
    "    else :\n",
    "        return fibonacci(n-1) + fibonacci(n-2)\n",
    "    \n",
    "\n",
    "print(fibonacci(10))\n",
    "\n"
   ]
  },
  {
   "cell_type": "markdown",
   "id": "d644bfeb",
   "metadata": {},
   "source": [
    "## 로컬함수와 글로벌함수\n",
    "\n",
    "위 함수가 오류가 난것은 함수내부에서 함수 외부에 있는 변수를 참조하지 못해서 생긴것입니다.\n",
    "* 참조 라는 말은 변수에 접근하는것을 말합니다.\n",
    "\n",
    "함수내부에서 함수외부에 있는 변수라는 것을 설명하려면 다음과 같은 구문을 사용합니다.\n",
    "* global 변수이름\n",
    "\n"
   ]
  },
  {
   "cell_type": "code",
   "execution_count": 18,
   "id": "63638e70",
   "metadata": {},
   "outputs": [
    {
     "ename": "SyntaxError",
     "evalue": "invalid syntax (<ipython-input-18-96e1b7151329>, line 7)",
     "output_type": "error",
     "traceback": [
      "\u001b[0;36m  File \u001b[0;32m\"<ipython-input-18-96e1b7151329>\"\u001b[0;36m, line \u001b[0;32m7\u001b[0m\n\u001b[0;31m    global counter += 1\u001b[0m\n\u001b[0m                   ^\u001b[0m\n\u001b[0;31mSyntaxError\u001b[0m\u001b[0;31m:\u001b[0m invalid syntax\n"
     ]
    }
   ],
   "source": [
    "# 재귀 함수로 구현한 피보나치 수열(3)\n",
    "\n",
    "counter = 0\n",
    "\n",
    "def fibonacci(n):\n",
    "    \n",
    "    global counter += 1\n",
    "    \n",
    "    # calculate fibonacci\n",
    "    \n",
    "    if n == 1:\n",
    "        return 1\n",
    "    if n == 2:\n",
    "        return 1\n",
    "    else :\n",
    "        return fibonacci(n-1) + fibonacci(n-2)\n",
    "    \n",
    "\n",
    "print(fibonacci(10))\n",
    "\n"
   ]
  },
  {
   "cell_type": "markdown",
   "id": "3bec0ae0",
   "metadata": {},
   "source": [
    "## 메모화\n",
    "\n",
    "재귀함수를 빠르게 실행하도로하는 테크닉"
   ]
  },
  {
   "cell_type": "code",
   "execution_count": 19,
   "id": "32a4d213",
   "metadata": {},
   "outputs": [
    {
     "name": "stdout",
     "output_type": "stream",
     "text": [
      "12586269025\n"
     ]
    }
   ],
   "source": [
    "\n",
    "\n",
    "# create memo variable\n",
    "\n",
    "dictionary = {\n",
    "    1 : 1,\n",
    "    2:  1\n",
    "}\n",
    "\n",
    "def fibonacci(n):\n",
    "    if n in dictionary:\n",
    "        #메모가 되어 있으면 메모된 값을 리턴\n",
    "        return dictionary[n]\n",
    "    else:\n",
    "        #메모가 되어 있지 않으면 값을 구함\n",
    "        output = fibonacci(n - 1) + fibonacci(n -2)\n",
    "        dictionary[n] = output\n",
    "        return output\n",
    "\n",
    "# 함수호출\n",
    "\n",
    "print(fibonacci(50))\n"
   ]
  },
  {
   "cell_type": "markdown",
   "id": "3b7388d1",
   "metadata": {},
   "source": [
    "## 조기 리턴\n"
   ]
  },
  {
   "cell_type": "code",
   "execution_count": 20,
   "id": "5d68e1eb",
   "metadata": {},
   "outputs": [],
   "source": [
    "# 과거에는 끝에 리턴이 오는 방식을 선호\n",
    "\n",
    "def fibonacci(n):\n",
    "    if n in dictionary:\n",
    "        return dictionary[n]\n",
    "    else:\n",
    "        output = fibonacci(n-1) + fibonacci(n - 2)\n",
    "        dictionary[n]= output\n",
    "        return output\n"
   ]
  },
  {
   "cell_type": "code",
   "execution_count": 21,
   "id": "03ae6e66",
   "metadata": {},
   "outputs": [],
   "source": [
    "# 흐름 중간에 리턴 해버리는것을 조기리턴 early return 이라고 한다.\n",
    "\n",
    "def fibonacci(n):\n",
    "    if n in dictionary:\n",
    "        return dictionary[n]\n",
    "    #메모가 안되어있으면 값을 구함\n",
    "    \n",
    "    output = fibonacci(n - 1) + fibonacci(n - 2)\n",
    "    dictionary[n] = output\n",
    "    \n",
    "    return output\n"
   ]
  },
  {
   "cell_type": "markdown",
   "id": "48ac1923",
   "metadata": {},
   "source": [
    "## 코드에 이름붙이기"
   ]
  },
  {
   "cell_type": "code",
   "execution_count": null,
   "id": "6f56d6b4",
   "metadata": {},
   "outputs": [],
   "source": [
    "# 어떠한 설명도 없는 코드\n",
    "\n",
    "number_input_a = input(\"숫자입력\")\n",
    "radius = float(number_input_a)\n",
    "\n",
    "# 원둘레 print(2 * 3.14 * radius)\n",
    "#원넓이 print(3.14*radius* radius)\n",
    "\n"
   ]
  },
  {
   "cell_type": "code",
   "execution_count": 27,
   "id": "ac6c887d",
   "metadata": {},
   "outputs": [],
   "source": [
    "# 함수를 사용해서 만들기 > 코멘트 남기기\n",
    "\n",
    "\n",
    "def number_input():\n",
    "    output = input('type numbers')\n",
    "    return float(output)\n",
    "def get_cicumference(radius):\n",
    "    return 2 * 3.14 * radius\n",
    "def get_cricle_arae(radius):\n",
    "    return 3.14 * radius * radius\n",
    "\n",
    "\n",
    "#get_cicumference [명사] 원주, (구의) 둘레 (→perimeter) "
   ]
  },
  {
   "cell_type": "code",
   "execution_count": 25,
   "id": "455521fd",
   "metadata": {},
   "outputs": [
    {
     "name": "stdout",
     "output_type": "stream",
     "text": [
      "type numbers2\n"
     ]
    },
    {
     "ename": "NameError",
     "evalue": "name 'get_circumference' is not defined",
     "output_type": "error",
     "traceback": [
      "\u001b[0;31m---------------------------------------------------------------------------\u001b[0m",
      "\u001b[0;31mNameError\u001b[0m                                 Traceback (most recent call last)",
      "\u001b[0;32m<ipython-input-25-e9680ed86313>\u001b[0m in \u001b[0;36m<module>\u001b[0;34m\u001b[0m\n\u001b[1;32m      2\u001b[0m \u001b[0;34m\u001b[0m\u001b[0m\n\u001b[1;32m      3\u001b[0m \u001b[0mradius\u001b[0m \u001b[0;34m=\u001b[0m \u001b[0mnumber_input\u001b[0m\u001b[0;34m(\u001b[0m\u001b[0;34m)\u001b[0m\u001b[0;34m\u001b[0m\u001b[0;34m\u001b[0m\u001b[0m\n\u001b[0;32m----> 4\u001b[0;31m \u001b[0mprint\u001b[0m\u001b[0;34m(\u001b[0m\u001b[0mget_circumference\u001b[0m\u001b[0;34m(\u001b[0m\u001b[0mradius\u001b[0m\u001b[0;34m)\u001b[0m\u001b[0;34m)\u001b[0m\u001b[0;34m\u001b[0m\u001b[0;34m\u001b[0m\u001b[0m\n\u001b[0m\u001b[1;32m      5\u001b[0m \u001b[0mprint\u001b[0m\u001b[0;34m(\u001b[0m\u001b[0mget_cricle_are\u001b[0m\u001b[0;34m(\u001b[0m\u001b[0marea\u001b[0m\u001b[0;34m)\u001b[0m\u001b[0;34m)\u001b[0m\u001b[0;34m\u001b[0m\u001b[0;34m\u001b[0m\u001b[0m\n\u001b[1;32m      6\u001b[0m \u001b[0;34m\u001b[0m\u001b[0m\n",
      "\u001b[0;31mNameError\u001b[0m: name 'get_circumference' is not defined"
     ]
    }
   ],
   "source": [
    "#코드 본문\n",
    "\n",
    "radius = number_input()\n",
    "print(get_circumference(radius))\n",
    "print(get_cricle_are(area))\n",
    "\n"
   ]
  },
  {
   "cell_type": "markdown",
   "id": "d1ab2723",
   "metadata": {},
   "source": [
    "# 코드 유지보수\n",
    "\n",
    " 함수를 활용하면 코드를 유지보수 할때도 도움이 됩니다. \n",
    " \n",
    " "
   ]
  },
  {
   "cell_type": "code",
   "execution_count": 28,
   "id": "3ef37d8e",
   "metadata": {},
   "outputs": [],
   "source": [
    "def get_circumference(radius):\n",
    "    return 2 * 3.14 * radius\n",
    "def get_circle_area(radius):\n",
    "    return 3.14 * radius * radius\n"
   ]
  },
  {
   "cell_type": "code",
   "execution_count": null,
   "id": "ed5a3ee8",
   "metadata": {},
   "outputs": [],
   "source": [
    "# 3.14 를 변수로 만들어 가독성을 높이자\n",
    "\n",
    "PI = 3.14\n",
    "\n",
    "def get_circumference(radius):\n",
    "    return 2 * PI * radius\n",
    "\n",
    "def get_circle_are(radius):\n",
    "    return PI * radius * radius\n",
    "\n",
    "# 코드가 길어져서 싫을수 있다\n",
    "# 하지만 3.14의 정밀도를 올리고싶어서 3.14592로 변경해주세요 한다면\n",
    "# PI 값만 바꾸면 손쉽게 적은 실수를 하고 수정할 수 있다.\n",
    "\n"
   ]
  },
  {
   "cell_type": "code",
   "execution_count": 29,
   "id": "1a9d1c41",
   "metadata": {},
   "outputs": [
    {
     "name": "stdout",
     "output_type": "stream",
     "text": [
      "<p>안녕하세요.</p>\n",
      "<p>간단한 HTML 태그를 만드는 예입니다.</p>\n"
     ]
    }
   ],
   "source": [
    "# 함수도 마찬가지입니ㅏ. \n",
    "# 함수를 사용하지 않은 경우\n",
    "print (\"<p>{}</p>\".format('안녕하세요.'))\n",
    "print (\"<p>{}</p>\".format('간단한 HTML 태그를 만드는 예입니다.'))\n"
   ]
  },
  {
   "cell_type": "markdown",
   "id": "7664a01f",
   "metadata": {},
   "source": [
    "## 확인문제"
   ]
  },
  {
   "cell_type": "markdown",
   "id": "a36d768d",
   "metadata": {},
   "source": [
    "다음 빈칸을 재귀 함수로 만들어서 리스트를 평탄화하는 함수 만드세요.\n"
   ]
  },
  {
   "cell_type": "code",
   "execution_count": 32,
   "id": "e66473c4",
   "metadata": {},
   "outputs": [],
   "source": [
    "# 이 문제를 풀때 리스트의 데이터가 리스트인지 아닌지 구분할수 있어야 합니다.\n",
    "# type 함수를 사용해서 자료형을 판별하세요\n"
   ]
  },
  {
   "cell_type": "code",
   "execution_count": null,
   "id": "ec5ffd7d",
   "metadata": {},
   "outputs": [],
   "source": [
    "def flatten(data):\n",
    "    \n",
    "    초기\n",
    "    if type(data) == list "
   ]
  },
  {
   "cell_type": "code",
   "execution_count": 38,
   "id": "feb190c3",
   "metadata": {},
   "outputs": [
    {
     "name": "stdout",
     "output_type": "stream",
     "text": [
      "[[1, 2, 3], [4, [5, 6], 7, [8, 9]]]\n",
      "[1, 2, 3, 4, 5, 6, 7, 8, 9]\n"
     ]
    }
   ],
   "source": [
    "def flatten(data):\n",
    "    output = []\n",
    "    for item in data:\n",
    "        if type(item) == list:\n",
    "            output += flatten(item)\n",
    "        else:\n",
    "            output.append(item)\n",
    "    return output\n",
    "example=[[1,2,3], [4,[5,6],7, [8,9]]]\n",
    "print(example)\n",
    "print(flatten(example))\n",
    "           "
   ]
  },
  {
   "cell_type": "code",
   "execution_count": 39,
   "id": "ab62fd56",
   "metadata": {},
   "outputs": [],
   "source": [
    "# 레스토랑에서 여러개의 테이블을 나누려고 합니다.\n",
    "# 한 사람만 테이블이 없게 만듭시다\n",
    "# 한개의 테이블에 앉을 수 있는 최대 사람의 수는 10명입니다.\n",
    "#100명의 사람이 하나 이상의 테이블에 나누어 앉는 패턴을 구하세요.\n",
    "\n"
   ]
  },
  {
   "cell_type": "code",
   "execution_count": 40,
   "id": "b06a8a66",
   "metadata": {},
   "outputs": [
    {
     "name": "stdout",
     "output_type": "stream",
     "text": [
      "1\n"
     ]
    }
   ],
   "source": [
    "# 최소 사람의 수 : 2\n",
    "# 최대 사람의 수 : 10\n",
    "# 전체 100\n",
    "\n",
    "memo = {}\n",
    "\n",
    "def 문제(left, sit):\n",
    "    key = str([left, sit])\n",
    "    \n",
    "    if key in memo:\n",
    "        return memo[key]\n",
    "    if left < 0 :\n",
    "        return 0\n",
    "    if left == 0:\n",
    "        return 1\n",
    "    count =0\n",
    "    for i in range(sit, sit+1):\n",
    "        count +=문제(left - i, i)\n",
    "    #메모화처리\n",
    "    memo[key] = count\n",
    "    # 종료\n",
    "    return count\n",
    "print(문제(100,10))"
   ]
  }
 ],
 "metadata": {
  "kernelspec": {
   "display_name": "Python 3",
   "language": "python",
   "name": "python3"
  },
  "language_info": {
   "codemirror_mode": {
    "name": "ipython",
    "version": 3
   },
   "file_extension": ".py",
   "mimetype": "text/x-python",
   "name": "python",
   "nbconvert_exporter": "python",
   "pygments_lexer": "ipython3",
   "version": "3.8.8"
  }
 },
 "nbformat": 4,
 "nbformat_minor": 5
}
