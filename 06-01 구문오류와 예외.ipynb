{
 "cells": [
  {
   "cell_type": "markdown",
   "id": "38980788",
   "metadata": {},
   "source": [
    "# 핵심이 되는 키워드\n",
    "\n",
    "## 구문 오류,예외(런타임 에러), 기본 예외 처리,  try except 구문"
   ]
  },
  {
   "cell_type": "markdown",
   "id": "db7a47b9",
   "metadata": {},
   "source": [
    "프로그래밍 언어의 오류 \n",
    "    -프로그램 실행 전에 발생하는 오류 -> 구문오류  syntax error \n",
    "    -프로그램 실행 중에 발생하는 오류 -> exception runtime error \n",
    " \n",
    "\n",
    " "
   ]
  },
  {
   "cell_type": "markdown",
   "id": "fd1ce3a1",
   "metadata": {},
   "source": [
    "## The types of syntax error\n",
    "\n"
   ]
  },
  {
   "cell_type": "code",
   "execution_count": 2,
   "id": "cef45384",
   "metadata": {},
   "outputs": [
    {
     "ename": "SyntaxError",
     "evalue": "EOL while scanning string literal (<ipython-input-2-a480e8307f75>, line 1)",
     "output_type": "error",
     "traceback": [
      "\u001b[0;36m  File \u001b[0;32m\"<ipython-input-2-a480e8307f75>\"\u001b[0;36m, line \u001b[0;32m1\u001b[0m\n\u001b[0;31m    print(\"# 예외를 강제로 발생시키)\u001b[0m\n\u001b[0m                          ^\u001b[0m\n\u001b[0;31mSyntaxError\u001b[0m\u001b[0;31m:\u001b[0m EOL while scanning string literal\n"
     ]
    }
   ],
   "source": [
    "print(\"# 예외를 강제로 발생시키)"
   ]
  },
  {
   "cell_type": "code",
   "execution_count": 3,
   "id": "7d8c6a54",
   "metadata": {},
   "outputs": [],
   "source": [
    "# EOL == End of Line\n",
    "# SyntaxError 구문자체에 문제가 있어 프로그램이 실행조차 되지 않는것을 말함."
   ]
  },
  {
   "cell_type": "code",
   "execution_count": 4,
   "id": "9dbad17b",
   "metadata": {},
   "outputs": [
    {
     "name": "stdout",
     "output_type": "stream",
     "text": [
      "# The program is now running\n"
     ]
    },
    {
     "ename": "NameError",
     "evalue": "name 'list_a' is not defined",
     "output_type": "error",
     "traceback": [
      "\u001b[0;31m---------------------------------------------------------------------------\u001b[0m",
      "\u001b[0;31mNameError\u001b[0m                                 Traceback (most recent call last)",
      "\u001b[0;32m<ipython-input-4-39eba954b76a>\u001b[0m in \u001b[0;36m<module>\u001b[0;34m\u001b[0m\n\u001b[1;32m      2\u001b[0m \u001b[0;34m\u001b[0m\u001b[0m\n\u001b[1;32m      3\u001b[0m \u001b[0mprint\u001b[0m\u001b[0;34m(\u001b[0m\u001b[0;34m\"# The program is now running\"\u001b[0m\u001b[0;34m)\u001b[0m\u001b[0;34m\u001b[0m\u001b[0;34m\u001b[0m\u001b[0m\n\u001b[0;32m----> 4\u001b[0;31m \u001b[0mlist_a\u001b[0m\u001b[0;34m[\u001b[0m\u001b[0;36m1\u001b[0m\u001b[0;34m]\u001b[0m\u001b[0;34m\u001b[0m\u001b[0;34m\u001b[0m\u001b[0m\n\u001b[0m",
      "\u001b[0;31mNameError\u001b[0m: name 'list_a' is not defined"
     ]
    }
   ],
   "source": [
    "# 예외\n",
    "\n",
    "print(\"# The program is now running\")\n",
    "list_a[1]"
   ]
  },
  {
   "cell_type": "code",
   "execution_count": null,
   "id": "638f6f7c",
   "metadata": {},
   "outputs": [],
   "source": [
    "# like this example, the error while running your program ,which we call \"exception\" or \"runtime error\""
   ]
  },
  {
   "cell_type": "markdown",
   "id": "1d06b4b3",
   "metadata": {},
   "source": [
    "## 기본 예외 처리\n",
    "\n",
    "예외를 해결하는 모든 것을 예외 처리라고 부릅니다. 예외를 처리하는 방법은 다음 두가지로 나뉩니다.\n",
    "\n",
    "조건문을 사용하는 방법\n",
    "try구문을 사용하는 방법 "
   ]
  },
  {
   "cell_type": "code",
   "execution_count": 5,
   "id": "a7a28b50",
   "metadata": {},
   "outputs": [
    {
     "name": "stdout",
     "output_type": "stream",
     "text": [
      "Type integer>24\n",
      "원의 반지름: 24\n",
      "원의 둘레: 150.72\n",
      "원의 넓이: 75.36\n"
     ]
    }
   ],
   "source": [
    "# 예외가 발생할 수 있는 코드\n",
    "\n",
    "number_input_a = int(input(\"Type integer>\"))\n",
    "print(\"원의 반지름:\", number_input_a)\n",
    "print(\"원의 둘레:\", 2*3.14*number_input_a)\n",
    "print(\"원의 넓이:\", 3.14 *number_input_a)\n"
   ]
  },
  {
   "cell_type": "code",
   "execution_count": null,
   "id": "b2af6b4e",
   "metadata": {},
   "outputs": [],
   "source": []
  },
  {
   "cell_type": "code",
   "execution_count": 6,
   "id": "03647bcf",
   "metadata": {},
   "outputs": [
    {
     "name": "stdout",
     "output_type": "stream",
     "text": [
      "Type integer>7센티\n"
     ]
    },
    {
     "ename": "ValueError",
     "evalue": "invalid literal for int() with base 10: '7센티'",
     "output_type": "error",
     "traceback": [
      "\u001b[0;31m---------------------------------------------------------------------------\u001b[0m",
      "\u001b[0;31mValueError\u001b[0m                                Traceback (most recent call last)",
      "\u001b[0;32m<ipython-input-6-f075f1b1e10f>\u001b[0m in \u001b[0;36m<module>\u001b[0;34m\u001b[0m\n\u001b[1;32m      1\u001b[0m \u001b[0;31m# 예외가 발생할 수 있는 코드\u001b[0m\u001b[0;34m\u001b[0m\u001b[0;34m\u001b[0m\u001b[0;34m\u001b[0m\u001b[0m\n\u001b[1;32m      2\u001b[0m \u001b[0;34m\u001b[0m\u001b[0m\n\u001b[0;32m----> 3\u001b[0;31m \u001b[0mnumber_input_a\u001b[0m \u001b[0;34m=\u001b[0m \u001b[0mint\u001b[0m\u001b[0;34m(\u001b[0m\u001b[0minput\u001b[0m\u001b[0;34m(\u001b[0m\u001b[0;34m\"Type integer>\"\u001b[0m\u001b[0;34m)\u001b[0m\u001b[0;34m)\u001b[0m\u001b[0;34m\u001b[0m\u001b[0;34m\u001b[0m\u001b[0m\n\u001b[0m\u001b[1;32m      4\u001b[0m \u001b[0mprint\u001b[0m\u001b[0;34m(\u001b[0m\u001b[0;34m\"원의 반지름:\"\u001b[0m\u001b[0;34m,\u001b[0m \u001b[0mnumber_input_a\u001b[0m\u001b[0;34m)\u001b[0m\u001b[0;34m\u001b[0m\u001b[0;34m\u001b[0m\u001b[0m\n\u001b[1;32m      5\u001b[0m \u001b[0mprint\u001b[0m\u001b[0;34m(\u001b[0m\u001b[0;34m\"원의 둘레:\"\u001b[0m\u001b[0;34m,\u001b[0m \u001b[0;36m2\u001b[0m\u001b[0;34m*\u001b[0m\u001b[0;36m3.14\u001b[0m\u001b[0;34m*\u001b[0m\u001b[0mnumber_input_a\u001b[0m\u001b[0;34m)\u001b[0m\u001b[0;34m\u001b[0m\u001b[0;34m\u001b[0m\u001b[0m\n",
      "\u001b[0;31mValueError\u001b[0m: invalid literal for int() with base 10: '7센티'"
     ]
    }
   ],
   "source": [
    "# 예외가 발생할 수 있는 코드\n",
    "\n",
    "number_input_a = int(input(\"Type integer>\"))\n",
    "print(\"원의 반지름:\", number_input_a)\n",
    "print(\"원의 둘레:\", 2*3.14*number_input_a)\n",
    "print(\"원의 넓이:\", 3.14 *number_input_a)"
   ]
  },
  {
   "cell_type": "code",
   "execution_count": 12,
   "id": "aaf7b489",
   "metadata": {},
   "outputs": [
    {
     "name": "stdout",
     "output_type": "stream",
     "text": [
      "Please type integer here> 7센티\n",
      "you havent type integer here.\n"
     ]
    }
   ],
   "source": [
    "# 조건문으로 예외 처리하기\n",
    "\n",
    "user_input_a = input(\"Please type integer here> \")\n",
    "\n",
    "# 사용자 입력이 숫자로만 구성되어 있을 때\n",
    "if user_input_a.isdigit():\n",
    "    number_input_a = (int(user_input_a))\n",
    "    #print it\n",
    "    print(\"the radius of a circle:\", number_input_a)\n",
    "    print(\"circumference:\", 2*3.14*number_input_a)\n",
    "    print(\"area of circle:\", 3.14 *number_input_a*number_input_a)\n",
    "else:\n",
    "    print(\"you havent type integer here.\")\n",
    "    "
   ]
  },
  {
   "cell_type": "code",
   "execution_count": 14,
   "id": "2cd59437",
   "metadata": {},
   "outputs": [
    {
     "name": "stdout",
     "output_type": "stream",
     "text": [
      "type inter here7centi\n",
      "something is wrong\n"
     ]
    }
   ],
   "source": [
    "# 하지만 예외가 발생할 상황을 모두 예측하고 이를 if statement로 작성하긴 어렵다\n",
    "# 따라서 다음과 같은 구무을 사용한다.\n",
    "\n",
    "try:\n",
    "        number_input_a = int(input(\"type inter here\"))\n",
    "        print(\"the radius of a circle:\", number_input_a)\n",
    "        print(\"circumference:\", 2*3.14*number_input_a)\n",
    "        print(\"area of circle:\", 3.14 *number_input_a*number_input_a)\n",
    "except:\n",
    "    print(\"something is wrong\")\n",
    "\n",
    "# 적어도 프로그래밍이 죽는 사태를 미연에 막을 수 있다. "
   ]
  },
  {
   "cell_type": "markdown",
   "id": "4443e272",
   "metadata": {},
   "source": [
    "## try except and pass key word\n",
    "\n",
    "프로그래밍을 하다보면 이유는 정확히 모르겠지만, 어떤 부분에서 예외가 발생하는지 정도는 파악 할 수 있는 상황이 있습니다.\n",
    "예외가 발생하면 일단 처리해야하지만, 해당 코드가 딱히 중요한 부분이 아니라면 프로그램이 강제 종료되는 것부터 막자는 목적으로\n",
    "except 구문에 아무것도 넣지않고 try구문을 사용하게됩니다. 하지만 아무것도 넣지 않으면 구문 오류가 발생함으로 다음과 같이\n",
    "pass  키워드를 넣습니다."
   ]
  },
  {
   "cell_type": "code",
   "execution_count": 16,
   "id": "28dea1dd",
   "metadata": {},
   "outputs": [
    {
     "name": "stdout",
     "output_type": "stream",
     "text": [
      "['52', '273', '32', 'spy', '103'] 내부에 있는 숫자는 \n",
      "['52', '273', '32', '103'] 입니다\n"
     ]
    }
   ],
   "source": [
    "# 숫자로 변환되는 것들만 리스트에 넣기\n",
    "\n",
    "# 변수 선언\n",
    "list_input_a = ['52','273', '32','spy','103']\n",
    "    \n",
    "# 반복을 적용합니다.\n",
    "\n",
    "list_number = []\n",
    "\n",
    "for item in list_input_a:\n",
    "    try:\n",
    "        float(item) # 예외가 발생하면 알아서 다음으로 진행은 안되겠지?\n",
    "        list_number.append(item) # 예외없이 통과했으면 리슽에 넣어줘!\n",
    "    except:\n",
    "        pass\n",
    "\n",
    "#print it out\n",
    "\n",
    "print(\"{} 내부에 있는 숫자는 \".format(list_input_a))\n",
    "print(\"{} 입니다\".format(list_number))\n"
   ]
  },
  {
   "cell_type": "markdown",
   "id": "a460fc01",
   "metadata": {},
   "source": [
    "숫자를 반활할수 없는 문자열이라면 float() 사용시 예외가 발생됨\n",
    "따라서 이를 이용해서 try except 구문으로 감싸고 예외가 발생하지 않는 경우에만 list_number.append(itme)\n",
    "가 실행되도록 한다. \n",
    "\n",
    "-if 구문보다 속도적으로 느리다."
   ]
  },
  {
   "cell_type": "markdown",
   "id": "fe301327",
   "metadata": {},
   "source": [
    "## try except else 구문\n",
    "\n",
    "예외가 발생하지 않았을 때 실행될 코드 \n"
   ]
  },
  {
   "cell_type": "code",
   "execution_count": 18,
   "id": "fdb36ff0",
   "metadata": {},
   "outputs": [
    {
     "name": "stdout",
     "output_type": "stream",
     "text": [
      "type integer here224\n",
      "the radius of a circle: 224\n",
      "circumference: 1406.72\n",
      "area of circle: 157552.64\n"
     ]
    }
   ],
   "source": [
    "#try except else\n",
    "\n",
    "try:\n",
    "    number_input_a = int(input(\"type integer here\"))\n",
    "\n",
    "except:\n",
    "    print(\"you didnt type inegere\")\n",
    "\n",
    "else:\n",
    "      print(\"the radius of a circle:\", number_input_a)\n",
    "      print(\"circumference:\", 2*3.14*number_input_a)\n",
    "      print(\"area of circle:\", 3.14 *number_input_a*number_input_a)"
   ]
  },
  {
   "cell_type": "markdown",
   "id": "fe4f13a8",
   "metadata": {},
   "source": [
    "## finally 구문\n",
    "\n",
    "try:\n",
    "    예외가 발생할 가능성이 있는 코드\n",
    "    \n",
    "except:\n",
    "    예외가 발생했을 떄 실행할 코드\n",
    "    \n",
    "else:\n",
    "    예외가 발생하지 않았을 떄 실행할 코드\n",
    "    \n",
    "finally:\n",
    "    무조건 실행할 코드\n"
   ]
  },
  {
   "cell_type": "code",
   "execution_count": 19,
   "id": "736090fe",
   "metadata": {},
   "outputs": [
    {
     "name": "stdout",
     "output_type": "stream",
     "text": [
      "정수입력 >244\n",
      "원의 반지름 244\n",
      "원의 둘레: 1532.3200000000002\n",
      "원의 넓이: 186943.04\n",
      "예외가 발생하지 않았습니다.\n",
      "일단 프로그램이 끝났습니다.\n"
     ]
    }
   ],
   "source": [
    "try:\n",
    "    number_input_a = int(input(\"정수입력 >\"))\n",
    "    \n",
    "    #출력합니다.\n",
    "    print(\"원의 반지름\", number_input_a)\n",
    "    print(\"원의 둘레:\", 2*3.14*number_input_a)\n",
    "    print(\"원의 넓이:\", 3.14 * number_input_a* number_input_a)\n",
    "except:\n",
    "    print(\"정수가 입력되지 않았습니다.\")\n",
    "else:\n",
    "    print(\"예외가 발생하지 않았습니다.\")\n",
    "finally:\n",
    "    print(\"일단 프로그램이 끝났습니다.\")"
   ]
  },
  {
   "cell_type": "code",
   "execution_count": 20,
   "id": "54c8a82e",
   "metadata": {},
   "outputs": [
    {
     "name": "stdout",
     "output_type": "stream",
     "text": [
      "정수입력 >ㅓㅕㅜㅎ내\n",
      "정수가 입력되지 않았습니다.\n",
      "일단 프로그램이 끝났습니다.\n"
     ]
    }
   ],
   "source": [
    "try:\n",
    "    number_input_a = int(input(\"정수입력 >\"))\n",
    "    \n",
    "    #출력합니다.\n",
    "    print(\"원의 반지름\", number_input_a)\n",
    "    print(\"원의 둘레:\", 2*3.14*number_input_a)\n",
    "    print(\"원의 넓이:\", 3.14 * number_input_a* number_input_a)\n",
    "except:\n",
    "    print(\"정수가 입력되지 않았습니다.\")\n",
    "else:\n",
    "    print(\"예외가 발생하지 않았습니다.\")\n",
    "finally:\n",
    "    print(\"일단 프로그램이 끝났습니다.\")\n",
    "    \n",
    "    "
   ]
  },
  {
   "cell_type": "markdown",
   "id": "7cefe6e5",
   "metadata": {},
   "source": [
    "## 예외 처리구문의 규칙\n",
    "    -try 구문은 단독으로 사용 할 수 없으며, 반드시 except 구문 또는 finally 구문과 함께 사용해야합니다.\n",
    "    \n",
    "    -else 구문은 반드시 except 구문 뒤에 사용해야 합니다.\n",
    "    \n",
    "    -사용가능한 조합\n",
    "        \n",
    "        -try+ except\n",
    "        -try+except + else\n",
    "        -try+ except + finally\n",
    "        -try+ except + else + finally\n",
    "        -try + finally\n",
    "        \n"
   ]
  },
  {
   "cell_type": "code",
   "execution_count": 21,
   "id": "81db587b",
   "metadata": {},
   "outputs": [
    {
     "name": "stdout",
     "output_type": "stream",
     "text": [
      "파일이 제대로 닫혔는지 확인하기\n",
      "file.closed: True\n"
     ]
    }
   ],
   "source": [
    "# 파일이 제대로 닫혔는지 확인하기\n",
    "\n",
    "\n",
    "try:\n",
    "    file = open(\"source/info.txt\", \"w\")\n",
    "    #여러 가지 처리를 수행합니다.\n",
    "    #파일을 닫습니다.\n",
    "    file.close()\n",
    "except Exception as e:\n",
    "    print(e)\n",
    "\n",
    "print(\"파일이 제대로 닫혔는지 확인하기\")\n",
    "print(\"file.closed:\", file.closed)"
   ]
  },
  {
   "cell_type": "code",
   "execution_count": 23,
   "id": "22834eaf",
   "metadata": {},
   "outputs": [
    {
     "name": "stdout",
     "output_type": "stream",
     "text": [
      "name 'exception' is not defined\n",
      "파일이 제대로 닫혔는지 확인하기\n",
      "file.closed: False\n"
     ]
    }
   ],
   "source": [
    "# 파일 처리 중간에 예외 발생\n",
    "\n",
    "try:\n",
    "    \n",
    "    file = open(\"source/info.txt\", \"w\")\n",
    "    exception.happen()\n",
    "    file.close()\n",
    "except Exception as e:\n",
    "    print(e)\n",
    "\n",
    "print(\"파일이 제대로 닫혔는지 확인하기\")\n",
    "print(\"file.closed:\", file.closed)\n",
    "\n"
   ]
  },
  {
   "cell_type": "code",
   "execution_count": 24,
   "id": "0b13b951",
   "metadata": {},
   "outputs": [
    {
     "name": "stdout",
     "output_type": "stream",
     "text": [
      "name '예외' is not defined\n",
      "파일이 제대로 닫혔는지 확인하기\n",
      "file.closed: True\n"
     ]
    }
   ],
   "source": [
    "# 이를 통해 파일이 닫히지 않았다는것 을 확인 이를 위해서 finally statement is important\n",
    "\n",
    "try:\n",
    "    file = open(\"info.txt\", \"w\")\n",
    "    예외.발생해라()\n",
    "except Exception as e:\n",
    "    print(e)\n",
    "finally:\n",
    "    file.close()\n",
    "print(\"파일이 제대로 닫혔는지 확인하기\")\n",
    "print(\"file.closed:\", file.closed)\n",
    "    "
   ]
  },
  {
   "cell_type": "code",
   "execution_count": 25,
   "id": "8320e32a",
   "metadata": {},
   "outputs": [
    {
     "name": "stdout",
     "output_type": "stream",
     "text": [
      "name '예외' is not defined\n",
      "파일이 제대로 닫혔는지 확인하기\n",
      "file.closed: True\n"
     ]
    }
   ],
   "source": [
    "# try except구문이후 파일닫기를 담아서 굳이 Finally를 사용해서 닫지 않기\n",
    "\n",
    "try:\n",
    "    file = open(\"info.txt\", \"w\")\n",
    "    예외.발생해라()\n",
    "except Exception as e:\n",
    "    print(e)\n",
    "\n",
    "    \n",
    "file.close()\n",
    "print(\"파일이 제대로 닫혔는지 확인하기\")\n",
    "print(\"file.closed:\", file.closed)\n",
    "    "
   ]
  },
  {
   "cell_type": "code",
   "execution_count": 26,
   "id": "8ceb58b4",
   "metadata": {},
   "outputs": [
    {
     "name": "stdout",
     "output_type": "stream",
     "text": [
      "test 함수의 첫번쨰 라인입니다.\n",
      "try statement is now running.\n",
      "fianlly statement is now running.\n"
     ]
    }
   ],
   "source": [
    "# test()함수를 선언합니다.\n",
    "\n",
    "def test():\n",
    "    print(\"test 함수의 첫번쨰 라인입니다.\")\n",
    "    \n",
    "    try:\n",
    "        print(\"try statement is now running.\")\n",
    "        return\n",
    "        print(\"it's after return keyword\")\n",
    "    except:\n",
    "        print(\"except statement is running\")\n",
    "    else:\n",
    "        print(\"else statement is running.\")\n",
    "    finally:\n",
    "        print(\"fianlly statement is now running.\")\n",
    "    print(\"this is the last line of test func()\")\n",
    "\n",
    "test()\n"
   ]
  },
  {
   "cell_type": "markdown",
   "id": "05c32e35",
   "metadata": {},
   "source": [
    "try 구문 내부에 리턴 키워드가 있다는것이 포인트. try 구문 중간에서 탈출해도 finally 구문은 무조건 실행된다.\n",
    "따라서 함수 내부에서 파일 처리 코드를 깔끔하게 만들고 싶을 때 finally 구문을 활용하는 경우가 많습니다. \n",
    "try 구문에서 원할 떄 return 키워드로 빠져나가도 파일이 무조건 닫히기 때문입니다. "
   ]
  },
  {
   "cell_type": "code",
   "execution_count": 29,
   "id": "b8f8c98f",
   "metadata": {},
   "outputs": [],
   "source": [
    "# finally 키워드 활용\n",
    "\n",
    "def write_test_file(filename, test):\n",
    "    \n",
    "    try:\n",
    "        \n",
    "        file=open(filename, 'w')\n",
    "        \n",
    "        return\n",
    "        \n",
    "        file.write(text)\n",
    "    except Exception as e:\n",
    "        print(e)\n",
    "    finally:\n",
    "        file.close()\n",
    "\n",
    "write_test_file(\"source/test.txt\", \"hello\")\n",
    "\n"
   ]
  },
  {
   "cell_type": "code",
   "execution_count": 30,
   "id": "31768410",
   "metadata": {},
   "outputs": [
    {
     "name": "stdout",
     "output_type": "stream",
     "text": [
      "프로그램이 시작되었습니다.\n",
      "try 구문이 실행되었습니다.\n",
      "finally 구문이 실행되었습니다.\n",
      "프로그램이 종료되었습니다.\n"
     ]
    }
   ],
   "source": [
    "# 반복문과 함께 사용되는 경우\n",
    "\n",
    "print(\"프로그램이 시작되었습니다.\")\n",
    "\n",
    "while True:\n",
    "    try:\n",
    "        print(\"try 구문이 실행되었습니다.\")\n",
    "        break\n",
    "        print('try 구문의 break 키워드 뒤입니다.')\n",
    "    except:\n",
    "        print('except 구문이 실행되었습니다.')\n",
    "    finally:\n",
    "        print(\"finally 구문이 실행되었습니다.\")\n",
    "    print(\"while 반복문의 마지막 줄입니다.\")\n",
    "print(\"프로그램이 종료되었습니다.\")"
   ]
  },
  {
   "cell_type": "code",
   "execution_count": null,
   "id": "34419ee7",
   "metadata": {},
   "outputs": [],
   "source": []
  },
  {
   "cell_type": "code",
   "execution_count": null,
   "id": "b30c1735",
   "metadata": {},
   "outputs": [],
   "source": []
  },
  {
   "cell_type": "code",
   "execution_count": null,
   "id": "ecdfe7bd",
   "metadata": {},
   "outputs": [],
   "source": []
  }
 ],
 "metadata": {
  "kernelspec": {
   "display_name": "Python 3",
   "language": "python",
   "name": "python3"
  },
  "language_info": {
   "codemirror_mode": {
    "name": "ipython",
    "version": 3
   },
   "file_extension": ".py",
   "mimetype": "text/x-python",
   "name": "python",
   "nbconvert_exporter": "python",
   "pygments_lexer": "ipython3",
   "version": "3.8.8"
  }
 },
 "nbformat": 4,
 "nbformat_minor": 5
}
